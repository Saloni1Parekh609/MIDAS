{
 "cells": [
  {
   "cell_type": "markdown",
   "metadata": {
    "id": "UOmHTi5wR4ky"
   },
   "source": [
    "#Implementation of Point 3\n",
    "------\n",
    "##Definition of Point 3\n",
    "Finally, take the following dataset (https://www.dropbox.com/s/otc12z2w7f7xm8z/mnistTask3.zip), train on this dataset and provide test accuracy on the MNIST test set, using the same test split from part 2. Train using scratch random initialization and using the pretrained network part 1. Do the same analysis as 2 and report what happens this time. Try and do qualitative analysis of what's different in this dataset. Please save your model checkpoints.\n",
    "\n",
    "###Solution\n",
    "This notebook contains the model that was trained in [Point 1](https://colab.research.google.com/drive/1MduA8ikMpBl8XkuycKyh5m4twVar06S4?usp=sharing) being **finetuned**. The model is trained on a revised dataset and is tested on MNIST.\n",
    "###Model Architecture\n",
    "\n",
    "<font size=3px>\n",
    "1. Conv(1, 32) -> ReLU -> Dropout -> Maxpool</br>\n",
    "2. Conv(32, 64) -> ReLU -> Dropout -> Maxpool</br>\n",
    "3. Conv(64, 128) -> ReLU -> Dropout -> Maxpool</br>\n",
    "4. Conv(128, 256) -> ReLU -> Dropout -> Maxpool</br>\n",
    "5. Conv(256, 512) -> ReLU -> Dropout -> Maxpool</br>\n",
    "6. Transformer Encoder Layer</br>\n",
    "7. Transformer Encoder Layer</br>\n",
    "8. Transformer Encoder Layer</br>\n",
    "9. Fully Connected Layer (512, 10)</br>\n",
    "</font>\n",
    "\n",
    "<font color='blue'>Optimizer</font>: Adam (lr: 0.0001)</br>\n",
    "<font color='blue'>Loss</font>: CrossEntropyLoss</br>\n",
    "\n",
    "\n",
    "**Conclusions**</br>\n",
    "At epoch 20:</br>\n",
    "Training Accuracy: 99.06% \t\n",
    "Validation Accuracy: 99.07%</br>\n",
    "Test Accuracy: 99%\n",
    "\n",
    "If the notebook is being run on the local system, please download the necessary files from the drive link provided in the code cells.</br>\n",
    "<font color=\"blue\">*Please change the links accordingly*</font>\n",
    "\n",
    "\n",
    "\n",
    "<font color='grey'>*The following code is implemented in PyTorch.*</font>\n"
   ]
  },
  {
   "cell_type": "markdown",
   "metadata": {
    "id": "MWWl2HeVSJhR"
   },
   "source": [
    "#Import Libraries"
   ]
  },
  {
   "cell_type": "code",
   "execution_count": null,
   "metadata": {
    "colab": {
     "base_uri": "https://localhost:8080/"
    },
    "executionInfo": {
     "elapsed": 39982,
     "status": "ok",
     "timestamp": 1617879732938,
     "user": {
      "displayName": "Saloni Parekh",
      "photoUrl": "",
      "userId": "12140995592741309675"
     },
     "user_tz": -330
    },
    "id": "zd6OuoVYP3iO",
    "outputId": "c47cd45b-9bf6-4d11-bfe4-0af50afc85a4"
   },
   "outputs": [
    {
     "name": "stdout",
     "output_type": "stream",
     "text": [
      "Mounted at /content/drive\n"
     ]
    }
   ],
   "source": [
    "from google.colab import drive\n",
    "drive.mount('/content/drive')"
   ]
  },
  {
   "cell_type": "code",
   "execution_count": null,
   "metadata": {
    "id": "V-R5KENWQGVc"
   },
   "outputs": [],
   "source": [
    "!pip install pycm"
   ]
  },
  {
   "cell_type": "code",
   "execution_count": null,
   "metadata": {
    "id": "ksr2-VKDQHwI"
   },
   "outputs": [],
   "source": [
    "!cp -r \"/content/drive/MyDrive/MIDAS/Point3/mnistTask.zip\" \"/content/mnistTask.zip\"\n",
    "!unzip mnistTask.zip"
   ]
  },
  {
   "cell_type": "code",
   "execution_count": null,
   "metadata": {
    "id": "GmCypVpDQJGu"
   },
   "outputs": [],
   "source": [
    "import numpy as np\n",
    "import torch\n",
    "import csv\n",
    "from torch import nn\n",
    "import pandas as pd\n",
    "import cv2 as cv\n",
    "from torch.utils.data import DataLoader, Dataset\n",
    "import matplotlib.pyplot as plt\n",
    "import torch.optim as optim\n",
    "import torch.nn.functional as F\n",
    "from sklearn.model_selection import train_test_split\n",
    "from torch.nn import Linear, ReLU, CrossEntropyLoss, Sequential, Conv2d, MaxPool2d, Module, Softmax, BatchNorm2d, Dropout, ZeroPad2d\n",
    "from torchvision import transforms, datasets\n",
    "import shutil\n",
    "from sklearn.metrics import auc, confusion_matrix, classification_report\n",
    "import seaborn as sns\n",
    "from scipy.optimize import brentq\n",
    "from scipy.interpolate import interp1d\n",
    "import random\n",
    "#from pycm import *"
   ]
  },
  {
   "cell_type": "markdown",
   "metadata": {
    "id": "BisqNYimSNBk"
   },
   "source": [
    "#Data Preparation"
   ]
  },
  {
   "cell_type": "code",
   "execution_count": null,
   "metadata": {
    "id": "dqxtjvJaQMc2"
   },
   "outputs": [],
   "source": [
    "def _preprocess(image):\n",
    "    # Preprocssing step\n",
    "    img_transform = transforms.Compose([\n",
    "        transforms.ToPILImage(),\n",
    "        transforms.Resize((200, 200)),\n",
    "        transforms.ToTensor(),\n",
    "        transforms.Normalize((0.5, ), (0.5,))\n",
    "    ])\n",
    "    return img_transform(image)\n",
    "\n",
    "def _preprocess_aug(image):\n",
    "  transform_aug = transforms.Compose([\n",
    "     transforms.ToPILImage(),                                     \n",
    "     transforms.Resize((200, 200)),                                                        \n",
    "     transforms.RandomRotation(20),\n",
    "     #transforms.RandomAffine(0),\n",
    "     transforms.ToTensor(),\n",
    "     transforms.Normalize((0.5, ), (0.5,))\n",
    "    ])\n",
    "\n",
    "  return transform_aug(image)"
   ]
  },
  {
   "cell_type": "code",
   "execution_count": null,
   "metadata": {
    "id": "7kw04NNNQOO0"
   },
   "outputs": [],
   "source": [
    "class Images_train(Dataset):\n",
    "  def __init__(self, df):\n",
    "        self.data = df\n",
    "\n",
    "  def __len__(self):\n",
    "    return len(self.data)\n",
    "\n",
    "  def __getitem__(self, index):\n",
    "    #print(index)\n",
    "    image1 = cv.imread(self.data.iloc[index, 0], cv.IMREAD_GRAYSCALE)\n",
    "    temp=random.randint(0,1)\n",
    "    if temp == 1:\n",
    "      image1 = _preprocess_aug(image1)\n",
    "    else:\n",
    "      image1 = _preprocess(image1)\n",
    "\n",
    "    label = self.data.iloc[index, 1]\n",
    "\n",
    "    return image1, torch.from_numpy(np.array([label], dtype=np.float32))"
   ]
  },
  {
   "cell_type": "code",
   "execution_count": null,
   "metadata": {
    "id": "txP-v9X5QOt2"
   },
   "outputs": [],
   "source": [
    "class Images_test(Dataset):\n",
    "  def __init__(self, df):\n",
    "        self.data = df\n",
    "\n",
    "  def __len__(self):\n",
    "    return len(self.data)\n",
    "\n",
    "  def __getitem__(self, index):\n",
    "    #print(index)\n",
    "    image1 = cv.imread(self.data.iloc[index, 0], cv.IMREAD_GRAYSCALE)\n",
    "    image1 = _preprocess(image1)\n",
    "\n",
    "    label = self.data.iloc[index, 1]\n",
    "\n",
    "    return image1, torch.from_numpy(np.array([label], dtype=np.float32))"
   ]
  },
  {
   "cell_type": "code",
   "execution_count": 3,
   "metadata": {
    "colab": {
     "base_uri": "https://localhost:8080/",
     "height": 204
    },
    "executionInfo": {
     "elapsed": 3437,
     "status": "ok",
     "timestamp": 1617879770678,
     "user": {
      "displayName": "Saloni Parekh",
      "photoUrl": "",
      "userId": "12140995592741309675"
     },
     "user_tz": -330
    },
    "id": "Mk5OcexeQTGS",
    "outputId": "63479b40-d431-4ba9-d990-5a464ac11cd5"
   },
   "outputs": [
    {
     "data": {
      "text/html": [
       "<div>\n",
       "<style scoped>\n",
       "    .dataframe tbody tr th:only-of-type {\n",
       "        vertical-align: middle;\n",
       "    }\n",
       "\n",
       "    .dataframe tbody tr th {\n",
       "        vertical-align: top;\n",
       "    }\n",
       "\n",
       "    .dataframe thead th {\n",
       "        text-align: right;\n",
       "    }\n",
       "</style>\n",
       "<table border=\"1\" class=\"dataframe\">\n",
       "  <thead>\n",
       "    <tr style=\"text-align: right;\">\n",
       "      <th></th>\n",
       "      <th>FilePath</th>\n",
       "      <th>Label</th>\n",
       "    </tr>\n",
       "  </thead>\n",
       "  <tbody>\n",
       "    <tr>\n",
       "      <th>7788</th>\n",
       "      <td>/MIDAS/Notebooks/mnistTask/7/image_056779.jpg</td>\n",
       "      <td>1</td>\n",
       "    </tr>\n",
       "    <tr>\n",
       "      <th>58136</th>\n",
       "      <td>/MIDAS/Notebooks/mnistTask/3/image_000142.jpg</td>\n",
       "      <td>4</td>\n",
       "    </tr>\n",
       "    <tr>\n",
       "      <th>53561</th>\n",
       "      <td>/MIDAS/Notebooks/mnistTask/3/image_052620.jpg</td>\n",
       "      <td>6</td>\n",
       "    </tr>\n",
       "    <tr>\n",
       "      <th>27689</th>\n",
       "      <td>/MIDAS/Notebooks/mnistTask/7/image_013461.jpg</td>\n",
       "      <td>9</td>\n",
       "    </tr>\n",
       "    <tr>\n",
       "      <th>1634</th>\n",
       "      <td>/MIDAS/Notebooks/mnistTask/5/image_059704.jpg</td>\n",
       "      <td>0</td>\n",
       "    </tr>\n",
       "  </tbody>\n",
       "</table>\n",
       "</div>"
      ],
      "text/plain": [
       "                                            FilePath  Label\n",
       "7788   /MIDAS/Notebooks/mnistTask/7/image_056779.jpg      1\n",
       "58136  /MIDAS/Notebooks/mnistTask/3/image_000142.jpg      4\n",
       "53561  /MIDAS/Notebooks/mnistTask/3/image_052620.jpg      6\n",
       "27689  /MIDAS/Notebooks/mnistTask/7/image_013461.jpg      9\n",
       "1634   /MIDAS/Notebooks/mnistTask/5/image_059704.jpg      0"
      ]
     },
     "execution_count": 3,
     "metadata": {},
     "output_type": "execute_result"
    }
   ],
   "source": [
    "df = pd.read_csv(\"/path_to/MIDAS/Notebooks/Point3/dataset_p3.csv\")\n",
    "df[\"FilePath\"] = \"path_to/MIDAS/Notebooks\" + df[\"FilePath\"]\n",
    "df = df.sample(frac = 1)\n",
    "df.head()"
   ]
  },
  {
   "cell_type": "code",
   "execution_count": null,
   "metadata": {
    "colab": {
     "base_uri": "https://localhost:8080/"
    },
    "executionInfo": {
     "elapsed": 2443,
     "status": "ok",
     "timestamp": 1617879779770,
     "user": {
      "displayName": "Saloni Parekh",
      "photoUrl": "",
      "userId": "12140995592741309675"
     },
     "user_tz": -330
    },
    "id": "Rx4ucgd-QWTg",
    "outputId": "e3fe2f6d-a61c-4355-a991-28616837913a"
   },
   "outputs": [
    {
     "name": "stdout",
     "output_type": "stream",
     "text": [
      "images shape on batch size = torch.Size([8, 1, 200, 200])\n",
      "labels shape on batch size = torch.Size([8, 1])\n",
      "images shape on batch size = torch.Size([1, 1, 200, 200])\n",
      "labels shape on batch size = torch.Size([1, 1])\n"
     ]
    }
   ],
   "source": [
    "df_train, df_valid = train_test_split(df, test_size=0.25)\n",
    "\"\"\"df_train = pd.read_csv(\"/content/drive/MyDrive/MIDAS/Point3/train.csv\")\n",
    "df_train = df_train.sample(frac = 1)\n",
    "\n",
    "df_valid = pd.read_csv(\"/content/drive/MyDrive/MIDAS/Point3/valid.csv\")\n",
    "df_valid = df_valid.sample(frac = 1)\"\"\"\n",
    "\n",
    "train_dataset = Images_train(df_train)\n",
    "valid_dataset = Images_test(df_valid)\n",
    "\n",
    "train_loader = DataLoader(train_dataset, batch_size=8, shuffle=True)\n",
    "val_loader = DataLoader(valid_dataset, batch_size=1, shuffle=True)\n",
    "\n",
    "train_iter = iter(train_loader)\n",
    "images1, labels = train_iter.next()\n",
    "print('images shape on batch size = {}'.format(images1.size()))\n",
    "print('labels shape on batch size = {}'.format(labels.size()))\n",
    "\n",
    "val_iter = iter(val_loader)\n",
    "images1, labels = val_iter.next()\n",
    "print('images shape on batch size = {}'.format(images1.size()))\n",
    "print('labels shape on batch size = {}'.format(labels.size()))"
   ]
  },
  {
   "cell_type": "markdown",
   "metadata": {
    "id": "79nNPPVKSc46"
   },
   "source": [
    "###Visualing the data\n",
    "\n",
    "Since this dataset is creating using the predictions from another model, this step is necessary.\n",
    "Here is where the dataset is created: [Point2_Train_Scratch.ipynb](https://colab.research.google.com/drive/1W_n2OE5CFStZ0_nExiW_CekZrHjYcxEO#scrollTo=XF6FuHRO5aCP)"
   ]
  },
  {
   "cell_type": "code",
   "execution_count": null,
   "metadata": {
    "colab": {
     "base_uri": "https://localhost:8080/",
     "height": 149
    },
    "executionInfo": {
     "elapsed": 1303,
     "status": "ok",
     "timestamp": 1617886031289,
     "user": {
      "displayName": "Saloni Parekh",
      "photoUrl": "",
      "userId": "12140995592741309675"
     },
     "user_tz": -330
    },
    "id": "bxfkZiSdfzH3",
    "outputId": "dc0f934f-5286-4b14-a51b-e6eec69b744d"
   },
   "outputs": [
    {
     "data": {
      "image/png": "[encoded data removed]",
      "text/plain": [
       "<Figure size 1800x288 with 8 Axes>"
      ]
     },
     "metadata": {
      "tags": []
     },
     "output_type": "display_data"
    }
   ],
   "source": [
    "# obtain one batch of training images\n",
    "dataiter = iter(train_loader)\n",
    "images, labels = dataiter.next()\n",
    "images = images.numpy()\n",
    "\n",
    "# plot the images in the batch, along with the corresponding labels\n",
    "fig = plt.figure(figsize=(25, 4))\n",
    "for idx in np.arange(8):\n",
    "    ax = fig.add_subplot(2, 20/2, idx+1, xticks=[], yticks=[])\n",
    "    ax.imshow(np.squeeze(images[idx]), cmap='gray')\n",
    "    # print out the correct label for each image\n",
    "    # .item() gets the value contained in a Tensor\n",
    "    ax.set_title(str(labels[idx].item()))"
   ]
  },
  {
   "cell_type": "code",
   "execution_count": null,
   "metadata": {
    "id": "-mM8yzbcS_7s"
   },
   "outputs": [],
   "source": [
    "df_train.to_csv('/content/drive/MyDrive/MIDAS/Point3/train.csv', index = None)\n",
    "df_valid.to_csv('/content/drive/MyDrive/MIDAS/Point3/valid.csv', index = None)"
   ]
  },
  {
   "cell_type": "code",
   "execution_count": null,
   "metadata": {
    "colab": {
     "base_uri": "https://localhost:8080/"
    },
    "executionInfo": {
     "elapsed": 3956,
     "status": "ok",
     "timestamp": 1617879791616,
     "user": {
      "displayName": "Saloni Parekh",
      "photoUrl": "",
      "userId": "12140995592741309675"
     },
     "user_tz": -330
    },
    "id": "WBPa37hBQZ-5",
    "outputId": "927f2e34-5112-4fe1-e814-0179aeaf5443"
   },
   "outputs": [
    {
     "name": "stdout",
     "output_type": "stream",
     "text": [
      "images shape on batch size = torch.Size([64, 1, 200, 200])\n",
      "labels shape on batch size = torch.Size([64])\n"
     ]
    }
   ],
   "source": [
    "img_transform = transforms.Compose([\n",
    "        #transforms.ToPILImage(),\n",
    "        transforms.Resize((200, 200)),\n",
    "        transforms.ToTensor(),\n",
    "        transforms.Normalize((0.5, ), (0.5,))\n",
    "    ])\n",
    "\n",
    "testset = datasets.MNIST('path_to/MIDAS/Notebooks/Point2/MNIST', download=True, train=False, transform=img_transform)\n",
    "test_loader = torch.utils.data.DataLoader(testset, batch_size=64, shuffle=True)\n",
    "\n",
    "val_iter = iter(test_loader)\n",
    "images1, labels = val_iter.next()\n",
    "print('images shape on batch size = {}'.format(images1.size()))\n",
    "print('labels shape on batch size = {}'.format(labels.size()))"
   ]
  },
  {
   "cell_type": "markdown",
   "metadata": {
    "id": "tfup-aOZSexH"
   },
   "source": [
    "#Model Creation\n",
    "\n",
    "<font size=3px>\n",
    "1. Conv(1, 32) -> ReLU -> Dropout -> Maxpool</br>\n",
    "2. Conv(32, 64) -> ReLU -> Dropout -> Maxpool</br>\n",
    "3. Conv(64, 128) -> ReLU -> Dropout -> Maxpool</br>\n",
    "4. Conv(128, 256) -> ReLU -> Dropout -> Maxpool</br>\n",
    "5. Conv(256, 512) -> ReLU -> Dropout -> Maxpool</br>\n",
    "6. Transformer Encoder Layer</br>\n",
    "7. Transformer Encoder Layer</br>\n",
    "8. Transformer Encoder Layer</br>\n",
    "9. Fully Connected Layer (512, 10)</br>\n",
    "</font>"
   ]
  },
  {
   "cell_type": "code",
   "execution_count": null,
   "metadata": {
    "id": "vqOdZz5QQnua"
   },
   "outputs": [],
   "source": [
    "class smallModel(nn.Module):\n",
    "  def __init__(self):\n",
    "    super(smallModel, self).__init__()\n",
    "    \n",
    "    self.zp1 = nn.ZeroPad2d(1)\n",
    "    self.conv1 = nn.Conv2d(1, 32, kernel_size=3, stride=1, padding=1)\n",
    "    self.mp1 = nn.MaxPool2d(kernel_size=2)\n",
    "    self.dp = nn.Dropout(p=0.3)\n",
    "\n",
    "    self.zp2 = nn.ZeroPad2d(1)\n",
    "    self.conv2 = nn.Conv2d(32, 64, kernel_size=3, stride=1, padding=1)\n",
    "    self.mp2 = nn.MaxPool2d(kernel_size=2)\n",
    "    #self.dp = nn.Dropout(p=0.3)\n",
    "\n",
    "    self.zp3 = nn.ZeroPad2d(1)\n",
    "    self.conv3 = nn.Conv2d(64, 128, kernel_size=3, stride=1, padding=1)\n",
    "    self.mp3 = nn.MaxPool2d(kernel_size=2)\n",
    "\n",
    "    self.conv4 = nn.Conv2d(128, 256, kernel_size=3, stride=1, padding=1)\n",
    "    self.mp4 = nn.MaxPool2d(kernel_size=2)\n",
    "\n",
    "    self.conv5 = nn.Conv2d(256, 512, kernel_size=3, stride=1, padding=1)\n",
    "    self.mp5 = nn.MaxPool2d(kernel_size=2)\n",
    "\n",
    "    self.encoder_layer = nn.TransformerEncoderLayer(d_model=512, nhead=8)\n",
    "    self.transformer_encoder = nn.TransformerEncoder(self.encoder_layer, num_layers=3)\n",
    "\n",
    "    self.relu = nn.ReLU()\n",
    "\n",
    "    self.fc1 = nn.Linear(512 * 6 * 6, 9216)\n",
    "    self.fc2 = nn.Linear(9216, 4096)\n",
    "    self.fc3 = nn.Linear(4096, 1024)\n",
    "    self.fc4 = nn.Linear(512 * 6 * 6, 62)\n",
    "\n",
    "    self.row_emb = nn.Parameter(torch.rand(64, 512 // 2))\n",
    "    self.col_emb = nn.Parameter(torch.rand(64, 512 // 2))\n",
    "\n",
    "  def forward(self, x):\n",
    "    x = self.dp(self.relu(self.conv1(x)))\n",
    "    x = self.mp1(x)\n",
    "\n",
    "    x = self.dp(self.relu(self.conv2(x)))\n",
    "    x = self.mp2(x)\n",
    "\n",
    "    x = self.dp(self.relu(self.conv3(x)))\n",
    "    x = self.mp3(x)\n",
    "\n",
    "    x = self.dp(self.relu(self.conv4(x)))\n",
    "    x = self.mp4(x)\n",
    "\n",
    "    x = self.dp(self.relu(self.conv5(x)))\n",
    "    x = self.mp5(x)\n",
    "\n",
    "    H = x.shape[-1]\n",
    "    W = x.shape[-2]\n",
    "    pos = torch.cat([self.col_emb[:W].unsqueeze(0).repeat(H, 1, 1), self.row_emb[:H].unsqueeze(1).repeat(1, W, 1),], dim=-1).flatten(0, 1).unsqueeze(1)\n",
    "\n",
    "    x = x.flatten(2).permute(2, 0, 1)\n",
    "\n",
    "    x = self.transformer_encoder(pos + x)\n",
    "\n",
    "    x = x.permute(1, 2, 0)\n",
    "    x = torch.reshape(x, ((x.shape)[0], 512 * 36))\n",
    "\n",
    "    #x = self.relu(self.fc1(x))\n",
    "    #x = self.relu(self.fc2(x))\n",
    "    #x = self.relu(self.fc3(x))\n",
    "    x = self.fc4(x)\n",
    "  \n",
    "    return x"
   ]
  },
  {
   "cell_type": "markdown",
   "metadata": {
    "id": "RT1bcGe4ShKP"
   },
   "source": [
    "#Loading the Model"
   ]
  },
  {
   "cell_type": "code",
   "execution_count": null,
   "metadata": {
    "colab": {
     "base_uri": "https://localhost:8080/"
    },
    "executionInfo": {
     "elapsed": 26411,
     "status": "ok",
     "timestamp": 1617879814923,
     "user": {
      "displayName": "Saloni Parekh",
      "photoUrl": "",
      "userId": "12140995592741309675"
     },
     "user_tz": -330
    },
    "id": "2WKXmuYpQoc2",
    "outputId": "93148bf2-8036-41c8-e378-f2f2cb282f58"
   },
   "outputs": [
    {
     "name": "stdout",
     "output_type": "stream",
     "text": [
      "tensor(0.1742, device='cuda:0', requires_grad=True)\n",
      "29\n"
     ]
    }
   ],
   "source": [
    "device = torch.device(\"cuda\" if torch.cuda.is_available() else \"cpu\")\n",
    "model = smallModel().to(device)\n",
    "optimizer = optim.Adam(model.parameters(), lr=0.0001, weight_decay = 1e-4)\n",
    "\n",
    "#Link to the model: https://drive.google.com/file/d/1TwFAjRqCk433H_Axh-PPms-yZwUuqlEE/view?usp=sharing\n",
    "checkpoint = torch.load(\"/content/drive/MyDrive/MIDAS/Point1/model_encoder_aug.pt\")\n",
    "model.load_state_dict(checkpoint['model_state_dict'])\n",
    "optimizer.load_state_dict(checkpoint['optimizer_state_dict'])\n",
    "epoch_last = checkpoint['epoch']\n",
    "loss = checkpoint['loss']\n",
    "\n",
    "print(loss)\n",
    "print(epoch_last)"
   ]
  },
  {
   "cell_type": "code",
   "execution_count": null,
   "metadata": {
    "colab": {
     "base_uri": "https://localhost:8080/"
    },
    "executionInfo": {
     "elapsed": 3519,
     "status": "ok",
     "timestamp": 1617879836365,
     "user": {
      "displayName": "Saloni Parekh",
      "photoUrl": "",
      "userId": "12140995592741309675"
     },
     "user_tz": -330
    },
    "id": "E98gXNf6QwM2",
    "outputId": "f30e8788-05d1-490f-a1ae-4386267dd965"
   },
   "outputs": [
    {
     "name": "stdout",
     "output_type": "stream",
     "text": [
      "<bound method Module.parameters of smallModel(\n",
      "  (zp1): ZeroPad2d(padding=(1, 1, 1, 1), value=0.0)\n",
      "  (conv1): Conv2d(1, 32, kernel_size=(3, 3), stride=(1, 1), padding=(1, 1))\n",
      "  (mp1): MaxPool2d(kernel_size=2, stride=2, padding=0, dilation=1, ceil_mode=False)\n",
      "  (dp): Dropout(p=0.3, inplace=False)\n",
      "  (zp2): ZeroPad2d(padding=(1, 1, 1, 1), value=0.0)\n",
      "  (conv2): Conv2d(32, 64, kernel_size=(3, 3), stride=(1, 1), padding=(1, 1))\n",
      "  (mp2): MaxPool2d(kernel_size=2, stride=2, padding=0, dilation=1, ceil_mode=False)\n",
      "  (zp3): ZeroPad2d(padding=(1, 1, 1, 1), value=0.0)\n",
      "  (conv3): Conv2d(64, 128, kernel_size=(3, 3), stride=(1, 1), padding=(1, 1))\n",
      "  (mp3): MaxPool2d(kernel_size=2, stride=2, padding=0, dilation=1, ceil_mode=False)\n",
      "  (conv4): Conv2d(128, 256, kernel_size=(3, 3), stride=(1, 1), padding=(1, 1))\n",
      "  (mp4): MaxPool2d(kernel_size=2, stride=2, padding=0, dilation=1, ceil_mode=False)\n",
      "  (conv5): Conv2d(256, 512, kernel_size=(3, 3), stride=(1, 1), padding=(1, 1))\n",
      "  (mp5): MaxPool2d(kernel_size=2, stride=2, padding=0, dilation=1, ceil_mode=False)\n",
      "  (encoder_layer): TransformerEncoderLayer(\n",
      "    (self_attn): MultiheadAttention(\n",
      "      (out_proj): _LinearWithBias(in_features=512, out_features=512, bias=True)\n",
      "    )\n",
      "    (linear1): Linear(in_features=512, out_features=2048, bias=True)\n",
      "    (dropout): Dropout(p=0.1, inplace=False)\n",
      "    (linear2): Linear(in_features=2048, out_features=512, bias=True)\n",
      "    (norm1): LayerNorm((512,), eps=1e-05, elementwise_affine=True)\n",
      "    (norm2): LayerNorm((512,), eps=1e-05, elementwise_affine=True)\n",
      "    (dropout1): Dropout(p=0.1, inplace=False)\n",
      "    (dropout2): Dropout(p=0.1, inplace=False)\n",
      "  )\n",
      "  (transformer_encoder): TransformerEncoder(\n",
      "    (layers): ModuleList(\n",
      "      (0): TransformerEncoderLayer(\n",
      "        (self_attn): MultiheadAttention(\n",
      "          (out_proj): _LinearWithBias(in_features=512, out_features=512, bias=True)\n",
      "        )\n",
      "        (linear1): Linear(in_features=512, out_features=2048, bias=True)\n",
      "        (dropout): Dropout(p=0.1, inplace=False)\n",
      "        (linear2): Linear(in_features=2048, out_features=512, bias=True)\n",
      "        (norm1): LayerNorm((512,), eps=1e-05, elementwise_affine=True)\n",
      "        (norm2): LayerNorm((512,), eps=1e-05, elementwise_affine=True)\n",
      "        (dropout1): Dropout(p=0.1, inplace=False)\n",
      "        (dropout2): Dropout(p=0.1, inplace=False)\n",
      "      )\n",
      "      (1): TransformerEncoderLayer(\n",
      "        (self_attn): MultiheadAttention(\n",
      "          (out_proj): _LinearWithBias(in_features=512, out_features=512, bias=True)\n",
      "        )\n",
      "        (linear1): Linear(in_features=512, out_features=2048, bias=True)\n",
      "        (dropout): Dropout(p=0.1, inplace=False)\n",
      "        (linear2): Linear(in_features=2048, out_features=512, bias=True)\n",
      "        (norm1): LayerNorm((512,), eps=1e-05, elementwise_affine=True)\n",
      "        (norm2): LayerNorm((512,), eps=1e-05, elementwise_affine=True)\n",
      "        (dropout1): Dropout(p=0.1, inplace=False)\n",
      "        (dropout2): Dropout(p=0.1, inplace=False)\n",
      "      )\n",
      "      (2): TransformerEncoderLayer(\n",
      "        (self_attn): MultiheadAttention(\n",
      "          (out_proj): _LinearWithBias(in_features=512, out_features=512, bias=True)\n",
      "        )\n",
      "        (linear1): Linear(in_features=512, out_features=2048, bias=True)\n",
      "        (dropout): Dropout(p=0.1, inplace=False)\n",
      "        (linear2): Linear(in_features=2048, out_features=512, bias=True)\n",
      "        (norm1): LayerNorm((512,), eps=1e-05, elementwise_affine=True)\n",
      "        (norm2): LayerNorm((512,), eps=1e-05, elementwise_affine=True)\n",
      "        (dropout1): Dropout(p=0.1, inplace=False)\n",
      "        (dropout2): Dropout(p=0.1, inplace=False)\n",
      "      )\n",
      "    )\n",
      "  )\n",
      "  (relu): ReLU()\n",
      "  (fc1): Linear(in_features=18432, out_features=9216, bias=True)\n",
      "  (fc2): Linear(in_features=9216, out_features=4096, bias=True)\n",
      "  (fc3): Linear(in_features=4096, out_features=1024, bias=True)\n",
      "  (fc4): Linear(in_features=18432, out_features=62, bias=True)\n",
      ")>\n"
     ]
    }
   ],
   "source": [
    "print(model.parameters)"
   ]
  },
  {
   "cell_type": "markdown",
   "metadata": {
    "id": "HVIZGQioSzzt"
   },
   "source": [
    "For successful finetuning, reset the last layer only, such that instead of 62 the model only predicts 10 classes."
   ]
  },
  {
   "cell_type": "code",
   "execution_count": null,
   "metadata": {
    "id": "xhdRccuQQzkl"
   },
   "outputs": [],
   "source": [
    "num_ftrs = model.fc4.in_features\n",
    "model.fc4 = nn.Linear(num_ftrs, 10)\n",
    "\n",
    "model = model.cuda()"
   ]
  },
  {
   "cell_type": "markdown",
   "metadata": {
    "id": "1gG8E7O_TKlk"
   },
   "source": [
    "#Model Training"
   ]
  },
  {
   "cell_type": "code",
   "execution_count": null,
   "metadata": {
    "id": "zKsesvjjSw48"
   },
   "outputs": [],
   "source": [
    "#Returns number of elements that are equal in the out (output) and labels (target) tensor\n",
    "def accuracy(out, labels):\n",
    "    count = 0\n",
    "    _,pred = torch.max(out, dim=1)\n",
    "    for i in range(output.shape[0]):\n",
    "      if pred[i] == labels[i][0]:\n",
    "        count = count + 1\n",
    "    return count"
   ]
  },
  {
   "cell_type": "code",
   "execution_count": null,
   "metadata": {
    "colab": {
     "base_uri": "https://localhost:8080/",
     "height": 1000
    },
    "executionInfo": {
     "elapsed": 5482735,
     "status": "error",
     "timestamp": 1617885331077,
     "user": {
      "displayName": "Saloni Parekh",
      "photoUrl": "",
      "userId": "12140995592741309675"
     },
     "user_tz": -330
    },
    "id": "_6ifIDHbQ7cZ",
    "outputId": "96caa40d-a050-4db1-a941-8bbb2f7ba47e"
   },
   "outputs": [
    {
     "name": "stdout",
     "output_type": "stream",
     "text": [
      "Training: \n",
      "Validation: \n",
      "Epoch: 1 \tTraining Loss: 0.139134 \tTraining Accuracy: 0.956867 \tValidation Loss: 0.074353 \tValidation Accuracy: 0.976733\n",
      "Training: \n",
      "Validation: \n",
      "Epoch: 2 \tTraining Loss: 0.076903 \tTraining Accuracy: 0.977022 \tValidation Loss: 0.066327 \tValidation Accuracy: 0.978400\n",
      "Training: \n",
      "Validation: \n",
      "Epoch: 3 \tTraining Loss: 0.063404 \tTraining Accuracy: 0.980667 \tValidation Loss: 0.037978 \tValidation Accuracy: 0.988600\n",
      "Training: \n",
      "Validation: \n",
      "Epoch: 4 \tTraining Loss: 0.056342 \tTraining Accuracy: 0.981822 \tValidation Loss: 0.050914 \tValidation Accuracy: 0.984667\n",
      "Training: \n",
      "Validation: \n",
      "Epoch: 5 \tTraining Loss: 0.050862 \tTraining Accuracy: 0.983911 \tValidation Loss: 0.051612 \tValidation Accuracy: 0.984733\n",
      "Training: \n",
      "Validation: \n",
      "Epoch: 6 \tTraining Loss: 0.045964 \tTraining Accuracy: 0.985422 \tValidation Loss: 0.037906 \tValidation Accuracy: 0.989467\n",
      "Training: \n",
      "Validation: \n",
      "Epoch: 7 \tTraining Loss: 0.045457 \tTraining Accuracy: 0.985622 \tValidation Loss: 0.048903 \tValidation Accuracy: 0.986533\n",
      "Training: \n",
      "Validation: \n",
      "Epoch: 8 \tTraining Loss: 0.042910 \tTraining Accuracy: 0.987244 \tValidation Loss: 0.029162 \tValidation Accuracy: 0.991200\n",
      "Training: \n",
      "Validation: \n",
      "Epoch: 9 \tTraining Loss: 0.038915 \tTraining Accuracy: 0.986911 \tValidation Loss: 0.034096 \tValidation Accuracy: 0.990133\n",
      "Training: \n",
      "Validation: \n",
      "Epoch: 10 \tTraining Loss: 0.037622 \tTraining Accuracy: 0.987800 \tValidation Loss: 0.037114 \tValidation Accuracy: 0.988400\n",
      "Training: \n",
      "Validation: \n",
      "Epoch: 11 \tTraining Loss: 0.039673 \tTraining Accuracy: 0.987222 \tValidation Loss: 0.035134 \tValidation Accuracy: 0.989400\n",
      "Training: \n",
      "Validation: \n",
      "Epoch: 12 \tTraining Loss: 0.038610 \tTraining Accuracy: 0.987378 \tValidation Loss: 0.039387 \tValidation Accuracy: 0.989467\n",
      "Training: \n",
      "Validation: \n",
      "Epoch: 13 \tTraining Loss: 0.036840 \tTraining Accuracy: 0.988444 \tValidation Loss: 0.033074 \tValidation Accuracy: 0.990067\n",
      "Training: \n",
      "Validation: \n",
      "Epoch: 14 \tTraining Loss: 0.032295 \tTraining Accuracy: 0.989356 \tValidation Loss: 0.041593 \tValidation Accuracy: 0.987200\n",
      "Training: \n",
      "Validation: \n",
      "Epoch: 15 \tTraining Loss: 0.031593 \tTraining Accuracy: 0.989644 \tValidation Loss: 0.028352 \tValidation Accuracy: 0.991733\n",
      "Training: \n",
      "Validation: \n",
      "Epoch: 16 \tTraining Loss: 0.031484 \tTraining Accuracy: 0.989600 \tValidation Loss: 0.035951 \tValidation Accuracy: 0.989400\n",
      "Training: \n",
      "Validation: \n",
      "Epoch: 17 \tTraining Loss: 0.034022 \tTraining Accuracy: 0.988778 \tValidation Loss: 0.023733 \tValidation Accuracy: 0.991800\n",
      "Training: \n",
      "Validation: \n",
      "Epoch: 18 \tTraining Loss: 0.032117 \tTraining Accuracy: 0.990089 \tValidation Loss: 0.025094 \tValidation Accuracy: 0.992067\n",
      "Training: \n",
      "Validation: \n",
      "Epoch: 19 \tTraining Loss: 0.029337 \tTraining Accuracy: 0.990444 \tValidation Loss: 0.034661 \tValidation Accuracy: 0.988600\n",
      "Training: \n",
      "Validation: \n",
      "Epoch: 20 \tTraining Loss: 0.028587 \tTraining Accuracy: 0.990689 \tValidation Loss: 0.030117 \tValidation Accuracy: 0.990733\n",
      "Training: \n"
     ]
    },
    {
     "ename": "KeyboardInterrupt",
     "evalue": "ignored",
     "output_type": "error",
     "traceback": [
      "\u001b[0;31m---------------------------------------------------------------------------\u001b[0m",
      "\u001b[0;31mKeyboardInterrupt\u001b[0m                         Traceback (most recent call last)",
      "\u001b[0;32m<ipython-input-17-5fb37bd84168>\u001b[0m in \u001b[0;36m<module>\u001b[0;34m()\u001b[0m\n\u001b[1;32m     34\u001b[0m     \u001b[0mloss\u001b[0m \u001b[0;34m=\u001b[0m \u001b[0mcriterion\u001b[0m\u001b[0;34m(\u001b[0m\u001b[0moutput\u001b[0m\u001b[0;34m,\u001b[0m \u001b[0mtarget\u001b[0m\u001b[0;34m.\u001b[0m\u001b[0mview\u001b[0m\u001b[0;34m(\u001b[0m\u001b[0;34m-\u001b[0m\u001b[0;36m1\u001b[0m\u001b[0;34m)\u001b[0m\u001b[0;34m)\u001b[0m\u001b[0;34m\u001b[0m\u001b[0;34m\u001b[0m\u001b[0m\n\u001b[1;32m     35\u001b[0m \u001b[0;34m\u001b[0m\u001b[0m\n\u001b[0;32m---> 36\u001b[0;31m     \u001b[0mloss\u001b[0m\u001b[0;34m.\u001b[0m\u001b[0mbackward\u001b[0m\u001b[0;34m(\u001b[0m\u001b[0;34m)\u001b[0m\u001b[0;34m\u001b[0m\u001b[0;34m\u001b[0m\u001b[0m\n\u001b[0m\u001b[1;32m     37\u001b[0m     \u001b[0moptimizer\u001b[0m\u001b[0;34m.\u001b[0m\u001b[0mstep\u001b[0m\u001b[0;34m(\u001b[0m\u001b[0;34m)\u001b[0m\u001b[0;34m\u001b[0m\u001b[0;34m\u001b[0m\u001b[0m\n\u001b[1;32m     38\u001b[0m \u001b[0;34m\u001b[0m\u001b[0m\n",
      "\u001b[0;32m/usr/local/lib/python3.7/dist-packages/torch/tensor.py\u001b[0m in \u001b[0;36mbackward\u001b[0;34m(self, gradient, retain_graph, create_graph, inputs)\u001b[0m\n\u001b[1;32m    243\u001b[0m                 \u001b[0mcreate_graph\u001b[0m\u001b[0;34m=\u001b[0m\u001b[0mcreate_graph\u001b[0m\u001b[0;34m,\u001b[0m\u001b[0;34m\u001b[0m\u001b[0;34m\u001b[0m\u001b[0m\n\u001b[1;32m    244\u001b[0m                 inputs=inputs)\n\u001b[0;32m--> 245\u001b[0;31m         \u001b[0mtorch\u001b[0m\u001b[0;34m.\u001b[0m\u001b[0mautograd\u001b[0m\u001b[0;34m.\u001b[0m\u001b[0mbackward\u001b[0m\u001b[0;34m(\u001b[0m\u001b[0mself\u001b[0m\u001b[0;34m,\u001b[0m \u001b[0mgradient\u001b[0m\u001b[0;34m,\u001b[0m \u001b[0mretain_graph\u001b[0m\u001b[0;34m,\u001b[0m \u001b[0mcreate_graph\u001b[0m\u001b[0;34m,\u001b[0m \u001b[0minputs\u001b[0m\u001b[0;34m=\u001b[0m\u001b[0minputs\u001b[0m\u001b[0;34m)\u001b[0m\u001b[0;34m\u001b[0m\u001b[0;34m\u001b[0m\u001b[0m\n\u001b[0m\u001b[1;32m    246\u001b[0m \u001b[0;34m\u001b[0m\u001b[0m\n\u001b[1;32m    247\u001b[0m     \u001b[0;32mdef\u001b[0m \u001b[0mregister_hook\u001b[0m\u001b[0;34m(\u001b[0m\u001b[0mself\u001b[0m\u001b[0;34m,\u001b[0m \u001b[0mhook\u001b[0m\u001b[0;34m)\u001b[0m\u001b[0;34m:\u001b[0m\u001b[0;34m\u001b[0m\u001b[0;34m\u001b[0m\u001b[0m\n",
      "\u001b[0;32m/usr/local/lib/python3.7/dist-packages/torch/autograd/__init__.py\u001b[0m in \u001b[0;36mbackward\u001b[0;34m(tensors, grad_tensors, retain_graph, create_graph, grad_variables, inputs)\u001b[0m\n\u001b[1;32m    145\u001b[0m     Variable._execution_engine.run_backward(\n\u001b[1;32m    146\u001b[0m         \u001b[0mtensors\u001b[0m\u001b[0;34m,\u001b[0m \u001b[0mgrad_tensors_\u001b[0m\u001b[0;34m,\u001b[0m \u001b[0mretain_graph\u001b[0m\u001b[0;34m,\u001b[0m \u001b[0mcreate_graph\u001b[0m\u001b[0;34m,\u001b[0m \u001b[0minputs\u001b[0m\u001b[0;34m,\u001b[0m\u001b[0;34m\u001b[0m\u001b[0;34m\u001b[0m\u001b[0m\n\u001b[0;32m--> 147\u001b[0;31m         allow_unreachable=True, accumulate_grad=True)  # allow_unreachable flag\n\u001b[0m\u001b[1;32m    148\u001b[0m \u001b[0;34m\u001b[0m\u001b[0m\n\u001b[1;32m    149\u001b[0m \u001b[0;34m\u001b[0m\u001b[0m\n",
      "\u001b[0;31mKeyboardInterrupt\u001b[0m: "
     ]
    }
   ],
   "source": [
    "#34 mins\n",
    "chkpt_path = \"/content/drive/MyDrive/MIDAS/Point3/finetuned_model.pt\"\n",
    "\n",
    "train_loss_list = []\n",
    "valid_loss_list = []\n",
    "train_accuracy = []\n",
    "valid_accuracy = []\n",
    "\n",
    "epochs = 10\n",
    "optimizer = optim.Adam(model.parameters(), lr = 0.0001, weight_decay = 1e-4)\n",
    "criterion = nn.CrossEntropyLoss()\n",
    "min_valid_loss = np.Inf\n",
    "check_epoch = 5\n",
    "epoch_no_improve = 0\n",
    "i = 0\n",
    "\n",
    "\n",
    "for epoch in range(1, 30):\n",
    "  train_loss = 0\n",
    "  valid_loss = 0\n",
    "  tcorrect = 0\n",
    "  vcorrect = 0\n",
    "  model.train()\n",
    "\n",
    "  device = torch.device(\"cuda\" if torch.cuda.is_available() else \"cpu\")\n",
    "  print(\"Training: \")\n",
    "  for batch, (img, target) in enumerate(train_loader):\n",
    "    #print(batch)\n",
    "    if torch.cuda.is_available():\n",
    "        img, target = img.to(device=device, dtype=torch.float), target.to(device=device, dtype=torch.long)\n",
    "\n",
    "    optimizer.zero_grad()\n",
    "    output = model(img)\n",
    "\n",
    "    loss = criterion(output, target.view(-1))\n",
    "\n",
    "    loss.backward()\n",
    "    optimizer.step()\n",
    "\n",
    "    train_loss += loss.item()\n",
    "    tcorrect += accuracy(output, target)\n",
    "    _,pred = torch.max(output, dim=1)\n",
    "    \"\"\"print('Pred: ')\n",
    "    print(pred)\n",
    "    print('Target: ')\n",
    "    print(target)\"\"\"\n",
    "  \n",
    "    \n",
    "  model.eval()\n",
    "  print(\"Validation: \")\n",
    "  for batch, (img, target) in enumerate(val_loader):\n",
    "    if torch.cuda.is_available():\n",
    "        img, target = img.to(device=device, dtype=torch.float), target.to(device=device, dtype=torch.long)\n",
    "\n",
    "    output = model(img)\n",
    "    \n",
    "    loss = criterion(output, target.view(-1))\n",
    "\n",
    "    valid_loss += loss.item()\n",
    "    vcorrect += accuracy(output, target)\n",
    "    _,pred = torch.max(output, dim=1)\n",
    "    \"\"\"print('Pred: ')\n",
    "    print(pred)\n",
    "    print('Target: ')\n",
    "    print(target)\"\"\"\n",
    "    \n",
    "  # calculate average losses\n",
    "  train_loss = train_loss/len(train_loader)\n",
    "  valid_loss = valid_loss/len(val_loader)\n",
    "  train_loss_list.append(train_loss)\n",
    "  valid_loss_list.append(valid_loss)\n",
    "\n",
    "  tcorrect = tcorrect/len(train_dataset)\n",
    "  vcorrect = vcorrect/len(valid_dataset)\n",
    "  train_accuracy.append(tcorrect)\n",
    "  valid_accuracy.append(vcorrect)\n",
    "  \n",
    "  # print training/validation statistics \n",
    "  print('Epoch: {} \\tTraining Loss: {:.6f} \\tTraining Accuracy: {:.6f} \\tValidation Loss: {:.6f} \\tValidation Accuracy: {:.6f}'.format(\n",
    "      epoch, train_loss, tcorrect, valid_loss, vcorrect))\n",
    "  #print(train_loss_list)\n",
    "  #print(valid_loss_list)\n",
    "\n",
    "  #print(valid_loss_list)\n",
    "\n",
    "  if epoch % 5 == 0 :\n",
    "    torch.save({\n",
    "              'epoch': epoch,\n",
    "              'model_state_dict': model.state_dict(),\n",
    "              'optimizer_state_dict': optimizer.state_dict(),\n",
    "              'loss': loss,\n",
    "              }, chkpt_path)\n"
   ]
  },
  {
   "cell_type": "markdown",
   "metadata": {
    "id": "uwz0KOgOUDpE"
   },
   "source": [
    "#Visualisations and Evaluation"
   ]
  },
  {
   "cell_type": "code",
   "execution_count": null,
   "metadata": {
    "colab": {
     "base_uri": "https://localhost:8080/",
     "height": 296
    },
    "executionInfo": {
     "elapsed": 2000,
     "status": "ok",
     "timestamp": 1617885401229,
     "user": {
      "displayName": "Saloni Parekh",
      "photoUrl": "",
      "userId": "12140995592741309675"
     },
     "user_tz": -330
    },
    "id": "5kAsZ7SDSMEE",
    "outputId": "7805b56e-9e5a-421b-f0ea-599e9a11c624"
   },
   "outputs": [
    {
     "data": {
      "text/plain": [
       "<matplotlib.legend.Legend at 0x7f4492702d50>"
      ]
     },
     "execution_count": 18,
     "metadata": {
      "tags": []
     },
     "output_type": "execute_result"
    },
    {
     "data": {
      "image/png": "[encoded data removed]",
      "text/plain": [
       "<Figure size 432x288 with 1 Axes>"
      ]
     },
     "metadata": {
      "needs_background": "light",
      "tags": []
     },
     "output_type": "display_data"
    }
   ],
   "source": [
    "#Without Augmentation\n",
    "a = [i for  i in range(1, 21)]\n",
    "plt.plot(a, train_loss_list, label = 'Training Loss')\n",
    "plt.plot(a, valid_loss_list, label = 'Validation Loss')\n",
    "plt.xlabel(\"Epochs\")\n",
    "plt.ylabel(\"Loss\")\n",
    "plt.legend()"
   ]
  },
  {
   "cell_type": "code",
   "execution_count": null,
   "metadata": {
    "colab": {
     "base_uri": "https://localhost:8080/",
     "height": 296
    },
    "executionInfo": {
     "elapsed": 1713,
     "status": "ok",
     "timestamp": 1617885418506,
     "user": {
      "displayName": "Saloni Parekh",
      "photoUrl": "",
      "userId": "12140995592741309675"
     },
     "user_tz": -330
    },
    "id": "o60pQUhzVHC_",
    "outputId": "655e2ef0-b81d-4d02-80d2-4c263fb291c5"
   },
   "outputs": [
    {
     "data": {
      "text/plain": [
       "<matplotlib.legend.Legend at 0x7f449196b8d0>"
      ]
     },
     "execution_count": 19,
     "metadata": {
      "tags": []
     },
     "output_type": "execute_result"
    },
    {
     "data": {
      "image/png": "[encoded data removed]",
      "text/plain": [
       "<Figure size 432x288 with 1 Axes>"
      ]
     },
     "metadata": {
      "needs_background": "light",
      "tags": []
     },
     "output_type": "display_data"
    }
   ],
   "source": [
    "#Without Augmentation\n",
    "a = [i for  i in range(1, 21)]\n",
    "plt.plot(a, train_accuracy, label = 'Training Loss')\n",
    "plt.plot(a, valid_accuracy, label = 'Validation Loss')\n",
    "plt.xlabel(\"Epochs\")\n",
    "plt.ylabel(\"Loss\")\n",
    "plt.legend()"
   ]
  },
  {
   "cell_type": "code",
   "execution_count": null,
   "metadata": {
    "colab": {
     "base_uri": "https://localhost:8080/",
     "height": 204
    },
    "executionInfo": {
     "elapsed": 66636,
     "status": "ok",
     "timestamp": 1617885495976,
     "user": {
      "displayName": "Saloni Parekh",
      "photoUrl": "",
      "userId": "12140995592741309675"
     },
     "user_tz": -330
    },
    "id": "hPbZZ2zafEkZ",
    "outputId": "98c9a74e-ef70-4933-89a6-82aaba9097a6"
   },
   "outputs": [
    {
     "data": {
      "text/html": [
       "<div>\n",
       "<style scoped>\n",
       "    .dataframe tbody tr th:only-of-type {\n",
       "        vertical-align: middle;\n",
       "    }\n",
       "\n",
       "    .dataframe tbody tr th {\n",
       "        vertical-align: top;\n",
       "    }\n",
       "\n",
       "    .dataframe thead th {\n",
       "        text-align: right;\n",
       "    }\n",
       "</style>\n",
       "<table border=\"1\" class=\"dataframe\">\n",
       "  <thead>\n",
       "    <tr style=\"text-align: right;\">\n",
       "      <th></th>\n",
       "      <th>Pred</th>\n",
       "      <th>Target</th>\n",
       "    </tr>\n",
       "  </thead>\n",
       "  <tbody>\n",
       "    <tr>\n",
       "      <th>0</th>\n",
       "      <td>7</td>\n",
       "      <td>7</td>\n",
       "    </tr>\n",
       "    <tr>\n",
       "      <th>1</th>\n",
       "      <td>4</td>\n",
       "      <td>4</td>\n",
       "    </tr>\n",
       "    <tr>\n",
       "      <th>2</th>\n",
       "      <td>9</td>\n",
       "      <td>9</td>\n",
       "    </tr>\n",
       "    <tr>\n",
       "      <th>3</th>\n",
       "      <td>3</td>\n",
       "      <td>3</td>\n",
       "    </tr>\n",
       "    <tr>\n",
       "      <th>4</th>\n",
       "      <td>0</td>\n",
       "      <td>0</td>\n",
       "    </tr>\n",
       "  </tbody>\n",
       "</table>\n",
       "</div>"
      ],
      "text/plain": [
       "   Pred  Target\n",
       "0     7       7\n",
       "1     4       4\n",
       "2     9       9\n",
       "3     3       3\n",
       "4     0       0"
      ]
     },
     "execution_count": 20,
     "metadata": {
      "tags": []
     },
     "output_type": "execute_result"
    }
   ],
   "source": [
    "#Evaluation begins\n",
    "i = 0\n",
    "l1 = []\n",
    "l2 = []\n",
    "\n",
    "model.eval()\n",
    "#test_loader = DataLoader(valid_dataset, batch_size=1, shuffle=True)\n",
    "for batch, (img, target) in enumerate(val_loader):\n",
    "    if torch.cuda.is_available():\n",
    "        img, target = img.to(device=device, dtype=torch.float), target.to(device=device, dtype=torch.long)\n",
    "\n",
    "    output = model(img)\n",
    "    \n",
    "    #vcorrect += accuracy(output, target)\n",
    "    _,pred = torch.max(output, dim=1)\n",
    "    l1.append(pred.item())\n",
    "    l2.append(target.item())\n",
    "\n",
    "df = pd.DataFrame(columns=[\"Pred\", \"Target\"])\n",
    "df[\"Pred\"] = l1\n",
    "df[\"Target\"] = l2\n",
    "df.head()"
   ]
  },
  {
   "cell_type": "code",
   "execution_count": null,
   "metadata": {
    "id": "wNmmlD3mfH3g"
   },
   "outputs": [],
   "source": [
    "y = np.array(df[\"Target\"])\n",
    "y_pred = np.array(df[\"Pred\"])"
   ]
  },
  {
   "cell_type": "code",
   "execution_count": null,
   "metadata": {
    "colab": {
     "base_uri": "https://localhost:8080/"
    },
    "executionInfo": {
     "elapsed": 21552,
     "status": "ok",
     "timestamp": 1617885495980,
     "user": {
      "displayName": "Saloni Parekh",
      "photoUrl": "",
      "userId": "12140995592741309675"
     },
     "user_tz": -330
    },
    "id": "oVwPZDn-fJxG",
    "outputId": "860464e9-1dc1-4922-92f6-6604d02baea5"
   },
   "outputs": [
    {
     "name": "stdout",
     "output_type": "stream",
     "text": [
      "Classification Report:\n",
      "              precision    recall  f1-score   support\n",
      "\n",
      "           0       0.99      1.00      0.99      1451\n",
      "           1       1.00      0.99      0.99      1688\n",
      "           2       0.99      0.99      0.99      1488\n",
      "           3       0.99      0.99      0.99      1532\n",
      "           4       0.99      0.99      0.99      1472\n",
      "           5       0.98      1.00      0.99      1329\n",
      "           6       1.00      1.00      1.00      1506\n",
      "           7       0.99      0.99      0.99      1595\n",
      "           8       0.99      0.98      0.99      1485\n",
      "           9       0.98      0.99      0.98      1454\n",
      "\n",
      "    accuracy                           0.99     15000\n",
      "   macro avg       0.99      0.99      0.99     15000\n",
      "weighted avg       0.99      0.99      0.99     15000\n",
      "\n"
     ]
    }
   ],
   "source": [
    "print(\"Classification Report:\")\n",
    "print(classification_report(y, y_pred))"
   ]
  },
  {
   "cell_type": "markdown",
   "metadata": {
    "id": "Imvd7wPzUkb4"
   },
   "source": [
    "#Evaluation on MNIST's Test Set"
   ]
  },
  {
   "cell_type": "code",
   "execution_count": null,
   "metadata": {
    "id": "LEogMkTqfS4C"
   },
   "outputs": [],
   "source": [
    "def accuracy_test(out, labels):\n",
    "    count = 0\n",
    "    _,pred = torch.max(out, dim=1)\n",
    "    for i in range(output.shape[0]):\n",
    "      if pred[i] == labels[i]:\n",
    "        count = count + 1\n",
    "    return count"
   ]
  },
  {
   "cell_type": "code",
   "execution_count": null,
   "metadata": {
    "colab": {
     "base_uri": "https://localhost:8080/",
     "height": 204
    },
    "executionInfo": {
     "elapsed": 16584,
     "status": "ok",
     "timestamp": 1617885508395,
     "user": {
      "displayName": "Saloni Parekh",
      "photoUrl": "",
      "userId": "12140995592741309675"
     },
     "user_tz": -330
    },
    "id": "YPWPzXlifVVy",
    "outputId": "db714be2-e7bd-45f7-89ab-bf29ea5c2455"
   },
   "outputs": [
    {
     "data": {
      "text/html": [
       "<div>\n",
       "<style scoped>\n",
       "    .dataframe tbody tr th:only-of-type {\n",
       "        vertical-align: middle;\n",
       "    }\n",
       "\n",
       "    .dataframe tbody tr th {\n",
       "        vertical-align: top;\n",
       "    }\n",
       "\n",
       "    .dataframe thead th {\n",
       "        text-align: right;\n",
       "    }\n",
       "</style>\n",
       "<table border=\"1\" class=\"dataframe\">\n",
       "  <thead>\n",
       "    <tr style=\"text-align: right;\">\n",
       "      <th></th>\n",
       "      <th>Pred</th>\n",
       "      <th>Target</th>\n",
       "    </tr>\n",
       "  </thead>\n",
       "  <tbody>\n",
       "    <tr>\n",
       "      <th>0</th>\n",
       "      <td>5</td>\n",
       "      <td>5</td>\n",
       "    </tr>\n",
       "    <tr>\n",
       "      <th>1</th>\n",
       "      <td>7</td>\n",
       "      <td>7</td>\n",
       "    </tr>\n",
       "    <tr>\n",
       "      <th>2</th>\n",
       "      <td>7</td>\n",
       "      <td>7</td>\n",
       "    </tr>\n",
       "    <tr>\n",
       "      <th>3</th>\n",
       "      <td>8</td>\n",
       "      <td>8</td>\n",
       "    </tr>\n",
       "    <tr>\n",
       "      <th>4</th>\n",
       "      <td>3</td>\n",
       "      <td>3</td>\n",
       "    </tr>\n",
       "  </tbody>\n",
       "</table>\n",
       "</div>"
      ],
      "text/plain": [
       "   Pred  Target\n",
       "0     5       5\n",
       "1     7       7\n",
       "2     7       7\n",
       "3     8       8\n",
       "4     3       3"
      ]
     },
     "execution_count": 24,
     "metadata": {
      "tags": []
     },
     "output_type": "execute_result"
    }
   ],
   "source": [
    "#Evaluation begins\n",
    "i = 0\n",
    "l1 = []\n",
    "l2 = []\n",
    "vcorrect = 0\n",
    "\n",
    "model.eval()\n",
    "#test_loader = DataLoader(valset, batch_size=1, shuffle=True)\n",
    "for batch, (img, target) in enumerate(test_loader):\n",
    "    if torch.cuda.is_available():\n",
    "        img, target = img.to(device=device, dtype=torch.float), target.to(device=device, dtype=torch.long)\n",
    "\n",
    "    output = model(img)\n",
    "    \n",
    "    vcorrect += accuracy_test(output, target)\n",
    "    _,pred = torch.max(output, dim=1)\n",
    "    l1.append(pred.tolist())\n",
    "    l2.append(target.tolist())\n",
    "\n",
    "vcorrect = vcorrect/(len(val_loader) * 64)\n",
    "df = pd.DataFrame(columns=[\"Pred\", \"Target\"])\n",
    "l1 = [j for sub in l1 for j in sub]\n",
    "l2 = [j for sub in l2 for j in sub]\n",
    "df[\"Pred\"] = l1\n",
    "df[\"Target\"] = l2\n",
    "df.head()"
   ]
  },
  {
   "cell_type": "code",
   "execution_count": null,
   "metadata": {
    "id": "kQEQI4ZBfXHk"
   },
   "outputs": [],
   "source": [
    "y = np.array(df[\"Target\"])\n",
    "y_pred = np.array(df[\"Pred\"])"
   ]
  },
  {
   "cell_type": "markdown",
   "metadata": {
    "id": "4Z-kGTWeLK8M"
   },
   "source": [
    "**Evaluation**<br>\n",
    "At epoch 20:</br>\n",
    "Training Accuracy: 99.06% \t\n",
    "Validation Accuracy: 99.07%</br>\n",
    "Test Accuracy: 99%"
   ]
  },
  {
   "cell_type": "code",
   "execution_count": null,
   "metadata": {
    "colab": {
     "base_uri": "https://localhost:8080/"
    },
    "executionInfo": {
     "elapsed": 1566,
     "status": "ok",
     "timestamp": 1617885527280,
     "user": {
      "displayName": "Saloni Parekh",
      "photoUrl": "",
      "userId": "12140995592741309675"
     },
     "user_tz": -330
    },
    "id": "YvBY6qkKfaY_",
    "outputId": "913ae353-d9c9-45f1-bb79-0de895b36caa"
   },
   "outputs": [
    {
     "name": "stdout",
     "output_type": "stream",
     "text": [
      "Classification Report:\n",
      "              precision    recall  f1-score   support\n",
      "\n",
      "           0       0.99      1.00      0.99       980\n",
      "           1       1.00      0.99      0.99      1135\n",
      "           2       1.00      1.00      1.00      1032\n",
      "           3       0.99      0.99      0.99      1010\n",
      "           4       1.00      0.99      0.99       982\n",
      "           5       0.97      1.00      0.98       892\n",
      "           6       1.00      0.99      0.99       958\n",
      "           7       0.99      0.99      0.99      1028\n",
      "           8       0.99      0.98      0.99       974\n",
      "           9       0.99      0.99      0.99      1009\n",
      "\n",
      "    accuracy                           0.99     10000\n",
      "   macro avg       0.99      0.99      0.99     10000\n",
      "weighted avg       0.99      0.99      0.99     10000\n",
      "\n"
     ]
    }
   ],
   "source": [
    "print(\"Classification Report:\")\n",
    "print(classification_report(y, y_pred))"
   ]
  },
  {
   "cell_type": "code",
   "execution_count": null,
   "metadata": {
    "id": "b9ZXknNxffZX"
   },
   "outputs": [],
   "source": []
  }
 ],
 "metadata": {
  "accelerator": "GPU",
  "colab": {
   "collapsed_sections": [],
   "name": "Point3_Finetuning.ipynb",
   "provenance": []
  },
  "kernelspec": {
   "display_name": "Python 3",
   "language": "python",
   "name": "python3"
  },
  "language_info": {
   "codemirror_mode": {
    "name": "ipython",
    "version": 3
   },
   "file_extension": ".py",
   "mimetype": "text/x-python",
   "name": "python",
   "nbconvert_exporter": "python",
   "pygments_lexer": "ipython3",
   "version": "3.7.4"
  }
 },
 "nbformat": 4,
 "nbformat_minor": 1
}
