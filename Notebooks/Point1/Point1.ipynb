{
 "cells": [
  {
   "cell_type": "markdown",
   "metadata": {
    "id": "zY2SEh-q_-4_"
   },
   "source": [
    "#Implementation for Point 1\n",
    "------\n",
    "\n",
    "##Definition for Point 1 </br>\n",
    "Use this dataset (https://www.dropbox.com/s/pan6mutc5xj5kj0/trainPart1.zip) to train a CNN. Use no other data source or pretrained networks, and explain your design choices during preprocessing, model building and training. Also, cite the sources you used to borrow techniques. A test set will be provided later to judge the performance of your classifier. Please save your model checkpoints.\n",
    "\n",
    "##Solution\n",
    "The explanation for the design choices will be given in the following sections.\n",
    "\n",
    "###Model Architecture\n",
    "\n",
    "<font size=3px>\n",
    "1. Conv(1, 32) -> ReLU -> Dropout -> Maxpool</br>\n",
    "2. Conv(32, 64) -> ReLU -> Dropout -> Maxpool</br>\n",
    "3. Conv(64, 128) -> ReLU -> Dropout -> Maxpool</br>\n",
    "4. Conv(128, 256) -> ReLU -> Dropout -> Maxpool</br>\n",
    "5. Conv(256, 512) -> ReLU -> Dropout -> Maxpool</br>\n",
    "6. Transformer Encoder Layer</br>\n",
    "7. Transformer Encoder Layer</br>\n",
    "8. Transformer Encoder Layer</br>\n",
    "9. Fully Connected Layer (512, 62)</br>\n",
    "</font>\n",
    "\n",
    "<font color='blue'>Optimizer</font>: Adam (lr: 0.0001)</br>\n",
    "<font color='blue'>Loss</font>: CrossEntropyLoss</br>\n",
    "\n",
    "\n",
    "**Conclusions**</br>\n",
    "At epoch 29:</br>\n",
    "Without Augmentation:</br>\n",
    "Training Accuracy: 97.53%\t\n",
    "Validation Accuracy: 72.90%</br>\n",
    "\n",
    "With Augmentation:</br>\n",
    "Training Accuracy: 93.99% \t\n",
    "Validation Accuracy: 77.90%\n",
    "\n",
    "If the notebook is being run on the local system, please download the necessary files from the drive link provided in the code cells.</br>\n",
    "<font color=\"blue\">*Please change the links accordingly*</font>\n",
    "\n",
    "<font color='grey'>*The following code is implemented in PyTorch.*</font>\n",
    "\n",
    "\n"
   ]
  },
  {
   "cell_type": "markdown",
   "metadata": {
    "id": "nzkdOIZnCNO_"
   },
   "source": [
    "#Import Libraries"
   ]
  },
  {
   "cell_type": "code",
   "execution_count": null,
   "metadata": {
    "id": "S0c8ZzkiRKX0"
   },
   "outputs": [],
   "source": [
    "from google.colab import drive\n",
    "drive.mount('/content/drive')"
   ]
  },
  {
   "cell_type": "code",
   "execution_count": null,
   "metadata": {
    "id": "z_C2YlG3bIjJ"
   },
   "outputs": [],
   "source": [
    "!pip install pycm"
   ]
  },
  {
   "cell_type": "code",
   "execution_count": null,
   "metadata": {
    "id": "AF1XGmUlRQp2"
   },
   "outputs": [],
   "source": [
    "# Point 1's data is accessed via the zip file stored in the drive\n",
    "# This zip file is transferred to the disk of the google colab, \n",
    "# because accessing it from the disk directly is faster than\n",
    "# accessing the images from the drive\n",
    "\n",
    "# Link to the zip file: https://drive.google.com/file/d/1g4dHphWLCX1PisdXacrfw8kdn7MGoxv5/view?usp=sharing\n",
    "!cp -r \"/content/drive/MyDrive/MIDAS/Point1/train.zip\" \"/content/train.zip\" \n",
    "!unzip train.zip"
   ]
  },
  {
   "cell_type": "code",
   "execution_count": null,
   "metadata": {
    "id": "a0Ovh-DxRSLt"
   },
   "outputs": [],
   "source": [
    "import numpy as np\n",
    "import torch\n",
    "import csv\n",
    "from torch import nn\n",
    "import pandas as pd\n",
    "import cv2 as cv\n",
    "from torch.utils.data import DataLoader, Dataset\n",
    "import matplotlib.pyplot as plt\n",
    "import torch.optim as optim\n",
    "import torch.nn.functional as F\n",
    "from sklearn.model_selection import train_test_split\n",
    "from torch.nn import Linear, ReLU, CrossEntropyLoss, Sequential, Conv2d, MaxPool2d, Module, Softmax, BatchNorm2d, Dropout, ZeroPad2d\n",
    "from torchvision import transforms\n",
    "import shutil\n",
    "from sklearn.metrics import auc, confusion_matrix, classification_report\n",
    "import seaborn as sns\n",
    "from scipy.optimize import brentq\n",
    "from scipy.interpolate import interp1d\n",
    "import random\n",
    "from pycm import *"
   ]
  },
  {
   "cell_type": "markdown",
   "metadata": {
    "id": "OcY-JPkWCW63"
   },
   "source": [
    "#Data Preparation\n",
    "\n",
    "Following factors have been taken care of in this stage:\n",
    "\n",
    "\n",
    "*   Image is resized to 200 * 200\n",
    "*   Augmentation may or may not be performed on the training data\n",
    "*   All images have been normalised\n",
    "\n",
    "The only augmentation that is performed is Rotation.\n",
    "The explanation for this is that the performance degraded on trying other augmentations like translation and shearing.\n",
    "\n",
    "\n"
   ]
  },
  {
   "cell_type": "code",
   "execution_count": null,
   "metadata": {
    "id": "bvdZMDbpRTiF"
   },
   "outputs": [],
   "source": [
    "#All images are resized to 200 * 200 and have been normalized\n",
    "def _preprocess(image):\n",
    "    # Preprocessing step\n",
    "    img_transform = transforms.Compose([\n",
    "        transforms.ToPILImage(),              #Conversion to PIL Image\n",
    "        transforms.Resize((200, 200)),        #Resize image to 200 * 200\n",
    "        transforms.ToTensor(),                #Conversion to Tensor\n",
    "        transforms.Normalize((0.5, ), (0.5,)) #Normalise Image\n",
    "    ])\n",
    "    return img_transform(image)\n",
    "\n",
    "#Used for augmenting training data\n",
    "def _preprocess_aug(image):\n",
    "  transform_aug = transforms.Compose([\n",
    "     transforms.ToPILImage(),                 #Conversion to PIL Image                                      \n",
    "     transforms.Resize((200, 200)),           #Resize image to 200 * 200                                                     \n",
    "     transforms.RandomRotation(20),           #Apply rotations upto 20 degrees     \n",
    "     #transforms.RandomAffine(0),\n",
    "     transforms.ToTensor(),                   #Conversion to Tensor\n",
    "     transforms.Normalize((0.5, ), (0.5,))    #Normalise Image\n",
    "    ])\n",
    "\n",
    "  return transform_aug(image)"
   ]
  },
  {
   "cell_type": "markdown",
   "metadata": {
    "id": "QmJv73u-JAmZ"
   },
   "source": [
    "Use the below class for augmentation"
   ]
  },
  {
   "cell_type": "code",
   "execution_count": null,
   "metadata": {
    "id": "L54OGSS2flrB"
   },
   "outputs": [],
   "source": [
    "#Class used by DataLoader for training data\n",
    "class Images_train(Dataset):\n",
    "  def __init__(self, df):\n",
    "        #DataFrame Structure must be of the form: | FilePath | Label |\n",
    "        self.data = df\n",
    "\n",
    "  def __len__(self):\n",
    "    return len(self.data)\n",
    "\n",
    "  def __getitem__(self, index):\n",
    "    #print(index)\n",
    "    image1 = cv.imread(self.data.iloc[index, 0], cv.IMREAD_GRAYSCALE) #Column 0: FilePath\n",
    "    temp=random.randint(0,1)            #The temp variable takes care of the fact that not all images are augmented.\n",
    "    if temp == 1:                       #If temp is 1, \n",
    "      image1 = _preprocess_aug(image1)  #augment the image\n",
    "    else:                               #else\n",
    "      image1 = _preprocess(image1)      #No augmentations are to be performed\n",
    "\n",
    "    label = self.data.iloc[index, 1] #Column 1: Label\n",
    "\n",
    "    return image1, torch.from_numpy(np.array([label], dtype=np.float32))"
   ]
  },
  {
   "cell_type": "markdown",
   "metadata": {
    "id": "r3ToTdFVJJzy"
   },
   "source": [
    "Use the below class if augmentation is not required"
   ]
  },
  {
   "cell_type": "code",
   "execution_count": null,
   "metadata": {
    "id": "ep1uASGARZ1X"
   },
   "outputs": [],
   "source": [
    "#Class used by DataLoader for training data\n",
    "class Images_train(Dataset):\n",
    "  def __init__(self, df):\n",
    "        #DataFrame Structure must be of the form: | FilePath | Label |\n",
    "        self.data = df\n",
    "\n",
    "  def __len__(self):\n",
    "    return len(self.data)\n",
    "\n",
    "  def __getitem__(self, index):\n",
    "    #print(index)\n",
    "    image1 = cv.imread(self.data.iloc[index, 0], cv.IMREAD_GRAYSCALE) #Column 0: FilePath\n",
    "    image1 = _preprocess(image1)\n",
    "\n",
    "    label = self.data.iloc[index, 1] #Column 1: Label\n",
    "\n",
    "    return image1, torch.from_numpy(np.array([label], dtype=np.float32))"
   ]
  },
  {
   "cell_type": "code",
   "execution_count": null,
   "metadata": {
    "id": "x7AxhWcfRdcB"
   },
   "outputs": [],
   "source": [
    "#Class used by DataLoader for testing data\n",
    "class Images_test(Dataset):\n",
    "  def __init__(self, df):\n",
    "        self.data = df\n",
    "\n",
    "  def __len__(self):\n",
    "    return len(self.data)\n",
    "\n",
    "  def __getitem__(self, index):\n",
    "    #print(index)\n",
    "    image1 = cv.imread(self.data.iloc[index, 0], cv.IMREAD_GRAYSCALE) #Column 0: FilePath\n",
    "    image1 = _preprocess(image1)\n",
    "\n",
    "    label = self.data.iloc[index, 1] #Column 1: Label\n",
    "\n",
    "    return image1, torch.from_numpy(np.array([label], dtype=np.float32))"
   ]
  },
  {
   "cell_type": "code",
   "execution_count": null,
   "metadata": {
    "colab": {
     "base_uri": "https://localhost:8080/",
     "height": 204
    },
    "executionInfo": {
     "elapsed": 1565,
     "status": "ok",
     "timestamp": 1617790248381,
     "user": {
      "displayName": "Saloni Parekh",
      "photoUrl": "https://lh3.googleusercontent.com/a-/AOh14GigRkAeLdguHD8uTdcYmYuJQbGjVOo7H6xoSpvg1w=s64",
      "userId": "13474740441446535544"
     },
     "user_tz": -330
    },
    "id": "NJtbhtB7Redo",
    "outputId": "3642cd37-72a6-494d-f355-2a43a5206635"
   },
   "outputs": [
    {
     "data": {
      "text/html": [
       "<div>\n",
       "<style scoped>\n",
       "    .dataframe tbody tr th:only-of-type {\n",
       "        vertical-align: middle;\n",
       "    }\n",
       "\n",
       "    .dataframe tbody tr th {\n",
       "        vertical-align: top;\n",
       "    }\n",
       "\n",
       "    .dataframe thead th {\n",
       "        text-align: right;\n",
       "    }\n",
       "</style>\n",
       "<table border=\"1\" class=\"dataframe\">\n",
       "  <thead>\n",
       "    <tr style=\"text-align: right;\">\n",
       "      <th></th>\n",
       "      <th>FilePath</th>\n",
       "      <th>Label</th>\n",
       "    </tr>\n",
       "  </thead>\n",
       "  <tbody>\n",
       "    <tr>\n",
       "      <th>522</th>\n",
       "      <td>/content/train/Sample035/img035-022.png</td>\n",
       "      <td>34</td>\n",
       "    </tr>\n",
       "    <tr>\n",
       "      <th>318</th>\n",
       "      <td>/content/train/Sample034/img034-011.png</td>\n",
       "      <td>33</td>\n",
       "    </tr>\n",
       "    <tr>\n",
       "      <th>2310</th>\n",
       "      <td>/content/train/Sample040/img040-037.png</td>\n",
       "      <td>39</td>\n",
       "    </tr>\n",
       "    <tr>\n",
       "      <th>2462</th>\n",
       "      <td>/content/train/Sample012/img012-046.png</td>\n",
       "      <td>11</td>\n",
       "    </tr>\n",
       "    <tr>\n",
       "      <th>856</th>\n",
       "      <td>/content/train/Sample018/img018-030.png</td>\n",
       "      <td>17</td>\n",
       "    </tr>\n",
       "  </tbody>\n",
       "</table>\n",
       "</div>"
      ],
      "text/plain": [
       "                                     FilePath  Label\n",
       "522   /content/train/Sample035/img035-022.png     34\n",
       "318   /content/train/Sample034/img034-011.png     33\n",
       "2310  /content/train/Sample040/img040-037.png     39\n",
       "2462  /content/train/Sample012/img012-046.png     11\n",
       "856   /content/train/Sample018/img018-030.png     17"
      ]
     },
     "execution_count": 92,
     "metadata": {
      "tags": []
     },
     "output_type": "execute_result"
    }
   ],
   "source": [
    "df = pd.read_csv(\"/content/drive/MyDrive/MIDAS/Point1/pointOne_cpath.csv\")\n",
    "df = df.sample(frac = 1)\n",
    "df.head()"
   ]
  },
  {
   "cell_type": "code",
   "execution_count": null,
   "metadata": {
    "colab": {
     "base_uri": "https://localhost:8080/"
    },
    "executionInfo": {
     "elapsed": 1375,
     "status": "ok",
     "timestamp": 1617795135164,
     "user": {
      "displayName": "Saloni Parekh",
      "photoUrl": "https://lh3.googleusercontent.com/a-/AOh14GigRkAeLdguHD8uTdcYmYuJQbGjVOo7H6xoSpvg1w=s64",
      "userId": "13474740441446535544"
     },
     "user_tz": -330
    },
    "id": "4V_ModnSRgFg",
    "outputId": "14bda7f5-9930-4bd7-c86e-7b2c1117c9ac"
   },
   "outputs": [
    {
     "name": "stdout",
     "output_type": "stream",
     "text": [
      "images shape on batch size = torch.Size([8, 1, 200, 200])\n",
      "labels shape on batch size = torch.Size([8, 1])\n",
      "images shape on batch size = torch.Size([1, 1, 200, 200])\n",
      "labels shape on batch size = torch.Size([1, 1])\n"
     ]
    }
   ],
   "source": [
    "df_train, df_valid = train_test_split(df, test_size=0.25) #Split of 75/25\n",
    "train_dataset = Images_train(df_train)\n",
    "valid_dataset = Images_test(df_valid)\n",
    "\n",
    "train_loader = DataLoader(train_dataset, batch_size=8, shuffle=True)  #Train\n",
    "val_loader = DataLoader(valid_dataset, batch_size=1, shuffle=True)  #Test\n",
    "\n",
    "train_iter = iter(train_loader) \n",
    "images1, labels = train_iter.next()\n",
    "print('images shape on batch size = {}'.format(images1.size()))\n",
    "print('labels shape on batch size = {}'.format(labels.size()))\n",
    "\n",
    "val_iter = iter(val_loader)\n",
    "images1, labels = val_iter.next()\n",
    "print('images shape on batch size = {}'.format(images1.size()))\n",
    "print('labels shape on batch size = {}'.format(labels.size()))"
   ]
  },
  {
   "cell_type": "markdown",
   "metadata": {
    "id": "jOcxPG1uLesq"
   },
   "source": [
    "#Model Creation\n",
    "\n",
    "The following is the description of the model architecture:\n",
    "<font size=3px>\n",
    "1. Conv(1, 32) -> ReLU -> Dropout -> Maxpool</br>\n",
    "2. Conv(32, 64) -> ReLU -> Dropout -> Maxpool</br>\n",
    "3. Conv(64, 128) -> ReLU -> Dropout -> Maxpool</br>\n",
    "4. Conv(128, 256) -> ReLU -> Dropout -> Maxpool</br>\n",
    "5. Conv(256, 512) -> ReLU -> Dropout -> Maxpool</br>\n",
    "6. Transformer Encoder Layer</br>\n",
    "7. Transformer Encoder Layer</br>\n",
    "8. Transformer Encoder Layer</br>\n",
    "9. Fully Connected Layer (512, 62)</br>\n",
    "</font>\n",
    "\n",
    "##Explanation:\n",
    "The idea is to chain a convolutional neural network (CNN), with a Transformer encoder architecture. This CNN is responsible for extraction of the local information from the image and the Transformer encoder, reasons about the image as a whole and then generates the predictions. \n",
    "\n",
    "The transformer encoder is used to improve the embeddings recieved from the CNN, and the reason why it should succeed is because of the concept of \"Attention\" that is used in them. \n",
    "\n",
    "\n"
   ]
  },
  {
   "cell_type": "code",
   "execution_count": null,
   "metadata": {
    "id": "_7v1fQqJRi5a"
   },
   "outputs": [],
   "source": [
    "class smallModel(nn.Module):\n",
    "  def __init__(self):\n",
    "    super(smallModel, self).__init__()\n",
    "    \n",
    "    self.zp1 = nn.ZeroPad2d(1)\n",
    "    self.conv1 = nn.Conv2d(1, 32, kernel_size=3, stride=1, padding=1)\n",
    "    self.mp1 = nn.MaxPool2d(kernel_size=2)\n",
    "    self.dp = nn.Dropout(p=0.3)\n",
    "\n",
    "    self.zp2 = nn.ZeroPad2d(1)\n",
    "    self.conv2 = nn.Conv2d(32, 64, kernel_size=3, stride=1, padding=1)\n",
    "    self.mp2 = nn.MaxPool2d(kernel_size=2)\n",
    "\n",
    "    self.zp3 = nn.ZeroPad2d(1)\n",
    "    self.conv3 = nn.Conv2d(64, 128, kernel_size=3, stride=1, padding=1)\n",
    "    self.mp3 = nn.MaxPool2d(kernel_size=2)\n",
    "\n",
    "    self.conv4 = nn.Conv2d(128, 256, kernel_size=3, stride=1, padding=1)\n",
    "    self.mp4 = nn.MaxPool2d(kernel_size=2)\n",
    "\n",
    "    self.conv5 = nn.Conv2d(256, 512, kernel_size=3, stride=1, padding=1)\n",
    "    self.mp5 = nn.MaxPool2d(kernel_size=2)\n",
    "\n",
    "    self.encoder_layer = nn.TransformerEncoderLayer(d_model=512, nhead=8)\n",
    "    self.transformer_encoder = nn.TransformerEncoder(self.encoder_layer, num_layers=3) #num_layers=3: Three encoder layers in one block\n",
    "\n",
    "    self.relu = nn.ReLU()\n",
    "\n",
    "    self.row_emb = nn.Parameter(torch.rand(64, 512 // 2)) #[64, 256]\n",
    "    self.col_emb = nn.Parameter(torch.rand(64, 512 // 2)) #[64, 256]\n",
    "\n",
    "    self.fc4 = nn.Linear(512 * 6 * 6, 62)\n",
    "\n",
    "    #Kindly ignore these layers\n",
    "    self.fc1 = nn.Linear(512 * 6 * 6, 9216)\n",
    "    self.fc2 = nn.Linear(9216, 4096)\n",
    "    self.fc3 = nn.Linear(4096, 1024)\n",
    "\n",
    "\n",
    "  def forward(self, x):\n",
    "    x = self.dp(self.relu(self.conv1(x)))   #Conv -> ReLU -> Dropout: 200 * 200 * 32\n",
    "    x = self.mp1(x)                         #MaxPool: 100 * 100 * 32\n",
    "\n",
    "    x = self.dp(self.relu(self.conv2(x)))   #Conv -> ReLU -> Dropout: 100 * 100 * 64\n",
    "    x = self.mp2(x)                         #MaxPool: 50 * 50 * 64\n",
    "\n",
    "    x = self.dp(self.relu(self.conv3(x)))   #Conv -> ReLU -> Dropout: 50 * 50 * 128\n",
    "    x = self.mp3(x)                         #MaxPool: 25 * 25 * 128\n",
    "\n",
    "    x = self.dp(self.relu(self.conv4(x)))   #Conv -> ReLU -> Dropout: 25 * 25 * 256\n",
    "    x = self.mp4(x)                         #MaxPool: 12 * 12 * 256\n",
    "\n",
    "    x = self.dp(self.relu(self.conv5(x)))   #Conv -> ReLU -> Dropout: 12 * 12 * 512\n",
    "    x = self.mp5(x)                         #MaxPool: 6 * 6 * 512\n",
    "\n",
    "    H = x.shape[-1]#H = 6\n",
    "    W = x.shape[-2]#W = 6\n",
    "\n",
    "   \n",
    "    pos = torch.cat([self.col_emb[:W].unsqueeze(0).repeat(H, 1, 1), self.row_emb[:H].unsqueeze(1).repeat(1, W, 1),], dim=-1).flatten(0, 1).unsqueeze(1)\n",
    "    #Shape of pos: [6 * 6, 1,  512]\n",
    "\n",
    "    x = x.flatten(2).permute(2, 0, 1)\n",
    "\n",
    "    x = self.transformer_encoder(pos + x) \n",
    "\n",
    "    x = x.permute(1, 2, 0)\n",
    "    x = torch.reshape(x, ((x.shape)[0], 512 * 36))\n",
    "\n",
    "    #x = self.relu(self.fc1(x))\n",
    "    #x = self.relu(self.fc2(x))\n",
    "    #x = self.relu(self.fc3(x))\n",
    "    x = self.fc4(x)\n",
    "  \n",
    "    return x"
   ]
  },
  {
   "cell_type": "code",
   "execution_count": null,
   "metadata": {
    "id": "_o8-4z38RrXz"
   },
   "outputs": [],
   "source": [
    "device = torch.device(\"cuda\" if torch.cuda.is_available() else \"cpu\")\n",
    "model = smallModel().to(device)\n",
    "print(model)"
   ]
  },
  {
   "cell_type": "code",
   "execution_count": null,
   "metadata": {
    "id": "dKUBtYhfgD_z"
   },
   "outputs": [],
   "source": [
    "x = torch.rand(1, 200, 200)\n",
    "x = x.unsqueeze(0)\n",
    "print(x.shape)\n",
    "\n",
    "#model = smallModel()\n",
    "#model.train()\n",
    "pred = model(x)"
   ]
  },
  {
   "cell_type": "markdown",
   "metadata": {
    "id": "9nO47iuchnOw"
   },
   "source": [
    "#Model Training"
   ]
  },
  {
   "cell_type": "code",
   "execution_count": null,
   "metadata": {
    "id": "zfJKBhxMRtPI"
   },
   "outputs": [],
   "source": [
    "#Returns number of elements that are equal in the out (output) and labels (target) tensor\n",
    "def accuracy(out, labels):\n",
    "    count = 0\n",
    "    _,pred = torch.max(out, dim=1)\n",
    "    for i in range(out.shape[0]):\n",
    "      if pred[i] == labels[i][0]:\n",
    "        count = count + 1\n",
    "    return count"
   ]
  },
  {
   "cell_type": "markdown",
   "metadata": {
    "id": "2WtBTAg9i-Xb"
   },
   "source": [
    "With Augmentation"
   ]
  },
  {
   "cell_type": "code",
   "execution_count": null,
   "metadata": {
    "colab": {
     "base_uri": "https://localhost:8080/"
    },
    "executionInfo": {
     "elapsed": 1018096,
     "status": "ok",
     "timestamp": 1617793280197,
     "user": {
      "displayName": "Saloni Parekh",
      "photoUrl": "https://lh3.googleusercontent.com/a-/AOh14GigRkAeLdguHD8uTdcYmYuJQbGjVOo7H6xoSpvg1w=s64",
      "userId": "13474740441446535544"
     },
     "user_tz": -330
    },
    "id": "OIpsjyXHf4GF",
    "outputId": "3079e7a8-6d4e-4f25-c1e1-94d356c61d04"
   },
   "outputs": [
    {
     "name": "stdout",
     "output_type": "stream",
     "text": [
      "Training: \n",
      "Validation: \n",
      "Epoch: 1 \tTraining Loss: 4.803071 \tTraining Accuracy: 0.009120 \tValidation Loss: 4.427864 \tValidation Accuracy: 0.016129\n",
      "Training: \n",
      "Validation: \n",
      "Epoch: 2 \tTraining Loss: 4.448962 \tTraining Accuracy: 0.017167 \tValidation Loss: 4.329213 \tValidation Accuracy: 0.022581\n",
      "Training: \n",
      "Validation: \n",
      "Epoch: 3 \tTraining Loss: 4.368277 \tTraining Accuracy: 0.012876 \tValidation Loss: 4.279251 \tValidation Accuracy: 0.022581\n",
      "Training: \n",
      "Validation: \n",
      "Epoch: 4 \tTraining Loss: 4.309457 \tTraining Accuracy: 0.014485 \tValidation Loss: 4.264051 \tValidation Accuracy: 0.019355\n",
      "Training: \n",
      "Validation: \n",
      "Epoch: 5 \tTraining Loss: 3.944825 \tTraining Accuracy: 0.070815 \tValidation Loss: 3.794700 \tValidation Accuracy: 0.082258\n",
      "Training: \n",
      "Validation: \n",
      "Epoch: 6 \tTraining Loss: 3.025293 \tTraining Accuracy: 0.233906 \tValidation Loss: 2.586340 \tValidation Accuracy: 0.311290\n",
      "Training: \n",
      "Validation: \n",
      "Epoch: 7 \tTraining Loss: 2.019408 \tTraining Accuracy: 0.435622 \tValidation Loss: 1.715645 \tValidation Accuracy: 0.491935\n",
      "Training: \n",
      "Validation: \n",
      "Epoch: 8 \tTraining Loss: 1.492178 \tTraining Accuracy: 0.573498 \tValidation Loss: 2.324620 \tValidation Accuracy: 0.343548\n",
      "Training: \n",
      "Validation: \n",
      "Epoch: 9 \tTraining Loss: 1.107613 \tTraining Accuracy: 0.666309 \tValidation Loss: 2.155924 \tValidation Accuracy: 0.401613\n",
      "Training: \n",
      "Validation: \n",
      "Epoch: 10 \tTraining Loss: 0.922411 \tTraining Accuracy: 0.719957 \tValidation Loss: 1.380671 \tValidation Accuracy: 0.611290\n",
      "Training: \n",
      "Validation: \n",
      "Epoch: 11 \tTraining Loss: 0.734726 \tTraining Accuracy: 0.762339 \tValidation Loss: 1.292339 \tValidation Accuracy: 0.633871\n",
      "Training: \n",
      "Validation: \n",
      "Epoch: 12 \tTraining Loss: 0.606451 \tTraining Accuracy: 0.803648 \tValidation Loss: 1.214134 \tValidation Accuracy: 0.645161\n",
      "Training: \n",
      "Validation: \n",
      "Epoch: 13 \tTraining Loss: 0.492621 \tTraining Accuracy: 0.837446 \tValidation Loss: 1.264126 \tValidation Accuracy: 0.616129\n",
      "Training: \n",
      "Validation: \n",
      "Epoch: 14 \tTraining Loss: 0.440455 \tTraining Accuracy: 0.849785 \tValidation Loss: 1.279717 \tValidation Accuracy: 0.653226\n",
      "Training: \n",
      "Validation: \n",
      "Epoch: 15 \tTraining Loss: 0.424274 \tTraining Accuracy: 0.855150 \tValidation Loss: 1.167257 \tValidation Accuracy: 0.670968\n",
      "Training: \n",
      "Validation: \n",
      "Epoch: 16 \tTraining Loss: 0.331119 \tTraining Accuracy: 0.886803 \tValidation Loss: 1.138694 \tValidation Accuracy: 0.677419\n",
      "Training: \n",
      "Validation: \n",
      "Epoch: 17 \tTraining Loss: 0.319768 \tTraining Accuracy: 0.892704 \tValidation Loss: 0.936025 \tValidation Accuracy: 0.750000\n",
      "Training: \n",
      "Validation: \n",
      "Epoch: 18 \tTraining Loss: 0.314176 \tTraining Accuracy: 0.898069 \tValidation Loss: 1.097310 \tValidation Accuracy: 0.706452\n",
      "Training: \n",
      "Validation: \n",
      "Epoch: 19 \tTraining Loss: 0.263633 \tTraining Accuracy: 0.915236 \tValidation Loss: 0.999164 \tValidation Accuracy: 0.720968\n",
      "Training: \n",
      "Validation: \n",
      "Epoch: 20 \tTraining Loss: 0.284069 \tTraining Accuracy: 0.904506 \tValidation Loss: 0.982020 \tValidation Accuracy: 0.722581\n",
      "Training: \n",
      "Validation: \n",
      "Epoch: 21 \tTraining Loss: 0.246717 \tTraining Accuracy: 0.920601 \tValidation Loss: 0.916848 \tValidation Accuracy: 0.753226\n",
      "Training: \n",
      "Validation: \n",
      "Epoch: 22 \tTraining Loss: 0.219073 \tTraining Accuracy: 0.922210 \tValidation Loss: 0.938339 \tValidation Accuracy: 0.717742\n",
      "Training: \n",
      "Validation: \n",
      "Epoch: 23 \tTraining Loss: 0.263187 \tTraining Accuracy: 0.908262 \tValidation Loss: 1.202176 \tValidation Accuracy: 0.691935\n",
      "Training: \n",
      "Validation: \n",
      "Epoch: 24 \tTraining Loss: 0.197488 \tTraining Accuracy: 0.933476 \tValidation Loss: 1.085047 \tValidation Accuracy: 0.738710\n",
      "Training: \n",
      "Validation: \n",
      "Epoch: 25 \tTraining Loss: 0.219210 \tTraining Accuracy: 0.923820 \tValidation Loss: 1.238530 \tValidation Accuracy: 0.709677\n",
      "Training: \n",
      "Validation: \n",
      "Epoch: 26 \tTraining Loss: 0.234537 \tTraining Accuracy: 0.912554 \tValidation Loss: 1.015155 \tValidation Accuracy: 0.738710\n",
      "Training: \n",
      "Validation: \n",
      "Epoch: 27 \tTraining Loss: 0.185451 \tTraining Accuracy: 0.942597 \tValidation Loss: 1.094548 \tValidation Accuracy: 0.711290\n",
      "Training: \n",
      "Validation: \n",
      "Epoch: 28 \tTraining Loss: 0.207864 \tTraining Accuracy: 0.930794 \tValidation Loss: 0.979444 \tValidation Accuracy: 0.748387\n",
      "Training: \n",
      "Validation: \n",
      "Epoch: 29 \tTraining Loss: 0.168917 \tTraining Accuracy: 0.939914 \tValidation Loss: 0.918426 \tValidation Accuracy: 0.779032\n"
     ]
    }
   ],
   "source": [
    "train_loss_list = []\n",
    "valid_loss_list = []\n",
    "train_accuracy = []\n",
    "valid_accuracy = []\n",
    "\n",
    "epochs = 10\n",
    "optimizer = optim.Adam(model.parameters(), lr = 0.0001, weight_decay = 1e-4)\n",
    "criterion = nn.CrossEntropyLoss()\n",
    "min_valid_loss = np.Inf\n",
    "check_epoch = 5\n",
    "epoch_no_improve = 0\n",
    "i = 0\n",
    "\n",
    "\n",
    "for epoch in range(1, 30):\n",
    "  train_loss = 0\n",
    "  valid_loss = 0\n",
    "  tcorrect = 0\n",
    "  vcorrect = 0\n",
    "  model.train()\n",
    "\n",
    "  device = torch.device(\"cuda\" if torch.cuda.is_available() else \"cpu\")\n",
    "  print(\"Training: \")\n",
    "  for batch, (img, target) in enumerate(train_loader):\n",
    "    #print(batch)\n",
    "    if torch.cuda.is_available():\n",
    "        img, target = img.to(device=device, dtype=torch.float), target.to(device=device, dtype=torch.long)\n",
    "\n",
    "    optimizer.zero_grad()\n",
    "    output = model(img)\n",
    "\n",
    "    loss = criterion(output, target.view(-1))\n",
    "\n",
    "    loss.backward()\n",
    "    optimizer.step()\n",
    "\n",
    "    train_loss += loss.item()\n",
    "    tcorrect += accuracy(output, target)\n",
    "    _,pred = torch.max(output, dim=1)\n",
    "    \"\"\"print('Pred: ')\n",
    "    print(pred)\n",
    "    print('Target: ')\n",
    "    print(target)\"\"\"\n",
    "  \n",
    "    \n",
    "  model.eval()\n",
    "  print(\"Validation: \")\n",
    "  for batch, (img, target) in enumerate(val_loader):\n",
    "    if torch.cuda.is_available():\n",
    "        img, target = img.to(device=device, dtype=torch.float), target.to(device=device, dtype=torch.long)\n",
    "\n",
    "    output = model(img)\n",
    "    \n",
    "    loss = criterion(output, target.view(-1))\n",
    "\n",
    "    valid_loss += loss.item()\n",
    "    vcorrect += accuracy(output, target)\n",
    "    _,pred = torch.max(output, dim=1)\n",
    "    \"\"\"print('Pred: ')\n",
    "    print(pred)\n",
    "    print('Target: ')\n",
    "    print(target)\"\"\"\n",
    "    \n",
    "  # calculate average losses\n",
    "  train_loss = train_loss/len(train_loader)\n",
    "  valid_loss = valid_loss/len(val_loader)\n",
    "  train_loss_list.append(train_loss)\n",
    "  valid_loss_list.append(valid_loss)\n",
    "\n",
    "  tcorrect = tcorrect/(len(train_loader) * 8)\n",
    "  vcorrect = vcorrect/len(val_loader)\n",
    "  train_accuracy.append(tcorrect)\n",
    "  valid_accuracy.append(vcorrect)\n",
    "  \n",
    "  # print training/validation statistics \n",
    "  print('Epoch: {} \\tTraining Loss: {:.6f} \\tTraining Accuracy: {:.6f} \\tValidation Loss: {:.6f} \\tValidation Accuracy: {:.6f}'.format(\n",
    "      epoch, train_loss, tcorrect, valid_loss, vcorrect))\n",
    "  #print(train_loss_list)\n",
    "  #print(valid_loss_list)\n"
   ]
  },
  {
   "cell_type": "code",
   "execution_count": null,
   "metadata": {
    "id": "Xmlj2PX3YIOv"
   },
   "outputs": [],
   "source": [
    "chkpt_path = \"/content/drive/MyDrive/MIDAS/Point1/model_encoder_aug.pt\" \n",
    "torch.save({\n",
    "            'epoch': epoch,\n",
    "            'model_state_dict': model.state_dict(),\n",
    "            'optimizer_state_dict': optimizer.state_dict(),\n",
    "            'loss': loss,\n",
    "            }, chkpt_path)"
   ]
  },
  {
   "cell_type": "markdown",
   "metadata": {
    "id": "MZNK4U0JjDEv"
   },
   "source": [
    "Without Augmentation"
   ]
  },
  {
   "cell_type": "code",
   "execution_count": null,
   "metadata": {
    "colab": {
     "base_uri": "https://localhost:8080/"
    },
    "executionInfo": {
     "elapsed": 1023728,
     "status": "ok",
     "timestamp": 1617794537490,
     "user": {
      "displayName": "Saloni Parekh",
      "photoUrl": "https://lh3.googleusercontent.com/a-/AOh14GigRkAeLdguHD8uTdcYmYuJQbGjVOo7H6xoSpvg1w=s64",
      "userId": "13474740441446535544"
     },
     "user_tz": -330
    },
    "id": "Sf2dUgCw_vfq",
    "outputId": "6a079bbf-10df-480d-a819-8c6c4f24d04f"
   },
   "outputs": [
    {
     "name": "stdout",
     "output_type": "stream",
     "text": [
      "Training: \n",
      "Validation: \n",
      "Epoch: 1 \tTraining Loss: 4.796488 \tTraining Accuracy: 0.017704 \tValidation Loss: 4.579155 \tValidation Accuracy: 0.017742\n",
      "Training: \n",
      "Validation: \n",
      "Epoch: 2 \tTraining Loss: 4.445758 \tTraining Accuracy: 0.017704 \tValidation Loss: 4.485931 \tValidation Accuracy: 0.017742\n",
      "Training: \n",
      "Validation: \n",
      "Epoch: 3 \tTraining Loss: 4.128207 \tTraining Accuracy: 0.049356 \tValidation Loss: 3.649084 \tValidation Accuracy: 0.132258\n",
      "Training: \n",
      "Validation: \n",
      "Epoch: 4 \tTraining Loss: 2.574164 \tTraining Accuracy: 0.340129 \tValidation Loss: 2.369130 \tValidation Accuracy: 0.369355\n",
      "Training: \n",
      "Validation: \n",
      "Epoch: 5 \tTraining Loss: 1.354532 \tTraining Accuracy: 0.609979 \tValidation Loss: 1.815850 \tValidation Accuracy: 0.475806\n",
      "Training: \n",
      "Validation: \n",
      "Epoch: 6 \tTraining Loss: 0.895825 \tTraining Accuracy: 0.731760 \tValidation Loss: 1.299558 \tValidation Accuracy: 0.627419\n",
      "Training: \n",
      "Validation: \n",
      "Epoch: 7 \tTraining Loss: 0.593726 \tTraining Accuracy: 0.816524 \tValidation Loss: 1.186498 \tValidation Accuracy: 0.651613\n",
      "Training: \n",
      "Validation: \n",
      "Epoch: 8 \tTraining Loss: 0.384243 \tTraining Accuracy: 0.883047 \tValidation Loss: 1.053205 \tValidation Accuracy: 0.704839\n",
      "Training: \n",
      "Validation: \n",
      "Epoch: 9 \tTraining Loss: 0.280713 \tTraining Accuracy: 0.910408 \tValidation Loss: 1.109442 \tValidation Accuracy: 0.680645\n",
      "Training: \n",
      "Validation: \n",
      "Epoch: 10 \tTraining Loss: 0.216595 \tTraining Accuracy: 0.929185 \tValidation Loss: 1.513338 \tValidation Accuracy: 0.579032\n",
      "Training: \n",
      "Validation: \n",
      "Epoch: 11 \tTraining Loss: 0.205112 \tTraining Accuracy: 0.938841 \tValidation Loss: 1.347229 \tValidation Accuracy: 0.630645\n",
      "Training: \n",
      "Validation: \n",
      "Epoch: 12 \tTraining Loss: 0.135724 \tTraining Accuracy: 0.955472 \tValidation Loss: 1.030194 \tValidation Accuracy: 0.714516\n",
      "Training: \n",
      "Validation: \n",
      "Epoch: 13 \tTraining Loss: 0.123909 \tTraining Accuracy: 0.959764 \tValidation Loss: 1.125646 \tValidation Accuracy: 0.690323\n",
      "Training: \n",
      "Validation: \n",
      "Epoch: 14 \tTraining Loss: 0.124406 \tTraining Accuracy: 0.961910 \tValidation Loss: 1.070146 \tValidation Accuracy: 0.727419\n",
      "Training: \n",
      "Validation: \n",
      "Epoch: 15 \tTraining Loss: 0.109623 \tTraining Accuracy: 0.962446 \tValidation Loss: 0.990050 \tValidation Accuracy: 0.730645\n",
      "Training: \n",
      "Validation: \n",
      "Epoch: 16 \tTraining Loss: 0.094339 \tTraining Accuracy: 0.971567 \tValidation Loss: 1.131980 \tValidation Accuracy: 0.704839\n",
      "Training: \n",
      "Validation: \n",
      "Epoch: 17 \tTraining Loss: 0.094665 \tTraining Accuracy: 0.968348 \tValidation Loss: 1.078759 \tValidation Accuracy: 0.727419\n",
      "Training: \n",
      "Validation: \n",
      "Epoch: 18 \tTraining Loss: 0.117271 \tTraining Accuracy: 0.958691 \tValidation Loss: 1.213544 \tValidation Accuracy: 0.685484\n",
      "Training: \n",
      "Validation: \n",
      "Epoch: 19 \tTraining Loss: 0.102378 \tTraining Accuracy: 0.964592 \tValidation Loss: 1.191076 \tValidation Accuracy: 0.704839\n",
      "Training: \n",
      "Validation: \n",
      "Epoch: 20 \tTraining Loss: 0.077723 \tTraining Accuracy: 0.975322 \tValidation Loss: 1.121682 \tValidation Accuracy: 0.729032\n",
      "Training: \n",
      "Validation: \n",
      "Epoch: 21 \tTraining Loss: 0.083598 \tTraining Accuracy: 0.975322 \tValidation Loss: 1.155654 \tValidation Accuracy: 0.708065\n",
      "Training: \n",
      "Validation: \n",
      "Epoch: 22 \tTraining Loss: 0.057341 \tTraining Accuracy: 0.981760 \tValidation Loss: 1.229709 \tValidation Accuracy: 0.727419\n",
      "Training: \n",
      "Validation: \n",
      "Epoch: 23 \tTraining Loss: 0.066815 \tTraining Accuracy: 0.973712 \tValidation Loss: 1.418565 \tValidation Accuracy: 0.640323\n",
      "Training: \n",
      "Validation: \n",
      "Epoch: 24 \tTraining Loss: 0.114453 \tTraining Accuracy: 0.961373 \tValidation Loss: 1.202342 \tValidation Accuracy: 0.720968\n",
      "Training: \n",
      "Validation: \n",
      "Epoch: 25 \tTraining Loss: 0.068412 \tTraining Accuracy: 0.976931 \tValidation Loss: 1.229959 \tValidation Accuracy: 0.727419\n",
      "Training: \n",
      "Validation: \n",
      "Epoch: 26 \tTraining Loss: 0.045624 \tTraining Accuracy: 0.984979 \tValidation Loss: 1.245239 \tValidation Accuracy: 0.709677\n",
      "Training: \n",
      "Validation: \n",
      "Epoch: 27 \tTraining Loss: 0.084141 \tTraining Accuracy: 0.973712 \tValidation Loss: 1.457001 \tValidation Accuracy: 0.654839\n",
      "Training: \n",
      "Validation: \n",
      "Epoch: 28 \tTraining Loss: 0.112748 \tTraining Accuracy: 0.964592 \tValidation Loss: 1.484033 \tValidation Accuracy: 0.666129\n",
      "Training: \n",
      "Validation: \n",
      "Epoch: 29 \tTraining Loss: 0.091380 \tTraining Accuracy: 0.968884 \tValidation Loss: 1.333468 \tValidation Accuracy: 0.716129\n"
     ]
    }
   ],
   "source": [
    "train_loss_list = []\n",
    "valid_loss_list = []\n",
    "train_accuracy = []\n",
    "valid_accuracy = []\n",
    "\n",
    "epochs = 10\n",
    "optimizer = optim.Adam(model.parameters(), lr = 0.0001, weight_decay = 1e-4)\n",
    "criterion = nn.CrossEntropyLoss()\n",
    "min_valid_loss = np.Inf\n",
    "check_epoch = 5\n",
    "epoch_no_improve = 0\n",
    "i = 0\n",
    "\n",
    "\n",
    "for epoch in range(1, 30):\n",
    "  train_loss = 0\n",
    "  valid_loss = 0\n",
    "  tcorrect = 0\n",
    "  vcorrect = 0\n",
    "  model.train()\n",
    "\n",
    "  device = torch.device(\"cuda\" if torch.cuda.is_available() else \"cpu\")\n",
    "  print(\"Training: \")\n",
    "  for batch, (img, target) in enumerate(train_loader):\n",
    "    #print(batch)\n",
    "    if torch.cuda.is_available():\n",
    "        img, target = img.to(device=device, dtype=torch.float), target.to(device=device, dtype=torch.long)\n",
    "\n",
    "    optimizer.zero_grad()\n",
    "    output = model(img)\n",
    "\n",
    "    loss = criterion(output, target.view(-1))\n",
    "\n",
    "    loss.backward()\n",
    "    optimizer.step()\n",
    "\n",
    "    train_loss += loss.item()\n",
    "    tcorrect += accuracy(output, target)\n",
    "    _,pred = torch.max(output, dim=1)\n",
    "    \"\"\"print('Pred: ')\n",
    "    print(pred)\n",
    "    print('Target: ')\n",
    "    print(target)\"\"\"\n",
    "  \n",
    "    \n",
    "  model.eval()\n",
    "  print(\"Validation: \")\n",
    "  for batch, (img, target) in enumerate(val_loader):\n",
    "    if torch.cuda.is_available():\n",
    "        img, target = img.to(device=device, dtype=torch.float), target.to(device=device, dtype=torch.long)\n",
    "\n",
    "    output = model(img)\n",
    "    \n",
    "    loss = criterion(output, target.view(-1))\n",
    "\n",
    "    valid_loss += loss.item()\n",
    "    vcorrect += accuracy(output, target)\n",
    "    _,pred = torch.max(output, dim=1)\n",
    "    \"\"\"print('Pred: ')\n",
    "    print(pred)\n",
    "    print('Target: ')\n",
    "    print(target)\"\"\"\n",
    "    \n",
    "  # calculate average losses\n",
    "  train_loss = train_loss/len(train_loader)\n",
    "  valid_loss = valid_loss/len(val_loader)\n",
    "  train_loss_list.append(train_loss)\n",
    "  valid_loss_list.append(valid_loss)\n",
    "\n",
    "  tcorrect = tcorrect/(len(train_loader) * 8)\n",
    "  vcorrect = vcorrect/len(val_loader)\n",
    "  train_accuracy.append(tcorrect)\n",
    "  valid_accuracy.append(vcorrect)\n",
    "  \n",
    "  # print training/validation statistics \n",
    "  print('Epoch: {} \\tTraining Loss: {:.6f} \\tTraining Accuracy: {:.6f} \\tValidation Loss: {:.6f} \\tValidation Accuracy: {:.6f}'.format(\n",
    "      epoch, train_loss, tcorrect, valid_loss, vcorrect))\n",
    "  #print(train_loss_list)\n",
    "  #print(valid_loss_list)\n"
   ]
  },
  {
   "cell_type": "code",
   "execution_count": null,
   "metadata": {
    "id": "rEQpJsMVAfiO"
   },
   "outputs": [],
   "source": [
    "chkpt_path = \"model_encoder_final.pt\"\n",
    "torch.save({\n",
    "            'epoch': epoch,\n",
    "            'model_state_dict': model.state_dict(),\n",
    "            'optimizer_state_dict': optimizer.state_dict(),\n",
    "            'loss': loss,\n",
    "            }, chkpt_path)"
   ]
  },
  {
   "cell_type": "markdown",
   "metadata": {
    "id": "Xk5jcEqZiGVp"
   },
   "source": [
    "#Visualisation and Evaluation"
   ]
  },
  {
   "cell_type": "code",
   "execution_count": null,
   "metadata": {
    "colab": {
     "base_uri": "https://localhost:8080/",
     "height": 300
    },
    "executionInfo": {
     "elapsed": 1451,
     "status": "ok",
     "timestamp": 1617782816113,
     "user": {
      "displayName": "Saloni Parekh",
      "photoUrl": "https://lh3.googleusercontent.com/a-/AOh14GigRkAeLdguHD8uTdcYmYuJQbGjVOo7H6xoSpvg1w=s64",
      "userId": "13474740441446535544"
     },
     "user_tz": -330
    },
    "id": "B9vMAFmbSnQ3",
    "outputId": "b7a0734a-0738-448d-ee10-c52df032bffb"
   },
   "outputs": [
    {
     "data": {
      "text/plain": [
       "<matplotlib.legend.Legend at 0x7f4c9ed306d0>"
      ]
     },
     "execution_count": 18,
     "metadata": {
      "tags": []
     },
     "output_type": "execute_result"
    },
    {
     "data": {
      "image/png": "[encoded data removed]",
      "text/plain": [
       "<Figure size 432x288 with 1 Axes>"
      ]
     },
     "metadata": {
      "needs_background": "light",
      "tags": []
     },
     "output_type": "display_data"
    }
   ],
   "source": [
    "#Without Augmentation\n",
    "a = [i for  i in range(1, 21)]\n",
    "plt.plot(a, train_loss_list, label = 'Training Loss')\n",
    "plt.plot(a, valid_loss_list, label = 'Validation Loss')\n",
    "plt.xlabel(\"Epochs\")\n",
    "plt.ylabel(\"Loss\")\n",
    "plt.legend()"
   ]
  },
  {
   "cell_type": "code",
   "execution_count": null,
   "metadata": {
    "colab": {
     "base_uri": "https://localhost:8080/",
     "height": 299
    },
    "executionInfo": {
     "elapsed": 1275,
     "status": "ok",
     "timestamp": 1617793303970,
     "user": {
      "displayName": "Saloni Parekh",
      "photoUrl": "https://lh3.googleusercontent.com/a-/AOh14GigRkAeLdguHD8uTdcYmYuJQbGjVOo7H6xoSpvg1w=s64",
      "userId": "13474740441446535544"
     },
     "user_tz": -330
    },
    "id": "l3qSwpgft0G4",
    "outputId": "5dfc4ad2-d6b4-4f50-e9d9-f1b6aed3e4e6"
   },
   "outputs": [
    {
     "data": {
      "text/plain": [
       "<matplotlib.legend.Legend at 0x7f4bbba58490>"
      ]
     },
     "execution_count": 110,
     "metadata": {
      "tags": []
     },
     "output_type": "execute_result"
    },
    {
     "data": {
      "image/png": "[encoded data removed]",
      "text/plain": [
       "<Figure size 432x288 with 1 Axes>"
      ]
     },
     "metadata": {
      "needs_background": "light",
      "tags": []
     },
     "output_type": "display_data"
    }
   ],
   "source": [
    "#With Augmentation\n",
    "a = [i for  i in range(1, 30)]\n",
    "plt.plot(a, train_loss_list, label = 'Training Loss')\n",
    "plt.plot(a, valid_loss_list, label = 'Validation Loss')\n",
    "plt.xlabel(\"Epochs\")\n",
    "plt.ylabel(\"Loss\")\n",
    "plt.legend()"
   ]
  },
  {
   "cell_type": "code",
   "execution_count": null,
   "metadata": {
    "colab": {
     "base_uri": "https://localhost:8080/",
     "height": 204
    },
    "executionInfo": {
     "elapsed": 10591,
     "status": "ok",
     "timestamp": 1617799266310,
     "user": {
      "displayName": "Saloni Parekh",
      "photoUrl": "https://lh3.googleusercontent.com/a-/AOh14GigRkAeLdguHD8uTdcYmYuJQbGjVOo7H6xoSpvg1w=s64",
      "userId": "13474740441446535544"
     },
     "user_tz": -330
    },
    "id": "C6IUYVoRSHFQ",
    "outputId": "d22fddad-9200-4fcf-9b37-954c6bb50a31"
   },
   "outputs": [
    {
     "data": {
      "text/html": [
       "<div>\n",
       "<style scoped>\n",
       "    .dataframe tbody tr th:only-of-type {\n",
       "        vertical-align: middle;\n",
       "    }\n",
       "\n",
       "    .dataframe tbody tr th {\n",
       "        vertical-align: top;\n",
       "    }\n",
       "\n",
       "    .dataframe thead th {\n",
       "        text-align: right;\n",
       "    }\n",
       "</style>\n",
       "<table border=\"1\" class=\"dataframe\">\n",
       "  <thead>\n",
       "    <tr style=\"text-align: right;\">\n",
       "      <th></th>\n",
       "      <th>Pred</th>\n",
       "      <th>Target</th>\n",
       "    </tr>\n",
       "  </thead>\n",
       "  <tbody>\n",
       "    <tr>\n",
       "      <th>0</th>\n",
       "      <td>60</td>\n",
       "      <td>60</td>\n",
       "    </tr>\n",
       "    <tr>\n",
       "      <th>1</th>\n",
       "      <td>22</td>\n",
       "      <td>22</td>\n",
       "    </tr>\n",
       "    <tr>\n",
       "      <th>2</th>\n",
       "      <td>40</td>\n",
       "      <td>40</td>\n",
       "    </tr>\n",
       "    <tr>\n",
       "      <th>3</th>\n",
       "      <td>3</td>\n",
       "      <td>9</td>\n",
       "    </tr>\n",
       "    <tr>\n",
       "      <th>4</th>\n",
       "      <td>47</td>\n",
       "      <td>18</td>\n",
       "    </tr>\n",
       "  </tbody>\n",
       "</table>\n",
       "</div>"
      ],
      "text/plain": [
       "   Pred  Target\n",
       "0    60      60\n",
       "1    22      22\n",
       "2    40      40\n",
       "3     3       9\n",
       "4    47      18"
      ]
     },
     "execution_count": 151,
     "metadata": {
      "tags": []
     },
     "output_type": "execute_result"
    }
   ],
   "source": [
    "#Evaluation begins\n",
    "i = 0\n",
    "l1 = []\n",
    "l2 = []\n",
    "\n",
    "model.eval()\n",
    "test_loader = DataLoader(valid_dataset, batch_size=1, shuffle=True)\n",
    "for batch, (img, target) in enumerate(test_loader):\n",
    "    if torch.cuda.is_available():\n",
    "        img, target = img.to(device=device, dtype=torch.float), target.to(device=device, dtype=torch.long)\n",
    "\n",
    "    output = model(img)\n",
    "    \n",
    "    vcorrect += accuracy(output, target)\n",
    "    _,pred = torch.max(output, dim=1)\n",
    "    l1.append(pred.item())\n",
    "    l2.append(target.item)\n",
    "\n",
    "df = pd.DataFrame(columns=[\"Pred\", \"Target\"])\n",
    "df[\"Pred\"] = l1\n",
    "df[\"Target\"] = l2\n",
    "df.head()"
   ]
  },
  {
   "cell_type": "code",
   "execution_count": null,
   "metadata": {
    "id": "kTEmSNkHTXub"
   },
   "outputs": [],
   "source": [
    "y = np.array(df[\"Target\"])\n",
    "y_pred = np.array(df[\"Pred\"])"
   ]
  },
  {
   "cell_type": "code",
   "execution_count": null,
   "metadata": {
    "colab": {
     "base_uri": "https://localhost:8080/"
    },
    "executionInfo": {
     "elapsed": 1449,
     "status": "ok",
     "timestamp": 1617798821296,
     "user": {
      "displayName": "Saloni Parekh",
      "photoUrl": "https://lh3.googleusercontent.com/a-/AOh14GigRkAeLdguHD8uTdcYmYuJQbGjVOo7H6xoSpvg1w=s64",
      "userId": "13474740441446535544"
     },
     "user_tz": -330
    },
    "id": "9HgmSF8JTrvx",
    "outputId": "9ac6293c-06ce-4ebf-b44c-9616432184f2"
   },
   "outputs": [
    {
     "name": "stdout",
     "output_type": "stream",
     "text": [
      "Classification Report:\n",
      "              precision    recall  f1-score   support\n",
      "\n",
      "           0       0.25      0.12      0.17         8\n",
      "           1       0.38      0.50      0.43         6\n",
      "           2       0.86      1.00      0.92         6\n",
      "           3       0.92      0.86      0.89        14\n",
      "           4       0.90      0.69      0.78        13\n",
      "           5       1.00      0.75      0.86         8\n",
      "           6       0.80      0.73      0.76        11\n",
      "           7       1.00      0.64      0.78        11\n",
      "           8       0.70      0.88      0.78         8\n",
      "           9       0.83      0.56      0.67         9\n",
      "          10       0.70      0.88      0.78         8\n",
      "          11       0.50      0.67      0.57         6\n",
      "          12       0.93      0.81      0.87        16\n",
      "          13       0.82      0.75      0.78        12\n",
      "          14       1.00      0.78      0.88         9\n",
      "          15       1.00      1.00      1.00        10\n",
      "          16       1.00      0.73      0.84        11\n",
      "          17       0.90      0.90      0.90        10\n",
      "          18       0.83      0.50      0.62        10\n",
      "          19       0.77      0.83      0.80        12\n",
      "          20       1.00      0.90      0.95        10\n",
      "          21       0.89      0.89      0.89         9\n",
      "          22       0.92      1.00      0.96        11\n",
      "          23       1.00      0.80      0.89        10\n",
      "          24       0.69      0.90      0.78        10\n",
      "          25       0.90      0.82      0.86        11\n",
      "          26       1.00      0.67      0.80        15\n",
      "          27       0.73      1.00      0.84         8\n",
      "          28       0.75      0.75      0.75         8\n",
      "          29       0.57      0.89      0.70         9\n",
      "          30       0.70      0.70      0.70        10\n",
      "          31       0.70      0.78      0.74         9\n",
      "          32       0.89      0.73      0.80        11\n",
      "          33       1.00      0.82      0.90        11\n",
      "          34       0.78      1.00      0.88         7\n",
      "          35       0.71      0.62      0.67         8\n",
      "          36       0.60      0.90      0.72        10\n",
      "          37       0.47      1.00      0.64         8\n",
      "          38       0.44      0.73      0.55        11\n",
      "          39       0.93      0.93      0.93        14\n",
      "          40       0.50      0.50      0.50        10\n",
      "          41       0.75      0.60      0.67        10\n",
      "          42       0.45      0.71      0.56         7\n",
      "          43       0.73      1.00      0.84         8\n",
      "          44       1.00      0.56      0.71         9\n",
      "          45       0.83      0.91      0.87        11\n",
      "          46       0.78      0.78      0.78         9\n",
      "          47       0.67      0.86      0.75         7\n",
      "          48       1.00      0.20      0.33        10\n",
      "          49       0.53      0.94      0.68        17\n",
      "          50       0.53      0.80      0.64        10\n",
      "          51       0.64      0.90      0.75        10\n",
      "          52       1.00      0.46      0.63        13\n",
      "          53       0.83      0.56      0.67         9\n",
      "          54       0.40      0.33      0.36         6\n",
      "          55       0.88      0.88      0.88         8\n",
      "          56       0.75      0.94      0.83        16\n",
      "          57       1.00      0.64      0.78        11\n",
      "          58       0.88      0.58      0.70        12\n",
      "          59       0.71      0.83      0.77         6\n",
      "          60       1.00      0.89      0.94         9\n",
      "          61       0.78      0.50      0.61        14\n",
      "\n",
      "    accuracy                           0.76       620\n",
      "   macro avg       0.78      0.75      0.75       620\n",
      "weighted avg       0.80      0.76      0.75       620\n",
      "\n"
     ]
    }
   ],
   "source": [
    "print(\"Classification Report:\")\n",
    "print(classification_report(y, y_pred))"
   ]
  },
  {
   "cell_type": "code",
   "execution_count": null,
   "metadata": {
    "id": "HBH_FkIQc_n_"
   },
   "outputs": [],
   "source": []
  }
 ],
 "metadata": {
  "accelerator": "GPU",
  "colab": {
   "authorship_tag": "ABX9TyN/dOdt1r819XhCvh1LVs9l",
   "collapsed_sections": [],
   "name": "Point1.ipynb",
   "provenance": []
  },
  "kernelspec": {
   "display_name": "Python 3",
   "language": "python",
   "name": "python3"
  },
  "language_info": {
   "codemirror_mode": {
    "name": "ipython",
    "version": 3
   },
   "file_extension": ".py",
   "mimetype": "text/x-python",
   "name": "python",
   "nbconvert_exporter": "python",
   "pygments_lexer": "ipython3",
   "version": "3.7.4"
  }
 },
 "nbformat": 4,
 "nbformat_minor": 1
}
