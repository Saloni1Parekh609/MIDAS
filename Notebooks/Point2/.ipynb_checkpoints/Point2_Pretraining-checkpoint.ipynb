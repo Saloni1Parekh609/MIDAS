{
 "cells": [
  {
   "cell_type": "markdown",
   "metadata": {
    "id": "i53kYvNnBMEH"
   },
   "source": [
    "#Implementation of Point 2\n",
    "------\n",
    "\n",
    "##Definition for Point 2 </br>\n",
    "Next, select only 0-9 training images from the above dataset, and use the pretrained network to train on MNIST dataset. Use the standard MNIST train and test splits (http://yann.lecun.com/exdb/mnist/). How does this pretrained network perform in comparison to a randomly initialized network in terms of convergence time, final accuracy and other possible training quality metrics? Do a thorough analysis. Please save your model checkpoints.\n",
    "\n",
    "##Solution\n",
    "This notebook contains the ***pretraining*** of the model which will be used later on. The model is trained on images labelled 0-9.\n",
    "\n",
    "###Model Architecture\n",
    "\n",
    "<font size=3px>\n",
    "1. Conv(1, 32) -> ReLU -> Dropout -> Maxpool</br>\n",
    "2. Conv(32, 64) -> ReLU -> Dropout -> Maxpool</br>\n",
    "3. Conv(64, 128) -> ReLU -> Dropout -> Maxpool</br>\n",
    "4. Conv(128, 256) -> ReLU -> Dropout -> Maxpool</br>\n",
    "5. Conv(256, 512) -> ReLU -> Dropout -> Maxpool</br>\n",
    "6. Transformer Encoder Layer</br>\n",
    "7. Transformer Encoder Layer</br>\n",
    "8. Transformer Encoder Layer</br>\n",
    "9. Fully Connected Layer (512, 10)</br>\n",
    "</font>\n",
    "\n",
    "<font color='blue'>Optimizer</font>: Adam (lr: 0.0001)</br>\n",
    "<font color='blue'>Loss</font>: CrossEntropyLoss</br>\n",
    "\n",
    "\n",
    "**Conclusions**</br>\n",
    "At epoch 30:</br>\n",
    "Training Accuracy: 98.53%\t\n",
    "Validation Accuracy: 83.33%</br>\n",
    "F1-Score: 84.33%\n",
    "\n",
    "If the notebook is being run on the local system, please download the necessary files from the drive link provided in the code cells.</br>\n",
    "<font color=\"blue\">*Please change the links accordingly*</font>\n",
    "\n",
    "<font color='grey'>*The following code is implemented in PyTorch.*</font>\n",
    "\n",
    "\n"
   ]
  },
  {
   "cell_type": "markdown",
   "metadata": {
    "id": "UQV3aLoEB6ab"
   },
   "source": [
    "#Import Libraries"
   ]
  },
  {
   "cell_type": "code",
   "execution_count": null,
   "metadata": {
    "id": "1k1Ie-badvCn"
   },
   "outputs": [],
   "source": [
    "from google.colab import drive\n",
    "drive.mount('/content/drive')"
   ]
  },
  {
   "cell_type": "code",
   "execution_count": null,
   "metadata": {
    "id": "EmUe4O-bjSMH"
   },
   "outputs": [],
   "source": [
    "# Point 1's data is accessed via the zip file stored in the drive\n",
    "# This zip file is transferred to the disk of the google colab, \n",
    "# because accessing it from the disk directly is faster than\n",
    "# accessing the images from the drive\n",
    "\n",
    "# Link to the zip file: https://drive.google.com/file/d/1g4dHphWLCX1PisdXacrfw8kdn7MGoxv5/view?usp=sharing\n",
    "!cp -r \"/content/drive/MyDrive/MIDAS/Point1/train.zip\" \"/content/train.zip\" \n",
    "!unzip train.zip"
   ]
  },
  {
   "cell_type": "code",
   "execution_count": null,
   "metadata": {
    "id": "m-CvKhe_kh_4"
   },
   "outputs": [],
   "source": [
    "!pip install pycm"
   ]
  },
  {
   "cell_type": "code",
   "execution_count": null,
   "metadata": {
    "id": "Xs-uX2mzjVBH"
   },
   "outputs": [],
   "source": [
    "import numpy as np\n",
    "import torch\n",
    "import csv\n",
    "from torch import nn\n",
    "import pandas as pd\n",
    "import cv2 as cv\n",
    "from torch.utils.data import DataLoader, Dataset\n",
    "import matplotlib.pyplot as plt\n",
    "import torch.optim as optim\n",
    "import torch.nn.functional as F\n",
    "from sklearn.model_selection import train_test_split\n",
    "from torch.nn import Linear, ReLU, CrossEntropyLoss, Sequential, Conv2d, MaxPool2d, Module, Softmax, BatchNorm2d, Dropout, ZeroPad2d\n",
    "from torchvision import transforms, datasets\n",
    "import shutil\n",
    "from sklearn.metrics import auc, confusion_matrix, classification_report\n",
    "import seaborn as sns\n",
    "from scipy.optimize import brentq\n",
    "from scipy.interpolate import interp1d\n",
    "import random\n",
    "from pycm import *"
   ]
  },
  {
   "cell_type": "markdown",
   "metadata": {
    "id": "6eqVfKiYCCjO"
   },
   "source": [
    "#Data Preparation"
   ]
  },
  {
   "cell_type": "code",
   "execution_count": null,
   "metadata": {
    "id": "wXdbbvtSjVlF"
   },
   "outputs": [],
   "source": [
    "#All images are resized to 200 * 200 and have been normalized\n",
    "def _preprocess(image):\n",
    "    # Preprocssing step\n",
    "    img_transform = transforms.Compose([\n",
    "        transforms.ToPILImage(),\n",
    "        transforms.Resize((200, 200)),\n",
    "        transforms.ToTensor(),\n",
    "        transforms.Normalize((0.5, ), (0.5,))\n",
    "    ])\n",
    "    return img_transform(image)\n",
    "\n",
    "#Used for augmenting training data\n",
    "def _preprocess_aug(image):\n",
    "  transform_aug = transforms.Compose([\n",
    "     transforms.ToPILImage(),                                     \n",
    "     transforms.Resize((200, 200)),                                                        \n",
    "     transforms.RandomRotation(20),\n",
    "     #transforms.RandomAffine(0),\n",
    "     transforms.ToTensor(),\n",
    "     transforms.Normalize((0.5, ), (0.5,))\n",
    "    ])\n",
    "\n",
    "  return transform_aug(image)"
   ]
  },
  {
   "cell_type": "code",
   "execution_count": null,
   "metadata": {
    "id": "PjyKKfXLjZD_"
   },
   "outputs": [],
   "source": [
    "#Class used by DataLoader for training data\n",
    "class Images_train(Dataset):\n",
    "  def __init__(self, df):\n",
    "        #DataFrame Structure must be of the form: | FilePath | Label |\n",
    "        self.data = df\n",
    "\n",
    "  def __len__(self):\n",
    "    return len(self.data)\n",
    "\n",
    "  def __getitem__(self, index):\n",
    "    #print(index)\n",
    "    image1 = cv.imread(self.data.iloc[index, 0], cv.IMREAD_GRAYSCALE)   #Column 0: FilePath\n",
    "    temp=random.randint(0,1)            #The temp variable takes care of the fact that not all images are augmented.\n",
    "    if temp == 1:                       #If temp is 1,\n",
    "      image1 = _preprocess_aug(image1)  #augment the image\n",
    "    else:                               #else\n",
    "      image1 = _preprocess(image1)      #No augmentations are to be performed\n",
    "\n",
    "    label = self.data.iloc[index, 1] #Column 1: Label\n",
    "\n",
    "    return image1, torch.from_numpy(np.array([label], dtype=np.float32))"
   ]
  },
  {
   "cell_type": "code",
   "execution_count": null,
   "metadata": {
    "id": "4LgeQRKfjZ8v"
   },
   "outputs": [],
   "source": [
    "#Class used by DataLoader for testing data\n",
    "class Images_test(Dataset):\n",
    "  def __init__(self, df):\n",
    "        self.data = df\n",
    "\n",
    "  def __len__(self):\n",
    "    return len(self.data)\n",
    "\n",
    "  def __getitem__(self, index):\n",
    "    #print(index)\n",
    "    image1 = cv.imread(self.data.iloc[index, 0], cv.IMREAD_GRAYSCALE)#Column 0: FilePath\n",
    "    image1 = _preprocess(image1)\n",
    "\n",
    "    label = self.data.iloc[index, 1]#Column 1: Label\n",
    "\n",
    "    return image1, torch.from_numpy(np.array([label], dtype=np.float32))"
   ]
  },
  {
   "cell_type": "code",
   "execution_count": null,
   "metadata": {
    "colab": {
     "base_uri": "https://localhost:8080/",
     "height": 204
    },
    "executionInfo": {
     "elapsed": 1671,
     "status": "ok",
     "timestamp": 1617853740621,
     "user": {
      "displayName": "Saloni Parekh",
      "photoUrl": "https://lh3.googleusercontent.com/a-/AOh14GigRkAeLdguHD8uTdcYmYuJQbGjVOo7H6xoSpvg1w=s64",
      "userId": "13474740441446535544"
     },
     "user_tz": -330
    },
    "id": "C-J9Otvwjcqn",
    "outputId": "756d3452-8b7f-461f-b8c5-36f7e587da4c"
   },
   "outputs": [
    {
     "data": {
      "text/html": [
       "<div>\n",
       "<style scoped>\n",
       "    .dataframe tbody tr th:only-of-type {\n",
       "        vertical-align: middle;\n",
       "    }\n",
       "\n",
       "    .dataframe tbody tr th {\n",
       "        vertical-align: top;\n",
       "    }\n",
       "\n",
       "    .dataframe thead th {\n",
       "        text-align: right;\n",
       "    }\n",
       "</style>\n",
       "<table border=\"1\" class=\"dataframe\">\n",
       "  <thead>\n",
       "    <tr style=\"text-align: right;\">\n",
       "      <th></th>\n",
       "      <th>FilePath</th>\n",
       "      <th>Label</th>\n",
       "    </tr>\n",
       "  </thead>\n",
       "  <tbody>\n",
       "    <tr>\n",
       "      <th>161</th>\n",
       "      <td>/content/train/Sample008/img008-040.png</td>\n",
       "      <td>8</td>\n",
       "    </tr>\n",
       "    <tr>\n",
       "      <th>55</th>\n",
       "      <td>/content/train/Sample005/img005-007.png</td>\n",
       "      <td>5</td>\n",
       "    </tr>\n",
       "    <tr>\n",
       "      <th>107</th>\n",
       "      <td>/content/train/Sample004/img004-025.png</td>\n",
       "      <td>4</td>\n",
       "    </tr>\n",
       "    <tr>\n",
       "      <th>308</th>\n",
       "      <td>/content/train/Sample007/img007-011.png</td>\n",
       "      <td>7</td>\n",
       "    </tr>\n",
       "    <tr>\n",
       "      <th>15</th>\n",
       "      <td>/content/train/Sample002/img002-038.png</td>\n",
       "      <td>2</td>\n",
       "    </tr>\n",
       "  </tbody>\n",
       "</table>\n",
       "</div>"
      ],
      "text/plain": [
       "                                    FilePath  Label\n",
       "161  /content/train/Sample008/img008-040.png      8\n",
       "55   /content/train/Sample005/img005-007.png      5\n",
       "107  /content/train/Sample004/img004-025.png      4\n",
       "308  /content/train/Sample007/img007-011.png      7\n",
       "15   /content/train/Sample002/img002-038.png      2"
      ]
     },
     "execution_count": 8,
     "metadata": {
      "tags": []
     },
     "output_type": "execute_result"
    }
   ],
   "source": [
    "df = pd.read_csv(\"/content/drive/MyDrive/MIDAS/Point2/one_to_ten.csv\") #Please change link accordingly\n",
    "df = df.sample(frac = 1)\n",
    "df.head()"
   ]
  },
  {
   "cell_type": "code",
   "execution_count": null,
   "metadata": {
    "colab": {
     "base_uri": "https://localhost:8080/"
    },
    "executionInfo": {
     "elapsed": 831,
     "status": "ok",
     "timestamp": 1617853772447,
     "user": {
      "displayName": "Saloni Parekh",
      "photoUrl": "https://lh3.googleusercontent.com/a-/AOh14GigRkAeLdguHD8uTdcYmYuJQbGjVOo7H6xoSpvg1w=s64",
      "userId": "13474740441446535544"
     },
     "user_tz": -330
    },
    "id": "pSIzh8Xoji-S",
    "outputId": "56f7b6ac-9e80-4671-8f44-4d298e564e80"
   },
   "outputs": [
    {
     "name": "stdout",
     "output_type": "stream",
     "text": [
      "images shape on batch size = torch.Size([8, 1, 200, 200])\n",
      "labels shape on batch size = torch.Size([8, 1])\n",
      "images shape on batch size = torch.Size([1, 1, 200, 200])\n",
      "labels shape on batch size = torch.Size([1, 1])\n"
     ]
    }
   ],
   "source": [
    "df_train, df_valid = train_test_split(df, test_size=0.25) #Split of 75/25\n",
    "train_dataset = Images_train(df_train)\n",
    "valid_dataset = Images_test(df_valid)\n",
    "\n",
    "train_loader = DataLoader(train_dataset, batch_size=8, shuffle=True)\n",
    "val_loader = DataLoader(valid_dataset, batch_size=1, shuffle=True)\n",
    "\n",
    "train_iter = iter(train_loader)\n",
    "images1, labels = train_iter.next()\n",
    "print('images shape on batch size = {}'.format(images1.size()))\n",
    "print('labels shape on batch size = {}'.format(labels.size()))\n",
    "\n",
    "val_iter = iter(val_loader)\n",
    "images1, labels = val_iter.next()\n",
    "print('images shape on batch size = {}'.format(images1.size()))\n",
    "print('labels shape on batch size = {}'.format(labels.size()))"
   ]
  },
  {
   "cell_type": "code",
   "execution_count": null,
   "metadata": {
    "colab": {
     "base_uri": "https://localhost:8080/"
    },
    "executionInfo": {
     "elapsed": 1001,
     "status": "ok",
     "timestamp": 1617853775581,
     "user": {
      "displayName": "Saloni Parekh",
      "photoUrl": "https://lh3.googleusercontent.com/a-/AOh14GigRkAeLdguHD8uTdcYmYuJQbGjVOo7H6xoSpvg1w=s64",
      "userId": "13474740441446535544"
     },
     "user_tz": -330
    },
    "id": "Ic1XzEDIlFZJ",
    "outputId": "9216047d-7a9b-4ddd-abb7-26bcda1e8c34"
   },
   "outputs": [
    {
     "name": "stdout",
     "output_type": "stream",
     "text": [
      "(270, 2)\n",
      "(90, 2)\n"
     ]
    },
    {
     "data": {
      "text/plain": [
       "tensor([[5.]])"
      ]
     },
     "execution_count": 11,
     "metadata": {
      "tags": []
     },
     "output_type": "execute_result"
    }
   ],
   "source": [
    "print(df_train.shape)\n",
    "print(df_valid.shape)\n",
    "labels"
   ]
  },
  {
   "cell_type": "markdown",
   "metadata": {
    "id": "w9yiI4UpDLYs"
   },
   "source": [
    "#Model Creation\n",
    "\n",
    "In this case, the task at hand is now a 10-class classification task.\n",
    "\n",
    "\n",
    "The following is the description of the model architecture:\n",
    "<font size=3px>\n",
    "1. Conv(1, 32) -> ReLU -> Dropout -> Maxpool</br>\n",
    "2. Conv(32, 64) -> ReLU -> Dropout -> Maxpool</br>\n",
    "3. Conv(64, 128) -> ReLU -> Dropout -> Maxpool</br>\n",
    "4. Conv(128, 256) -> ReLU -> Dropout -> Maxpool</br>\n",
    "5. Conv(256, 512) -> ReLU -> Dropout -> Maxpool</br>\n",
    "6. Transformer Encoder Layer</br>\n",
    "7. Transformer Encoder Layer</br>\n",
    "8. Transformer Encoder Layer</br>\n",
    "9. Fully Connected Layer (512, 10)</br>\n",
    "</font>\n",
    "\n",
    "##Explanation:\n",
    "The idea is to chain a convolutional neural network (CNN), with a Transformer encoder architecture. This CNN is responsible for extraction of the local information from the image and the Transformer encoder, reasons about the image as a whole and then generates the predictions. \n",
    "\n",
    "The transformer encoder is used to improve the embeddings recieved from the CNN, and the reason why it should succeed is because of the concept of \"Attention\" that is used in them. \n",
    "\n",
    "\n"
   ]
  },
  {
   "cell_type": "code",
   "execution_count": null,
   "metadata": {
    "id": "IpkRKtoCjlAX"
   },
   "outputs": [],
   "source": [
    "class smallModel(nn.Module):\n",
    "  def __init__(self):\n",
    "    super(smallModel, self).__init__()\n",
    "    \n",
    "    self.zp1 = nn.ZeroPad2d(1)\n",
    "    self.conv1 = nn.Conv2d(1, 32, kernel_size=3, stride=1, padding=1)\n",
    "    self.mp1 = nn.MaxPool2d(kernel_size=2)\n",
    "    self.dp = nn.Dropout(p=0.3)\n",
    "\n",
    "    self.zp2 = nn.ZeroPad2d(1)\n",
    "    self.conv2 = nn.Conv2d(32, 64, kernel_size=3, stride=1, padding=1)\n",
    "    self.mp2 = nn.MaxPool2d(kernel_size=2)\n",
    "    #self.dp = nn.Dropout(p=0.3)\n",
    "\n",
    "    self.zp3 = nn.ZeroPad2d(1)\n",
    "    self.conv3 = nn.Conv2d(64, 128, kernel_size=3, stride=1, padding=1)\n",
    "    self.mp3 = nn.MaxPool2d(kernel_size=2)\n",
    "\n",
    "    self.conv4 = nn.Conv2d(128, 256, kernel_size=3, stride=1, padding=1)\n",
    "    self.mp4 = nn.MaxPool2d(kernel_size=2)\n",
    "\n",
    "    self.conv5 = nn.Conv2d(256, 512, kernel_size=3, stride=1, padding=1)\n",
    "    self.mp5 = nn.MaxPool2d(kernel_size=2)\n",
    "\n",
    "    self.encoder_layer = nn.TransformerEncoderLayer(d_model=512, nhead=8)\n",
    "    self.transformer_encoder = nn.TransformerEncoder(self.encoder_layer, num_layers=3)\n",
    "\n",
    "    self.relu = nn.ReLU()\n",
    "\n",
    "    self.fc1 = nn.Linear(512 * 6 * 6, 9216)\n",
    "    self.fc2 = nn.Linear(9216, 4096)\n",
    "    self.fc3 = nn.Linear(4096, 1024)\n",
    "    self.fc4 = nn.Linear(512 * 6 * 6, 10)\n",
    "\n",
    "    self.row_emb = nn.Parameter(torch.rand(64, 512 // 2))\n",
    "    self.col_emb = nn.Parameter(torch.rand(64, 512 // 2))\n",
    "\n",
    "  def forward(self, x):\n",
    "    x = self.dp(self.relu(self.conv1(x))) #Conv -> ReLU -> Dropout: 200 * 200 * 32\n",
    "    x = self.mp1(x)                       #MaxPool: 100 * 100 * 32\n",
    "\n",
    "    x = self.dp(self.relu(self.conv2(x))) #Conv -> ReLU -> Dropout: 100 * 100 * 64\n",
    "    x = self.mp2(x)                       #MaxPool: 50 * 50 * 64\n",
    "\n",
    "    x = self.dp(self.relu(self.conv3(x))) #Conv -> ReLU -> Dropout: 50 * 50 * 128\n",
    "    x = self.mp3(x)                       #MaxPool: 25 * 25 * 128\n",
    "\n",
    "    x = self.dp(self.relu(self.conv4(x))) #Conv -> ReLU -> Dropout: 25 * 25 * 256\n",
    "    x = self.mp4(x)                       #MaxPool: 12 * 12 * 256\n",
    "\n",
    "    x = self.dp(self.relu(self.conv5(x))) #Conv -> ReLU -> Dropout: 12 * 12 * 512\n",
    "    x = self.mp5(x)                       #MaxPool: 6 * 6 * 512\n",
    "\n",
    "    H = x.shape[-1]#H = 6\n",
    "    W = x.shape[-2]#H = 6\n",
    "\n",
    "    #Positional Embedding Creation\n",
    "    pos = torch.cat([self.col_emb[:W].unsqueeze(0).repeat(H, 1, 1), self.row_emb[:H].unsqueeze(1).repeat(1, W, 1),], dim=-1).flatten(0, 1).unsqueeze(1)\n",
    "\n",
    "    x = x.flatten(2).permute(2, 0, 1)\n",
    "\n",
    "    #Positional embeddings + x fed to the encoder\n",
    "    x = self.transformer_encoder(pos + x)\n",
    "\n",
    "    x = x.permute(1, 2, 0)\n",
    "    x = torch.reshape(x, ((x.shape)[0], 512 * 36))\n",
    "\n",
    "    x = self.fc4(x)\n",
    "\n",
    "    #x = self.relu(self.fc1(x))\n",
    "    #x = self.relu(self.fc2(x))\n",
    "    #x = self.relu(self.fc3(x))\n",
    "  \n",
    "    return x"
   ]
  },
  {
   "cell_type": "code",
   "execution_count": null,
   "metadata": {
    "id": "7RhkF1bxjncU"
   },
   "outputs": [],
   "source": [
    "device = torch.device(\"cuda\" if torch.cuda.is_available() else \"cpu\")\n",
    "model = smallModel().to(device)\n",
    "print(model)"
   ]
  },
  {
   "cell_type": "markdown",
   "metadata": {
    "id": "fRiVTrQ_EPSR"
   },
   "source": [
    "#Model Training"
   ]
  },
  {
   "cell_type": "code",
   "execution_count": null,
   "metadata": {
    "id": "NvKaHVXsjuf6"
   },
   "outputs": [],
   "source": [
    "#Returns number of elements that are equal in the out (output) and labels (target) sensor\n",
    "def accuracy(out, labels):\n",
    "    count = 0\n",
    "    _,pred = torch.max(out, dim=1)\n",
    "    for i in range(out.shape[0]):\n",
    "      if pred[i] == labels[i][0]:\n",
    "        count = count + 1\n",
    "    return count"
   ]
  },
  {
   "cell_type": "code",
   "execution_count": null,
   "metadata": {
    "colab": {
     "base_uri": "https://localhost:8080/"
    },
    "executionInfo": {
     "elapsed": 214783,
     "status": "ok",
     "timestamp": 1617854045364,
     "user": {
      "displayName": "Saloni Parekh",
      "photoUrl": "https://lh3.googleusercontent.com/a-/AOh14GigRkAeLdguHD8uTdcYmYuJQbGjVOo7H6xoSpvg1w=s64",
      "userId": "13474740441446535544"
     },
     "user_tz": -330
    },
    "id": "Ep-9SAZ2jvSe",
    "outputId": "aee875e2-0da5-4610-ebd1-926eb1e7f659"
   },
   "outputs": [
    {
     "name": "stdout",
     "output_type": "stream",
     "text": [
      "Training: \n",
      "Validation: \n",
      "Epoch: 1 \tTraining Loss: 2.785573 \tTraining Accuracy: 0.084559 \tValidation Loss: 2.572566 \tValidation Accuracy: 0.100000\n",
      "Training: \n",
      "Validation: \n",
      "Epoch: 2 \tTraining Loss: 2.481409 \tTraining Accuracy: 0.106618 \tValidation Loss: 2.437920 \tValidation Accuracy: 0.133333\n",
      "Training: \n",
      "Validation: \n",
      "Epoch: 3 \tTraining Loss: 2.368076 \tTraining Accuracy: 0.139706 \tValidation Loss: 2.335787 \tValidation Accuracy: 0.133333\n",
      "Training: \n",
      "Validation: \n",
      "Epoch: 4 \tTraining Loss: 2.380208 \tTraining Accuracy: 0.150735 \tValidation Loss: 2.218008 \tValidation Accuracy: 0.144444\n",
      "Training: \n",
      "Validation: \n",
      "Epoch: 5 \tTraining Loss: 2.225627 \tTraining Accuracy: 0.172794 \tValidation Loss: 2.114815 \tValidation Accuracy: 0.211111\n",
      "Training: \n",
      "Validation: \n",
      "Epoch: 6 \tTraining Loss: 1.640341 \tTraining Accuracy: 0.430147 \tValidation Loss: 2.022003 \tValidation Accuracy: 0.277778\n",
      "Training: \n",
      "Validation: \n",
      "Epoch: 7 \tTraining Loss: 1.188112 \tTraining Accuracy: 0.602941 \tValidation Loss: 1.865226 \tValidation Accuracy: 0.411111\n",
      "Training: \n",
      "Validation: \n",
      "Epoch: 8 \tTraining Loss: 0.843058 \tTraining Accuracy: 0.731618 \tValidation Loss: 1.621849 \tValidation Accuracy: 0.466667\n",
      "Training: \n",
      "Validation: \n",
      "Epoch: 9 \tTraining Loss: 0.584464 \tTraining Accuracy: 0.797794 \tValidation Loss: 1.738129 \tValidation Accuracy: 0.422222\n",
      "Training: \n",
      "Validation: \n",
      "Epoch: 10 \tTraining Loss: 0.420068 \tTraining Accuracy: 0.841912 \tValidation Loss: 0.786468 \tValidation Accuracy: 0.777778\n",
      "Training: \n",
      "Validation: \n",
      "Epoch: 11 \tTraining Loss: 0.263453 \tTraining Accuracy: 0.908088 \tValidation Loss: 1.072317 \tValidation Accuracy: 0.622222\n",
      "Training: \n",
      "Validation: \n",
      "Epoch: 12 \tTraining Loss: 0.252379 \tTraining Accuracy: 0.919118 \tValidation Loss: 1.323315 \tValidation Accuracy: 0.533333\n",
      "Training: \n",
      "Validation: \n",
      "Epoch: 13 \tTraining Loss: 0.190143 \tTraining Accuracy: 0.944853 \tValidation Loss: 1.144342 \tValidation Accuracy: 0.644444\n",
      "Training: \n",
      "Validation: \n",
      "Epoch: 14 \tTraining Loss: 0.167925 \tTraining Accuracy: 0.933824 \tValidation Loss: 0.969965 \tValidation Accuracy: 0.700000\n",
      "Training: \n",
      "Validation: \n",
      "Epoch: 15 \tTraining Loss: 0.109970 \tTraining Accuracy: 0.966912 \tValidation Loss: 0.878900 \tValidation Accuracy: 0.722222\n",
      "Training: \n",
      "Validation: \n",
      "Epoch: 16 \tTraining Loss: 0.105753 \tTraining Accuracy: 0.966912 \tValidation Loss: 0.864497 \tValidation Accuracy: 0.755556\n",
      "Training: \n",
      "Validation: \n",
      "Epoch: 17 \tTraining Loss: 0.159491 \tTraining Accuracy: 0.966912 \tValidation Loss: 1.209526 \tValidation Accuracy: 0.577778\n",
      "Training: \n",
      "Validation: \n",
      "Epoch: 18 \tTraining Loss: 0.148844 \tTraining Accuracy: 0.941176 \tValidation Loss: 1.659950 \tValidation Accuracy: 0.488889\n",
      "Training: \n",
      "Validation: \n",
      "Epoch: 19 \tTraining Loss: 0.083955 \tTraining Accuracy: 0.966912 \tValidation Loss: 1.102526 \tValidation Accuracy: 0.666667\n",
      "Training: \n",
      "Validation: \n",
      "Epoch: 20 \tTraining Loss: 0.069494 \tTraining Accuracy: 0.974265 \tValidation Loss: 0.587025 \tValidation Accuracy: 0.822222\n",
      "Training: \n",
      "Validation: \n",
      "Epoch: 21 \tTraining Loss: 0.090310 \tTraining Accuracy: 0.963235 \tValidation Loss: 0.852574 \tValidation Accuracy: 0.711111\n",
      "Training: \n",
      "Validation: \n",
      "Epoch: 22 \tTraining Loss: 0.094322 \tTraining Accuracy: 0.970588 \tValidation Loss: 1.052759 \tValidation Accuracy: 0.655556\n",
      "Training: \n",
      "Validation: \n",
      "Epoch: 23 \tTraining Loss: 0.035700 \tTraining Accuracy: 0.988971 \tValidation Loss: 0.577298 \tValidation Accuracy: 0.811111\n",
      "Training: \n",
      "Validation: \n",
      "Epoch: 24 \tTraining Loss: 0.046301 \tTraining Accuracy: 0.981618 \tValidation Loss: 0.825356 \tValidation Accuracy: 0.755556\n",
      "Training: \n",
      "Validation: \n",
      "Epoch: 25 \tTraining Loss: 0.039669 \tTraining Accuracy: 0.981618 \tValidation Loss: 0.771152 \tValidation Accuracy: 0.700000\n",
      "Training: \n",
      "Validation: \n",
      "Epoch: 26 \tTraining Loss: 0.035352 \tTraining Accuracy: 0.988971 \tValidation Loss: 0.657970 \tValidation Accuracy: 0.800000\n",
      "Training: \n",
      "Validation: \n",
      "Epoch: 27 \tTraining Loss: 0.051548 \tTraining Accuracy: 0.977941 \tValidation Loss: 1.241249 \tValidation Accuracy: 0.611111\n",
      "Training: \n",
      "Validation: \n",
      "Epoch: 28 \tTraining Loss: 0.038005 \tTraining Accuracy: 0.985294 \tValidation Loss: 0.807967 \tValidation Accuracy: 0.777778\n",
      "Training: \n",
      "Validation: \n",
      "Epoch: 29 \tTraining Loss: 0.088188 \tTraining Accuracy: 0.977941 \tValidation Loss: 1.152618 \tValidation Accuracy: 0.633333\n",
      "Training: \n",
      "Validation: \n",
      "Epoch: 30 \tTraining Loss: 0.037411 \tTraining Accuracy: 0.985294 \tValidation Loss: 0.519471 \tValidation Accuracy: 0.833333\n"
     ]
    }
   ],
   "source": [
    "chkpt_path = \"/content/drive/MyDrive/MIDAS/Point2/pretrained_model2.pt\"\n",
    "\n",
    "train_loss_list = []\n",
    "valid_loss_list = []\n",
    "train_accuracy = []\n",
    "valid_accuracy = []\n",
    "\n",
    "epochs = 10\n",
    "optimizer = optim.Adam(model.parameters(), lr = 0.0001, weight_decay = 1e-4)\n",
    "criterion = nn.CrossEntropyLoss()\n",
    "min_valid_loss = np.Inf\n",
    "check_epoch = 5\n",
    "epoch_no_improve = 0\n",
    "i = 0\n",
    "\n",
    "\n",
    "for epoch in range(1, 31):\n",
    "  train_loss = 0\n",
    "  valid_loss = 0\n",
    "  tcorrect = 0\n",
    "  vcorrect = 0\n",
    "  model.train()\n",
    "\n",
    "  device = torch.device(\"cuda\" if torch.cuda.is_available() else \"cpu\")\n",
    "  print(\"Training: \")\n",
    "  for batch, (img, target) in enumerate(train_loader):\n",
    "    #print(batch)\n",
    "    if torch.cuda.is_available():\n",
    "        img, target = img.to(device=device, dtype=torch.float), target.to(device=device, dtype=torch.long)\n",
    "\n",
    "    optimizer.zero_grad()\n",
    "    output = model(img)\n",
    "\n",
    "    loss = criterion(output, target.view(-1))\n",
    "\n",
    "    loss.backward()\n",
    "    optimizer.step()\n",
    "\n",
    "    train_loss += loss.item()\n",
    "    tcorrect += accuracy(output, target)\n",
    "    _,pred = torch.max(output, dim=1)\n",
    "  \n",
    "    \n",
    "  model.eval()\n",
    "  print(\"Validation: \")\n",
    "  for batch, (img, target) in enumerate(val_loader):\n",
    "    if torch.cuda.is_available():\n",
    "        img, target = img.to(device=device, dtype=torch.float), target.to(device=device, dtype=torch.long)\n",
    "\n",
    "    output = model(img)\n",
    "    \n",
    "    loss = criterion(output, target.view(-1))\n",
    "\n",
    "    valid_loss += loss.item()\n",
    "    vcorrect += accuracy(output, target)\n",
    "    _,pred = torch.max(output, dim=1)\n",
    "\n",
    "    \n",
    "  # calculate average losses\n",
    "  train_loss = train_loss/len(train_loader)\n",
    "  valid_loss = valid_loss/len(val_loader)\n",
    "  train_loss_list.append(train_loss)\n",
    "  valid_loss_list.append(valid_loss)\n",
    "\n",
    "  tcorrect = tcorrect/(len(train_loader) * 8)\n",
    "  vcorrect = vcorrect/len(val_loader)\n",
    "  train_accuracy.append(tcorrect)\n",
    "  valid_accuracy.append(vcorrect)\n",
    "  \n",
    "  # print training/validation statistics \n",
    "  print('Epoch: {} \\tTraining Loss: {:.6f} \\tTraining Accuracy: {:.6f} \\tValidation Loss: {:.6f} \\tValidation Accuracy: {:.6f}'.format(\n",
    "      epoch, train_loss, tcorrect, valid_loss, vcorrect))\n",
    "\n",
    "  if epoch % 5 == 0 :\n",
    "    torch.save({\n",
    "              'epoch': epoch,\n",
    "              'model_state_dict': model.state_dict(),\n",
    "              'optimizer_state_dict': optimizer.state_dict(),\n",
    "              'loss': loss,\n",
    "              }, chkpt_path)\n"
   ]
  },
  {
   "cell_type": "markdown",
   "metadata": {
    "id": "RE1NVk2CE0s8"
   },
   "source": [
    "#Visualisations and Evaluation"
   ]
  },
  {
   "cell_type": "code",
   "execution_count": null,
   "metadata": {
    "colab": {
     "base_uri": "https://localhost:8080/",
     "height": 296
    },
    "executionInfo": {
     "elapsed": 1709,
     "status": "ok",
     "timestamp": 1617854118924,
     "user": {
      "displayName": "Saloni Parekh",
      "photoUrl": "https://lh3.googleusercontent.com/a-/AOh14GigRkAeLdguHD8uTdcYmYuJQbGjVOo7H6xoSpvg1w=s64",
      "userId": "13474740441446535544"
     },
     "user_tz": -330
    },
    "id": "Fkj6xC9ZmMc2",
    "outputId": "3df2d2ac-1544-4482-c57a-a417e0df68e6"
   },
   "outputs": [
    {
     "data": {
      "text/plain": [
       "<matplotlib.legend.Legend at 0x7f60f5389b90>"
      ]
     },
     "execution_count": 16,
     "metadata": {
      "tags": []
     },
     "output_type": "execute_result"
    },
    {
     "data": {
      "image/png": "[encoded data removed]",
      "text/plain": [
       "<Figure size 432x288 with 1 Axes>"
      ]
     },
     "metadata": {
      "needs_background": "light",
      "tags": []
     },
     "output_type": "display_data"
    }
   ],
   "source": [
    "a = [i for  i in range(1, 31)]\n",
    "plt.plot(a, train_loss_list, label = 'Training Loss')\n",
    "plt.plot(a, valid_loss_list, label = 'Validation Loss')\n",
    "plt.xlabel(\"Epochs\")\n",
    "plt.ylabel(\"Loss\")\n",
    "plt.legend()"
   ]
  },
  {
   "cell_type": "code",
   "execution_count": null,
   "metadata": {
    "colab": {
     "base_uri": "https://localhost:8080/",
     "height": 296
    },
    "executionInfo": {
     "elapsed": 1098,
     "status": "ok",
     "timestamp": 1617854128031,
     "user": {
      "displayName": "Saloni Parekh",
      "photoUrl": "https://lh3.googleusercontent.com/a-/AOh14GigRkAeLdguHD8uTdcYmYuJQbGjVOo7H6xoSpvg1w=s64",
      "userId": "13474740441446535544"
     },
     "user_tz": -330
    },
    "id": "w95BYLS2n_6O",
    "outputId": "b4fa7ad9-d17b-49fc-d34e-1d967964846f"
   },
   "outputs": [
    {
     "data": {
      "text/plain": [
       "<matplotlib.legend.Legend at 0x7f60f52c0210>"
      ]
     },
     "execution_count": 17,
     "metadata": {
      "tags": []
     },
     "output_type": "execute_result"
    },
    {
     "data": {
      "image/png": "[encoded data removed]",
      "text/plain": [
       "<Figure size 432x288 with 1 Axes>"
      ]
     },
     "metadata": {
      "needs_background": "light",
      "tags": []
     },
     "output_type": "display_data"
    }
   ],
   "source": [
    "a = [i for  i in range(1, 31)]\n",
    "plt.plot(a, train_accuracy, label = 'Training Loss')\n",
    "plt.plot(a, valid_accuracy, label = 'Validation Loss')\n",
    "plt.xlabel(\"Epochs\")\n",
    "plt.ylabel(\"Loss\")\n",
    "plt.legend()"
   ]
  },
  {
   "cell_type": "code",
   "execution_count": null,
   "metadata": {
    "colab": {
     "base_uri": "https://localhost:8080/",
     "height": 204
    },
    "executionInfo": {
     "elapsed": 2894,
     "status": "ok",
     "timestamp": 1617854159966,
     "user": {
      "displayName": "Saloni Parekh",
      "photoUrl": "https://lh3.googleusercontent.com/a-/AOh14GigRkAeLdguHD8uTdcYmYuJQbGjVOo7H6xoSpvg1w=s64",
      "userId": "13474740441446535544"
     },
     "user_tz": -330
    },
    "id": "PwLXP_W8q7hq",
    "outputId": "7c84b091-1a35-4677-c4f6-b385dbb40861"
   },
   "outputs": [
    {
     "data": {
      "text/html": [
       "<div>\n",
       "<style scoped>\n",
       "    .dataframe tbody tr th:only-of-type {\n",
       "        vertical-align: middle;\n",
       "    }\n",
       "\n",
       "    .dataframe tbody tr th {\n",
       "        vertical-align: top;\n",
       "    }\n",
       "\n",
       "    .dataframe thead th {\n",
       "        text-align: right;\n",
       "    }\n",
       "</style>\n",
       "<table border=\"1\" class=\"dataframe\">\n",
       "  <thead>\n",
       "    <tr style=\"text-align: right;\">\n",
       "      <th></th>\n",
       "      <th>Pred</th>\n",
       "      <th>Target</th>\n",
       "    </tr>\n",
       "  </thead>\n",
       "  <tbody>\n",
       "    <tr>\n",
       "      <th>0</th>\n",
       "      <td>2</td>\n",
       "      <td>2</td>\n",
       "    </tr>\n",
       "    <tr>\n",
       "      <th>1</th>\n",
       "      <td>8</td>\n",
       "      <td>8</td>\n",
       "    </tr>\n",
       "    <tr>\n",
       "      <th>2</th>\n",
       "      <td>5</td>\n",
       "      <td>5</td>\n",
       "    </tr>\n",
       "    <tr>\n",
       "      <th>3</th>\n",
       "      <td>9</td>\n",
       "      <td>9</td>\n",
       "    </tr>\n",
       "    <tr>\n",
       "      <th>4</th>\n",
       "      <td>1</td>\n",
       "      <td>1</td>\n",
       "    </tr>\n",
       "  </tbody>\n",
       "</table>\n",
       "</div>"
      ],
      "text/plain": [
       "   Pred  Target\n",
       "0     2       2\n",
       "1     8       8\n",
       "2     5       5\n",
       "3     9       9\n",
       "4     1       1"
      ]
     },
     "execution_count": 19,
     "metadata": {
      "tags": []
     },
     "output_type": "execute_result"
    }
   ],
   "source": [
    "#Evaluation begins\n",
    "i = 0\n",
    "l1 = []\n",
    "l2 = []\n",
    "\n",
    "model.eval()\n",
    "test_loader = DataLoader(valid_dataset, batch_size=1, shuffle=True)\n",
    "for batch, (img, target) in enumerate(test_loader):\n",
    "    if torch.cuda.is_available():\n",
    "        img, target = img.to(device=device, dtype=torch.float), target.to(device=device, dtype=torch.long)\n",
    "\n",
    "    output = model(img)\n",
    "    \n",
    "    vcorrect += accuracy(output, target)\n",
    "    _,pred = torch.max(output, dim=1)\n",
    "    l1.append(pred.item())\n",
    "    l2.append(target.item())\n",
    "\n",
    "df = pd.DataFrame(columns=[\"Pred\", \"Target\"])\n",
    "df[\"Pred\"] = l1\n",
    "df[\"Target\"] = l2\n",
    "df.head()"
   ]
  },
  {
   "cell_type": "code",
   "execution_count": null,
   "metadata": {
    "id": "HY-_rN59wI0G"
   },
   "outputs": [],
   "source": [
    "y = np.array(df[\"Target\"])\n",
    "y_pred = np.array(df[\"Pred\"])"
   ]
  },
  {
   "cell_type": "code",
   "execution_count": null,
   "metadata": {
    "colab": {
     "base_uri": "https://localhost:8080/"
    },
    "executionInfo": {
     "elapsed": 909,
     "status": "ok",
     "timestamp": 1617854164808,
     "user": {
      "displayName": "Saloni Parekh",
      "photoUrl": "https://lh3.googleusercontent.com/a-/AOh14GigRkAeLdguHD8uTdcYmYuJQbGjVOo7H6xoSpvg1w=s64",
      "userId": "13474740441446535544"
     },
     "user_tz": -330
    },
    "id": "fDvC2Eggwajr",
    "outputId": "592fa4fa-6b87-47a4-817a-da3e62b8425b"
   },
   "outputs": [
    {
     "name": "stdout",
     "output_type": "stream",
     "text": [
      "Classification Report:\n",
      "              precision    recall  f1-score   support\n",
      "\n",
      "           1       0.85      1.00      0.92        11\n",
      "           2       0.45      1.00      0.62         9\n",
      "           3       1.00      0.60      0.75        10\n",
      "           4       0.90      0.75      0.82        12\n",
      "           5       1.00      0.92      0.96        13\n",
      "           6       1.00      0.80      0.89         5\n",
      "           7       0.92      1.00      0.96        12\n",
      "           8       1.00      1.00      1.00         6\n",
      "           9       1.00      0.50      0.67        12\n",
      "\n",
      "    accuracy                           0.83        90\n",
      "   macro avg       0.90      0.84      0.84        90\n",
      "weighted avg       0.90      0.83      0.84        90\n",
      "\n"
     ]
    }
   ],
   "source": [
    "print(\"Classification Report:\")\n",
    "print(classification_report(y, y_pred))"
   ]
  },
  {
   "cell_type": "markdown",
   "metadata": {
    "id": "sHzeWw9oBgmI"
   },
   "source": [
    "**Evaluation Metrics**<br>\n",
    "At epoch 30:</br>\n",
    "Training Accuracy: 98.53%\t\n",
    "Validation Accuracy: 83.33%</br>\n",
    "F1-Score: 84.33%\n"
   ]
  },
  {
   "cell_type": "code",
   "execution_count": null,
   "metadata": {
    "id": "UAY1PVErBld6"
   },
   "outputs": [],
   "source": []
  }
 ],
 "metadata": {
  "accelerator": "GPU",
  "colab": {
   "authorship_tag": "ABX9TyOUKVaDHlWCKjLmKTpSQ05j",
   "collapsed_sections": [],
   "name": "Point2_Pretraining.ipynb",
   "provenance": []
  },
  "kernelspec": {
   "display_name": "Python 3",
   "language": "python",
   "name": "python3"
  },
  "language_info": {
   "codemirror_mode": {
    "name": "ipython",
    "version": 3
   },
   "file_extension": ".py",
   "mimetype": "text/x-python",
   "name": "python",
   "nbconvert_exporter": "python",
   "pygments_lexer": "ipython3",
   "version": "3.7.4"
  }
 },
 "nbformat": 4,
 "nbformat_minor": 1
}
