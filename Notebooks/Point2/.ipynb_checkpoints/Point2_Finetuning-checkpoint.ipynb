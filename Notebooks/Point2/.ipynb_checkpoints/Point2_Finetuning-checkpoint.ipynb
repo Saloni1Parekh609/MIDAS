{
 "cells": [
  {
   "cell_type": "markdown",
   "metadata": {
    "id": "fCkHs0PeJhhO"
   },
   "source": [
    "#Implementation of Point 2\n",
    "------\n",
    "\n",
    "##Definition for Point 2 </br>\n",
    "Next, select only 0-9 training images from the above dataset, and use the pretrained network to train on MNIST dataset. Use the standard MNIST train and test splits (http://yann.lecun.com/exdb/mnist/). How does this pretrained network perform in comparison to a randomly initialized network in terms of convergence time, final accuracy and other possible training quality metrics? Do a thorough analysis. Please save your model checkpoints.\n",
    "\n",
    "##Solution\n",
    "This notebook contains the model, that was trained in [Point2_Train_Scratch.ipynb](https://colab.research.google.com/drive/1W_n2OE5CFStZ0_nExiW_CekZrHjYcxEO?usp=sharing) being **finetuned** on MNIST.\n",
    "\n",
    "###Model Architecture\n",
    "\n",
    "<font size=3px>\n",
    "1. Conv(1, 32) -> ReLU -> Dropout -> Maxpool</br>\n",
    "2. Conv(32, 64) -> ReLU -> Dropout -> Maxpool</br>\n",
    "3. Conv(64, 128) -> ReLU -> Dropout -> Maxpool</br>\n",
    "4. Conv(128, 256) -> ReLU -> Dropout -> Maxpool</br>\n",
    "5. Conv(256, 512) -> ReLU -> Dropout -> Maxpool</br>\n",
    "6. Transformer Encoder Layer</br>\n",
    "7. Transformer Encoder Layer</br>\n",
    "8. Transformer Encoder Layer</br>\n",
    "9. Fully Connected Layer (512, 10)</br>\n",
    "</font>\n",
    "\n",
    "<font color='blue'>Optimizer</font>: Adam (lr: 0.0001)</br>\n",
    "<font color='blue'>Loss</font>: CrossEntropyLoss</br>\n",
    "\n",
    "\n",
    "**Conclusions**</br>\n",
    "At epoch 20:</br>\n",
    "Training Accuracy: 99.85% \t\n",
    "Validation Accuracy: 99.15%\n",
    "\n",
    "If the notebook is being run on the local system, please download the necessary files from the drive link provided in the code cells.</br>\n",
    "<font color=\"blue\">*Please change the links accordingly*</font>\n",
    "\n",
    "\n",
    "\n",
    "<font color='grey'>*The following code is implemented in PyTorch.*</font>\n",
    "\n",
    "\n"
   ]
  },
  {
   "cell_type": "markdown",
   "metadata": {
    "id": "SmPbytpCKT7a"
   },
   "source": [
    "#Import Libraries"
   ]
  },
  {
   "cell_type": "code",
   "execution_count": null,
   "metadata": {
    "id": "dxfDw2skBLud"
   },
   "outputs": [],
   "source": [
    "from google.colab import drive\n",
    "drive.mount('/content/drive')"
   ]
  },
  {
   "cell_type": "code",
   "execution_count": null,
   "metadata": {
    "id": "Ua-UONA58fVu"
   },
   "outputs": [],
   "source": [
    "!pip install pycm"
   ]
  },
  {
   "cell_type": "code",
   "execution_count": null,
   "metadata": {
    "id": "NwjZKhAZw9V-"
   },
   "outputs": [],
   "source": [
    "import numpy as np\n",
    "import torch\n",
    "import csv\n",
    "from torch import nn\n",
    "import pandas as pd\n",
    "import cv2 as cv\n",
    "from torch.utils.data import DataLoader, Dataset\n",
    "import matplotlib.pyplot as plt\n",
    "import torch.optim as optim\n",
    "import torch.nn.functional as F\n",
    "from sklearn.model_selection import train_test_split\n",
    "from torch.nn import Linear, ReLU, CrossEntropyLoss, Sequential, Conv2d, MaxPool2d, Module, Softmax, BatchNorm2d, Dropout, ZeroPad2d\n",
    "from torchvision import transforms, datasets\n",
    "import shutil\n",
    "from sklearn.metrics import auc, confusion_matrix, classification_report\n",
    "import seaborn as sns\n",
    "from scipy.optimize import brentq\n",
    "from scipy.interpolate import interp1d\n",
    "import random\n",
    "from pycm import *"
   ]
  },
  {
   "cell_type": "markdown",
   "metadata": {
    "id": "BSqRsTqwKYTG"
   },
   "source": [
    "#Data Preparation\n",
    "\n",
    "Here the data is used from the PyTorch library directly because the site http://yann.lecun.com/exdb/mnist/ has been unavailable.\n",
    "\n",
    "According to PyTorch's documentation found at https://pytorch.org/vision/stable/_modules/torchvision/datasets/mnist.html :\n",
    "\n",
    "<font color=\"red\">resources = \n",
    "[</br>\n",
    "        (\"http://yann.lecun.com/exdb/mnist/train-images-idx3-ubyte.gz\", \"f68b3c2dcbeaaa9fbdd348bbdeb94873\"),\n",
    "        (\"http://yann.lecun.com/exdb/mnist/train-labels-idx1-ubyte.gz\", \"d53e105ee54ea40749a09fcbcd1e9432\"),\n",
    "        (\"http://yann.lecun.com/exdb/mnist/t10k-images-idx3-ubyte.gz\", \"9fb629c4189551a2d022fa330f9573f3\"),\n",
    "        (\"http://yann.lecun.com/exdb/mnist/t10k-labels-idx1-ubyte.gz\", \"ec29112dd5afa0611ce80d1b7f02629c\")\n",
    "    ]</font>\n",
    "\n",
    "The data has been retrieved from the same link (http://yann.lecun.com/exdb/mnist/) as had been given."
   ]
  },
  {
   "cell_type": "code",
   "execution_count": null,
   "metadata": {
    "id": "qUd2tMak9z9O"
   },
   "outputs": [],
   "source": [
    "img_transform = transforms.Compose([\n",
    "        #transforms.ToPILImage(),\n",
    "        transforms.Resize((200, 200)),\n",
    "        transforms.ToTensor(),\n",
    "        transforms.Normalize((0.5, ), (0.5,))\n",
    "    ])"
   ]
  },
  {
   "cell_type": "code",
   "execution_count": null,
   "metadata": {
    "colab": {
     "base_uri": "https://localhost:8080/"
    },
    "executionInfo": {
     "elapsed": 1082,
     "status": "ok",
     "timestamp": 1617854511311,
     "user": {
      "displayName": "Saloni Parekh",
      "photoUrl": "https://lh3.googleusercontent.com/a-/AOh14GigRkAeLdguHD8uTdcYmYuJQbGjVOo7H6xoSpvg1w=s64",
      "userId": "13474740441446535544"
     },
     "user_tz": -330
    },
    "id": "BfVfPtCd80mt",
    "outputId": "8a7e3934-6fd1-4ef1-c3e4-156d159c2866"
   },
   "outputs": [
    {
     "name": "stdout",
     "output_type": "stream",
     "text": [
      "images shape on batch size = torch.Size([64, 1, 200, 200])\n",
      "labels shape on batch size = torch.Size([64])\n",
      "images shape on batch size = torch.Size([64, 1, 200, 200])\n",
      "labels shape on batch size = torch.Size([64])\n"
     ]
    }
   ],
   "source": [
    "#Please change below links accordingly\n",
    "trainset = datasets.MNIST('/content/drive/MyDrive/MIDAS/Point2/MNIST', download=True, train=True, transform=img_transform)\n",
    "testset = datasets.MNIST('/content/drive/MyDrive/MIDAS/Point2/MNIST', download=True, train=False, transform=img_transform)\n",
    "\n",
    "train_set, val_set = torch.utils.data.random_split(trainset, [50000, 10000]) #Training set is split into training and validation data\n",
    "\n",
    "train_loader = torch.utils.data.DataLoader(train_set, batch_size=64, shuffle=True)\n",
    "val_loader = torch.utils.data.DataLoader(val_set, batch_size=64, shuffle=True)\n",
    "test_loader = torch.utils.data.DataLoader(testset, batch_size=64, shuffle=True)\n",
    "\n",
    "train_iter = iter(train_loader)\n",
    "images1, labels = train_iter.next()\n",
    "print('images shape on batch size = {}'.format(images1.size()))\n",
    "print('labels shape on batch size = {}'.format(labels.size()))\n",
    "\n",
    "val_iter = iter(val_loader)\n",
    "images1, labels = val_iter.next()\n",
    "print('images shape on batch size = {}'.format(images1.size()))\n",
    "print('labels shape on batch size = {}'.format(labels.size()))"
   ]
  },
  {
   "cell_type": "code",
   "execution_count": null,
   "metadata": {
    "colab": {
     "base_uri": "https://localhost:8080/"
    },
    "executionInfo": {
     "elapsed": 1106,
     "status": "ok",
     "timestamp": 1617857291715,
     "user": {
      "displayName": "Saloni Parekh",
      "photoUrl": "https://lh3.googleusercontent.com/a-/AOh14GigRkAeLdguHD8uTdcYmYuJQbGjVOo7H6xoSpvg1w=s64",
      "userId": "13474740441446535544"
     },
     "user_tz": -330
    },
    "id": "o4PllzArhaEb",
    "outputId": "e576dcfd-ca8d-415f-ad33-204d1dc19b15"
   },
   "outputs": [
    {
     "data": {
      "text/plain": [
       "10000"
      ]
     },
     "execution_count": 20,
     "metadata": {
      "tags": []
     },
     "output_type": "execute_result"
    }
   ],
   "source": [
    "len(val_set)"
   ]
  },
  {
   "cell_type": "markdown",
   "metadata": {
    "id": "pWkCVxnCKizm"
   },
   "source": [
    "#Model Creation\n",
    "\n",
    "<font size=3px>\n",
    "1. Conv(1, 32) -> ReLU -> Dropout -> Maxpool</br>\n",
    "2. Conv(32, 64) -> ReLU -> Dropout -> Maxpool</br>\n",
    "3. Conv(64, 128) -> ReLU -> Dropout -> Maxpool</br>\n",
    "4. Conv(128, 256) -> ReLU -> Dropout -> Maxpool</br>\n",
    "5. Conv(256, 512) -> ReLU -> Dropout -> Maxpool</br>\n",
    "6. Transformer Encoder Layer</br>\n",
    "7. Transformer Encoder Layer</br>\n",
    "8. Transformer Encoder Layer</br>\n",
    "9. Fully Connected Layer (512, 10)</br>\n",
    "</font>"
   ]
  },
  {
   "cell_type": "code",
   "execution_count": null,
   "metadata": {
    "id": "VjFACnR-bq6M"
   },
   "outputs": [],
   "source": [
    "class smallModel(nn.Module):\n",
    "  def __init__(self):\n",
    "    super(smallModel, self).__init__()\n",
    "    \n",
    "    self.zp1 = nn.ZeroPad2d(1)\n",
    "    self.conv1 = nn.Conv2d(1, 32, kernel_size=3, stride=1, padding=1)\n",
    "    self.mp1 = nn.MaxPool2d(kernel_size=2)\n",
    "    self.dp = nn.Dropout(p=0.3)\n",
    "\n",
    "    self.zp2 = nn.ZeroPad2d(1)\n",
    "    self.conv2 = nn.Conv2d(32, 64, kernel_size=3, stride=1, padding=1)\n",
    "    self.mp2 = nn.MaxPool2d(kernel_size=2)\n",
    "    #self.dp = nn.Dropout(p=0.3)\n",
    "\n",
    "    self.zp3 = nn.ZeroPad2d(1)\n",
    "    self.conv3 = nn.Conv2d(64, 128, kernel_size=3, stride=1, padding=1)\n",
    "    self.mp3 = nn.MaxPool2d(kernel_size=2)\n",
    "\n",
    "    self.conv4 = nn.Conv2d(128, 256, kernel_size=3, stride=1, padding=1)\n",
    "    self.mp4 = nn.MaxPool2d(kernel_size=2)\n",
    "\n",
    "    self.conv5 = nn.Conv2d(256, 512, kernel_size=3, stride=1, padding=1)\n",
    "    self.mp5 = nn.MaxPool2d(kernel_size=2)\n",
    "\n",
    "    self.encoder_layer = nn.TransformerEncoderLayer(d_model=512, nhead=8)\n",
    "    self.transformer_encoder = nn.TransformerEncoder(self.encoder_layer, num_layers=3)\n",
    "\n",
    "    self.relu = nn.ReLU()\n",
    "\n",
    "    self.fc1 = nn.Linear(512 * 6 * 6, 9216)\n",
    "    self.fc2 = nn.Linear(9216, 4096)\n",
    "    self.fc3 = nn.Linear(4096, 1024)\n",
    "    self.fc4 = nn.Linear(512 * 6 * 6, 10)\n",
    "\n",
    "    self.row_emb = nn.Parameter(torch.rand(64, 512 // 2))\n",
    "    self.col_emb = nn.Parameter(torch.rand(64, 512 // 2))\n",
    "\n",
    "  def forward(self, x):\n",
    "    x = self.dp(self.relu(self.conv1(x)))\n",
    "    x = self.mp1(x)\n",
    "\n",
    "    x = self.dp(self.relu(self.conv2(x)))\n",
    "    x = self.mp2(x)\n",
    "\n",
    "    x = self.dp(self.relu(self.conv3(x)))\n",
    "    x = self.mp3(x)\n",
    "\n",
    "    x = self.dp(self.relu(self.conv4(x)))\n",
    "    x = self.mp4(x)\n",
    "\n",
    "    x = self.dp(self.relu(self.conv5(x)))\n",
    "    x = self.mp5(x)\n",
    "\n",
    "    H = x.shape[-1]\n",
    "    W = x.shape[-2]\n",
    "    pos = torch.cat([self.col_emb[:W].unsqueeze(0).repeat(H, 1, 1), self.row_emb[:H].unsqueeze(1).repeat(1, W, 1),], dim=-1).flatten(0, 1).unsqueeze(1)\n",
    "\n",
    "    x = x.flatten(2).permute(2, 0, 1)\n",
    "\n",
    "    x = self.transformer_encoder(pos + x)\n",
    "\n",
    "    x = x.permute(1, 2, 0)\n",
    "    x = torch.reshape(x, ((x.shape)[0], 512 * 36))\n",
    "\n",
    "    #x = self.relu(self.fc1(x))\n",
    "    #x = self.relu(self.fc2(x))\n",
    "    #x = self.relu(self.fc3(x))\n",
    "    x = self.fc4(x)\n",
    "  \n",
    "    return x"
   ]
  },
  {
   "cell_type": "markdown",
   "metadata": {
    "id": "5Ps4vIvdK5EF"
   },
   "source": [
    "#Loading the Model\n",
    "\n",
    "This model has been trained on Labels 0-9 from the dataset of Point 1."
   ]
  },
  {
   "cell_type": "code",
   "execution_count": null,
   "metadata": {
    "id": "5t0PDCVrbwXM"
   },
   "outputs": [],
   "source": [
    "device = torch.device(\"cuda\" if torch.cuda.is_available() else \"cpu\")\n",
    "model = smallModel().to(device)\n",
    "optimizer = optim.Adam(model.parameters(), lr=0.0001, weight_decay = 1e-4)\n",
    "\n",
    "#Link to the model: https://drive.google.com/file/d/1iKPCcDfv0Mm-WM5Q1FzaSobhvHF6MIMM/view?usp=sharing\n",
    "checkpoint = torch.load(\"/content/drive/MyDrive/MIDAS/Point2/pretrained_model2.pt\")\n",
    "model.load_state_dict(checkpoint['model_state_dict'])\n",
    "optimizer.load_state_dict(checkpoint['optimizer_state_dict'])\n",
    "epoch_last = checkpoint['epoch']\n",
    "loss = checkpoint['loss']\n",
    "\n",
    "print(loss)\n",
    "print(epoch_last)"
   ]
  },
  {
   "cell_type": "code",
   "execution_count": null,
   "metadata": {
    "id": "jmzI7ME5qZW9"
   },
   "outputs": [],
   "source": [
    "print(model.parameters)"
   ]
  },
  {
   "cell_type": "markdown",
   "metadata": {
    "id": "7hEhj45KSxEv"
   },
   "source": [
    "For successful finetuning, reset the last layer only.\n"
   ]
  },
  {
   "cell_type": "code",
   "execution_count": null,
   "metadata": {
    "id": "gno82LI7mYfd"
   },
   "outputs": [],
   "source": [
    "#For successful finetuning, reset the last layer only.\n",
    "num_ftrs = model.fc4.in_features\n",
    "model.fc4 = nn.Linear(num_ftrs, 10)"
   ]
  },
  {
   "cell_type": "code",
   "execution_count": null,
   "metadata": {
    "id": "TFfVa-09npYD"
   },
   "outputs": [],
   "source": [
    "model = model.cuda()"
   ]
  },
  {
   "cell_type": "markdown",
   "metadata": {
    "id": "Wn5svQ8VLG2b"
   },
   "source": [
    "#Model Training"
   ]
  },
  {
   "cell_type": "code",
   "execution_count": null,
   "metadata": {
    "id": "jQHNweH7-IjM"
   },
   "outputs": [],
   "source": [
    "#Returns number of elements that are equal in the out (output) and labels (target) tensor\n",
    "def accuracy(out, labels):\n",
    "    count = 0\n",
    "    _,pred = torch.max(out, dim=1)\n",
    "    for i in range(out.shape[0]):\n",
    "      if pred[i] == labels[i]:\n",
    "        count = count + 1\n",
    "    return count"
   ]
  },
  {
   "cell_type": "code",
   "execution_count": null,
   "metadata": {
    "colab": {
     "base_uri": "https://localhost:8080/",
     "height": 1000
    },
    "executionInfo": {
     "elapsed": 6237572,
     "status": "error",
     "timestamp": 1617864152628,
     "user": {
      "displayName": "Saloni Parekh",
      "photoUrl": "https://lh3.googleusercontent.com/a-/AOh14GigRkAeLdguHD8uTdcYmYuJQbGjVOo7H6xoSpvg1w=s64",
      "userId": "13474740441446535544"
     },
     "user_tz": -330
    },
    "id": "yEG2pF7NcPcB",
    "outputId": "8b4c34a4-1747-4d2d-b6ad-9df13f0a8b59"
   },
   "outputs": [
    {
     "name": "stdout",
     "output_type": "stream",
     "text": [
      "Training: \n",
      "Validation: \n",
      "Epoch: 1 \tTraining Loss: 0.120217 \tTraining Accuracy: 0.963760 \tValidation Loss: 0.167817 \tValidation Accuracy: 0.947600\n",
      "Training: \n",
      "Validation: \n",
      "Epoch: 2 \tTraining Loss: 0.049871 \tTraining Accuracy: 0.984920 \tValidation Loss: 0.179726 \tValidation Accuracy: 0.947700\n",
      "Training: \n",
      "Validation: \n",
      "Epoch: 3 \tTraining Loss: 0.041185 \tTraining Accuracy: 0.986980 \tValidation Loss: 0.052047 \tValidation Accuracy: 0.984000\n",
      "Training: \n",
      "Validation: \n",
      "Epoch: 4 \tTraining Loss: 0.034275 \tTraining Accuracy: 0.989520 \tValidation Loss: 0.211422 \tValidation Accuracy: 0.942500\n",
      "Training: \n",
      "Validation: \n",
      "Epoch: 5 \tTraining Loss: 0.029166 \tTraining Accuracy: 0.990620 \tValidation Loss: 0.086692 \tValidation Accuracy: 0.977000\n",
      "Training: \n",
      "Validation: \n",
      "Epoch: 6 \tTraining Loss: 0.023999 \tTraining Accuracy: 0.992480 \tValidation Loss: 0.075142 \tValidation Accuracy: 0.979400\n",
      "Training: \n",
      "Validation: \n",
      "Epoch: 7 \tTraining Loss: 0.020892 \tTraining Accuracy: 0.993120 \tValidation Loss: 0.055003 \tValidation Accuracy: 0.984800\n",
      "Training: \n",
      "Validation: \n",
      "Epoch: 8 \tTraining Loss: 0.018327 \tTraining Accuracy: 0.993960 \tValidation Loss: 0.079687 \tValidation Accuracy: 0.978200\n",
      "Training: \n",
      "Validation: \n",
      "Epoch: 9 \tTraining Loss: 0.013844 \tTraining Accuracy: 0.995520 \tValidation Loss: 0.067872 \tValidation Accuracy: 0.983000\n",
      "Training: \n",
      "Validation: \n",
      "Epoch: 10 \tTraining Loss: 0.014509 \tTraining Accuracy: 0.995080 \tValidation Loss: 0.062057 \tValidation Accuracy: 0.983700\n",
      "Training: \n",
      "Validation: \n",
      "Epoch: 11 \tTraining Loss: 0.011561 \tTraining Accuracy: 0.996340 \tValidation Loss: 0.099109 \tValidation Accuracy: 0.971500\n",
      "Training: \n",
      "Validation: \n",
      "Epoch: 12 \tTraining Loss: 0.012260 \tTraining Accuracy: 0.996000 \tValidation Loss: 0.047324 \tValidation Accuracy: 0.987900\n",
      "Training: \n",
      "Validation: \n",
      "Epoch: 13 \tTraining Loss: 0.009102 \tTraining Accuracy: 0.996980 \tValidation Loss: 0.043571 \tValidation Accuracy: 0.988200\n",
      "Training: \n",
      "Validation: \n",
      "Epoch: 14 \tTraining Loss: 0.010095 \tTraining Accuracy: 0.996580 \tValidation Loss: 0.086938 \tValidation Accuracy: 0.977800\n",
      "Training: \n",
      "Validation: \n",
      "Epoch: 15 \tTraining Loss: 0.008318 \tTraining Accuracy: 0.997200 \tValidation Loss: 0.046073 \tValidation Accuracy: 0.987000\n",
      "Training: \n",
      "Validation: \n",
      "Epoch: 16 \tTraining Loss: 0.007605 \tTraining Accuracy: 0.997540 \tValidation Loss: 0.040508 \tValidation Accuracy: 0.988100\n",
      "Training: \n",
      "Validation: \n",
      "Epoch: 17 \tTraining Loss: 0.007635 \tTraining Accuracy: 0.997560 \tValidation Loss: 0.046829 \tValidation Accuracy: 0.987300\n",
      "Training: \n",
      "Validation: \n",
      "Epoch: 18 \tTraining Loss: 0.006366 \tTraining Accuracy: 0.997860 \tValidation Loss: 0.054563 \tValidation Accuracy: 0.984000\n",
      "Training: \n",
      "Validation: \n",
      "Epoch: 19 \tTraining Loss: 0.006917 \tTraining Accuracy: 0.997600 \tValidation Loss: 0.040574 \tValidation Accuracy: 0.990200\n",
      "Training: \n",
      "Validation: \n",
      "Epoch: 20 \tTraining Loss: 0.004837 \tTraining Accuracy: 0.998480 \tValidation Loss: 0.035206 \tValidation Accuracy: 0.991500\n",
      "Training: \n"
     ]
    },
    {
     "ename": "KeyboardInterrupt",
     "evalue": "ignored",
     "output_type": "error",
     "traceback": [
      "\u001b[0;31m---------------------------------------------------------------------------\u001b[0m",
      "\u001b[0;31mKeyboardInterrupt\u001b[0m                         Traceback (most recent call last)",
      "\u001b[0;32m<ipython-input-25-d9f4091eba89>\u001b[0m in \u001b[0;36m<module>\u001b[0;34m()\u001b[0m\n\u001b[1;32m     37\u001b[0m     \u001b[0moptimizer\u001b[0m\u001b[0;34m.\u001b[0m\u001b[0mstep\u001b[0m\u001b[0;34m(\u001b[0m\u001b[0;34m)\u001b[0m\u001b[0;34m\u001b[0m\u001b[0;34m\u001b[0m\u001b[0m\n\u001b[1;32m     38\u001b[0m \u001b[0;34m\u001b[0m\u001b[0m\n\u001b[0;32m---> 39\u001b[0;31m     \u001b[0mtrain_loss\u001b[0m \u001b[0;34m+=\u001b[0m \u001b[0mloss\u001b[0m\u001b[0;34m.\u001b[0m\u001b[0mitem\u001b[0m\u001b[0;34m(\u001b[0m\u001b[0;34m)\u001b[0m\u001b[0;34m\u001b[0m\u001b[0;34m\u001b[0m\u001b[0m\n\u001b[0m\u001b[1;32m     40\u001b[0m     \u001b[0mtcorrect\u001b[0m \u001b[0;34m+=\u001b[0m \u001b[0maccuracy\u001b[0m\u001b[0;34m(\u001b[0m\u001b[0moutput\u001b[0m\u001b[0;34m,\u001b[0m \u001b[0mtarget\u001b[0m\u001b[0;34m)\u001b[0m\u001b[0;34m\u001b[0m\u001b[0;34m\u001b[0m\u001b[0m\n\u001b[1;32m     41\u001b[0m     \u001b[0m_\u001b[0m\u001b[0;34m,\u001b[0m\u001b[0mpred\u001b[0m \u001b[0;34m=\u001b[0m \u001b[0mtorch\u001b[0m\u001b[0;34m.\u001b[0m\u001b[0mmax\u001b[0m\u001b[0;34m(\u001b[0m\u001b[0moutput\u001b[0m\u001b[0;34m,\u001b[0m \u001b[0mdim\u001b[0m\u001b[0;34m=\u001b[0m\u001b[0;36m1\u001b[0m\u001b[0;34m)\u001b[0m\u001b[0;34m\u001b[0m\u001b[0;34m\u001b[0m\u001b[0m\n",
      "\u001b[0;31mKeyboardInterrupt\u001b[0m: "
     ]
    }
   ],
   "source": [
    "chkpt_path = \"/content/drive/MyDrive/MIDAS/Point2/finetuned_model.pt\"\n",
    "\n",
    "train_loss_list = []\n",
    "valid_loss_list = []\n",
    "train_accuracy = []\n",
    "valid_accuracy = []\n",
    "\n",
    "epochs = 10\n",
    "optimizer = optim.Adam(model.parameters(), lr = 0.0001, weight_decay = 1e-4)\n",
    "criterion = nn.CrossEntropyLoss()\n",
    "min_valid_loss = np.Inf\n",
    "check_epoch = 5\n",
    "epoch_no_improve = 0\n",
    "i = 0\n",
    "\n",
    "\n",
    "for epoch in range(1, 30):\n",
    "  train_loss = 0\n",
    "  valid_loss = 0\n",
    "  tcorrect = 0\n",
    "  vcorrect = 0\n",
    "  model.train()\n",
    "\n",
    "  device = torch.device(\"cuda\" if torch.cuda.is_available() else \"cpu\")\n",
    "  print(\"Training: \")\n",
    "  for batch, (img, target) in enumerate(train_loader):\n",
    "    #print(batch)\n",
    "    if torch.cuda.is_available():\n",
    "        img, target = img.to(device=device, dtype=torch.float), target.to(device=device, dtype=torch.long)\n",
    "\n",
    "    optimizer.zero_grad()\n",
    "    output = model(img)\n",
    "\n",
    "    loss = criterion(output, target.view(-1))\n",
    "\n",
    "    loss.backward()\n",
    "    optimizer.step()\n",
    "\n",
    "    train_loss += loss.item()\n",
    "    tcorrect += accuracy(output, target)\n",
    "    _,pred = torch.max(output, dim=1)\n",
    "    \n",
    "  \n",
    "    \n",
    "  model.eval()\n",
    "  print(\"Validation: \")\n",
    "  for batch, (img, target) in enumerate(val_loader):\n",
    "    if torch.cuda.is_available():\n",
    "        img, target = img.to(device=device, dtype=torch.float), target.to(device=device, dtype=torch.long)\n",
    "\n",
    "    output = model(img)\n",
    "    \n",
    "    loss = criterion(output, target.view(-1))\n",
    "\n",
    "    valid_loss += loss.item()\n",
    "    vcorrect += accuracy(output, target)\n",
    "    _,pred = torch.max(output, dim=1)\n",
    "    \n",
    "    \n",
    "  # calculate average losses\n",
    "  train_loss = train_loss/len(train_loader)\n",
    "  valid_loss = valid_loss/len(val_loader)\n",
    "  train_loss_list.append(train_loss)\n",
    "  valid_loss_list.append(valid_loss)\n",
    "\n",
    "  tcorrect = tcorrect/len(train_set)\n",
    "  vcorrect = vcorrect/len(val_set)\n",
    "  train_accuracy.append(tcorrect)\n",
    "  valid_accuracy.append(vcorrect)\n",
    "  \n",
    "  # print training/validation statistics \n",
    "  print('Epoch: {} \\tTraining Loss: {:.6f} \\tTraining Accuracy: {:.6f} \\tValidation Loss: {:.6f} \\tValidation Accuracy: {:.6f}'.format(\n",
    "      epoch, train_loss, tcorrect, valid_loss, vcorrect))\n",
    "  #print(train_loss_list)\n",
    "  #print(valid_loss_list)\n",
    "\n",
    "  #print(valid_loss_list)\n",
    "\n",
    "  if epoch % 5 == 0 :\n",
    "    torch.save({\n",
    "              'epoch': epoch,\n",
    "              'model_state_dict': model.state_dict(),\n",
    "              'optimizer_state_dict': optimizer.state_dict(),\n",
    "              'loss': loss,\n",
    "              }, chkpt_path)\n"
   ]
  },
  {
   "cell_type": "markdown",
   "metadata": {
    "id": "uj3dQiqILojM"
   },
   "source": [
    "#Visualisation and Evaluation"
   ]
  },
  {
   "cell_type": "code",
   "execution_count": null,
   "metadata": {
    "id": "PDe7cK3ldbxQ"
   },
   "outputs": [],
   "source": [
    "#1hr 43 m"
   ]
  },
  {
   "cell_type": "code",
   "execution_count": null,
   "metadata": {
    "colab": {
     "base_uri": "https://localhost:8080/",
     "height": 296
    },
    "executionInfo": {
     "elapsed": 1284,
     "status": "ok",
     "timestamp": 1617864191745,
     "user": {
      "displayName": "Saloni Parekh",
      "photoUrl": "https://lh3.googleusercontent.com/a-/AOh14GigRkAeLdguHD8uTdcYmYuJQbGjVOo7H6xoSpvg1w=s64",
      "userId": "13474740441446535544"
     },
     "user_tz": -330
    },
    "id": "dqsSKXd9OCD7",
    "outputId": "443127b0-b27c-4b97-d1c2-d2c048c1b24f"
   },
   "outputs": [
    {
     "data": {
      "text/plain": [
       "<matplotlib.legend.Legend at 0x7f11ad727950>"
      ]
     },
     "execution_count": 26,
     "metadata": {
      "tags": []
     },
     "output_type": "execute_result"
    },
    {
     "data": {
      "image/png": "[encoded data removed]",
      "text/plain": [
       "<Figure size 432x288 with 1 Axes>"
      ]
     },
     "metadata": {
      "needs_background": "light",
      "tags": []
     },
     "output_type": "display_data"
    }
   ],
   "source": [
    "#Without Augmentation\n",
    "a = [i for  i in range(1, 21)]\n",
    "plt.plot(a, train_loss_list, label = 'Training Loss')\n",
    "plt.plot(a, valid_loss_list, label = 'Validation Loss')\n",
    "plt.xlabel(\"Epochs\")\n",
    "plt.ylabel(\"Loss\")\n",
    "plt.legend()"
   ]
  },
  {
   "cell_type": "code",
   "execution_count": null,
   "metadata": {
    "colab": {
     "base_uri": "https://localhost:8080/",
     "height": 296
    },
    "executionInfo": {
     "elapsed": 1208,
     "status": "ok",
     "timestamp": 1617864229362,
     "user": {
      "displayName": "Saloni Parekh",
      "photoUrl": "https://lh3.googleusercontent.com/a-/AOh14GigRkAeLdguHD8uTdcYmYuJQbGjVOo7H6xoSpvg1w=s64",
      "userId": "13474740441446535544"
     },
     "user_tz": -330
    },
    "id": "-22sGynvOGXW",
    "outputId": "412f1cb8-60c4-4d82-a761-1635e282e072"
   },
   "outputs": [
    {
     "data": {
      "text/plain": [
       "<matplotlib.legend.Legend at 0x7f11a9c94f50>"
      ]
     },
     "execution_count": 28,
     "metadata": {
      "tags": []
     },
     "output_type": "execute_result"
    },
    {
     "data": {
      "image/png": "[encoded data removed]",
      "text/plain": [
       "<Figure size 432x288 with 1 Axes>"
      ]
     },
     "metadata": {
      "needs_background": "light",
      "tags": []
     },
     "output_type": "display_data"
    }
   ],
   "source": [
    "#Without Augmentation\n",
    "a = [i for  i in range(1, 21)]\n",
    "plt.plot(a, train_accuracy, label = 'Training Accuracy')\n",
    "plt.plot(a, valid_accuracy, label = 'Validation Accuracy')\n",
    "plt.xlabel(\"Epochs\")\n",
    "plt.ylabel(\"Accuracy\")\n",
    "plt.legend()"
   ]
  },
  {
   "cell_type": "code",
   "execution_count": null,
   "metadata": {
    "colab": {
     "base_uri": "https://localhost:8080/",
     "height": 204
    },
    "executionInfo": {
     "elapsed": 24019,
     "status": "ok",
     "timestamp": 1617864370971,
     "user": {
      "displayName": "Saloni Parekh",
      "photoUrl": "https://lh3.googleusercontent.com/a-/AOh14GigRkAeLdguHD8uTdcYmYuJQbGjVOo7H6xoSpvg1w=s64",
      "userId": "13474740441446535544"
     },
     "user_tz": -330
    },
    "id": "Oax_Lye1OOZb",
    "outputId": "19b88d79-44ac-4cc7-958b-4d601b22a1ce"
   },
   "outputs": [
    {
     "data": {
      "text/html": [
       "<div>\n",
       "<style scoped>\n",
       "    .dataframe tbody tr th:only-of-type {\n",
       "        vertical-align: middle;\n",
       "    }\n",
       "\n",
       "    .dataframe tbody tr th {\n",
       "        vertical-align: top;\n",
       "    }\n",
       "\n",
       "    .dataframe thead th {\n",
       "        text-align: right;\n",
       "    }\n",
       "</style>\n",
       "<table border=\"1\" class=\"dataframe\">\n",
       "  <thead>\n",
       "    <tr style=\"text-align: right;\">\n",
       "      <th></th>\n",
       "      <th>Pred</th>\n",
       "      <th>Target</th>\n",
       "    </tr>\n",
       "  </thead>\n",
       "  <tbody>\n",
       "    <tr>\n",
       "      <th>0</th>\n",
       "      <td>6</td>\n",
       "      <td>6</td>\n",
       "    </tr>\n",
       "    <tr>\n",
       "      <th>1</th>\n",
       "      <td>5</td>\n",
       "      <td>5</td>\n",
       "    </tr>\n",
       "    <tr>\n",
       "      <th>2</th>\n",
       "      <td>7</td>\n",
       "      <td>7</td>\n",
       "    </tr>\n",
       "    <tr>\n",
       "      <th>3</th>\n",
       "      <td>1</td>\n",
       "      <td>1</td>\n",
       "    </tr>\n",
       "    <tr>\n",
       "      <th>4</th>\n",
       "      <td>1</td>\n",
       "      <td>1</td>\n",
       "    </tr>\n",
       "  </tbody>\n",
       "</table>\n",
       "</div>"
      ],
      "text/plain": [
       "   Pred  Target\n",
       "0     6       6\n",
       "1     5       5\n",
       "2     7       7\n",
       "3     1       1\n",
       "4     1       1"
      ]
     },
     "execution_count": 30,
     "metadata": {
      "tags": []
     },
     "output_type": "execute_result"
    }
   ],
   "source": [
    "#Evaluation begins\n",
    "i = 0\n",
    "l1 = []\n",
    "l2 = []\n",
    "vcorrect = 0\n",
    "\n",
    "model.eval()\n",
    "#test_loader = DataLoader(valset, batch_size=1, shuffle=True)\n",
    "for batch, (img, target) in enumerate(test_loader):\n",
    "    if torch.cuda.is_available():\n",
    "        img, target = img.to(device=device, dtype=torch.float), target.to(device=device, dtype=torch.long)\n",
    "\n",
    "    output = model(img)\n",
    "    \n",
    "    vcorrect += accuracy(output, target)\n",
    "    _,pred = torch.max(output, dim=1)\n",
    "    l1.append(pred.tolist())\n",
    "    l2.append(target.tolist())\n",
    "\n",
    "vcorrect = vcorrect/len(testset)\n",
    "df = pd.DataFrame(columns=[\"Pred\", \"Target\"])\n",
    "l1 = [j for sub in l1 for j in sub]\n",
    "l2 = [j for sub in l2 for j in sub]\n",
    "df[\"Pred\"] = l1\n",
    "df[\"Target\"] = l2\n",
    "df.head()"
   ]
  },
  {
   "cell_type": "code",
   "execution_count": null,
   "metadata": {
    "id": "166Drh-BOXlN"
   },
   "outputs": [],
   "source": [
    "y = np.array(df[\"Target\"])\n",
    "y_pred = np.array(df[\"Pred\"])"
   ]
  },
  {
   "cell_type": "markdown",
   "metadata": {
    "id": "oNZnDT_lDGVT"
   },
   "source": [
    "**Evaluation**<br>\n",
    "At epoch 20:</br>\n",
    "Training Accuracy: 99.85% \t\n",
    "Validation Accuracy: 99.15%"
   ]
  },
  {
   "cell_type": "code",
   "execution_count": null,
   "metadata": {
    "colab": {
     "base_uri": "https://localhost:8080/"
    },
    "executionInfo": {
     "elapsed": 3479,
     "status": "ok",
     "timestamp": 1617864370975,
     "user": {
      "displayName": "Saloni Parekh",
      "photoUrl": "https://lh3.googleusercontent.com/a-/AOh14GigRkAeLdguHD8uTdcYmYuJQbGjVOo7H6xoSpvg1w=s64",
      "userId": "13474740441446535544"
     },
     "user_tz": -330
    },
    "id": "BC2RJ5CJOv9G",
    "outputId": "bb0b4846-5a8c-4fa8-c8df-ac388619facb"
   },
   "outputs": [
    {
     "name": "stdout",
     "output_type": "stream",
     "text": [
      "Classification Report:\n",
      "              precision    recall  f1-score   support\n",
      "\n",
      "           0       1.00      0.99      0.99       980\n",
      "           1       0.96      1.00      0.98      1135\n",
      "           2       1.00      0.97      0.98      1032\n",
      "           3       0.99      1.00      0.99      1010\n",
      "           4       0.99      1.00      0.99       982\n",
      "           5       0.99      0.99      0.99       892\n",
      "           6       1.00      0.98      0.99       958\n",
      "           7       0.98      0.99      0.99      1028\n",
      "           8       1.00      0.99      0.99       974\n",
      "           9       1.00      0.97      0.98      1009\n",
      "\n",
      "    accuracy                           0.99     10000\n",
      "   macro avg       0.99      0.99      0.99     10000\n",
      "weighted avg       0.99      0.99      0.99     10000\n",
      "\n"
     ]
    }
   ],
   "source": [
    "print(\"Classification Report:\")\n",
    "print(classification_report(y, y_pred))"
   ]
  },
  {
   "cell_type": "code",
   "execution_count": null,
   "metadata": {
    "colab": {
     "base_uri": "https://localhost:8080/"
    },
    "executionInfo": {
     "elapsed": 958,
     "status": "ok",
     "timestamp": 1617864433024,
     "user": {
      "displayName": "Saloni Parekh",
      "photoUrl": "https://lh3.googleusercontent.com/a-/AOh14GigRkAeLdguHD8uTdcYmYuJQbGjVOo7H6xoSpvg1w=s64",
      "userId": "13474740441446535544"
     },
     "user_tz": -330
    },
    "id": "Ai9FwO3LOxz4",
    "outputId": "a99146a9-35a5-4a50-cced-ec2e28fea319"
   },
   "outputs": [
    {
     "name": "stdout",
     "output_type": "stream",
     "text": [
      "Predict    0          1          2          3          4          5          6          7          8          9          \n",
      "Actual\n",
      "0          974        3          2          0          0          0          0          1          0          0          \n",
      "\n",
      "1          0          1135       0          0          0          0          0          0          0          0          \n",
      "\n",
      "2          0          22         1004       0          0          0          0          6          0          0          \n",
      "\n",
      "3          0          1          1          1006       0          1          0          1          0          0          \n",
      "\n",
      "4          0          0          0          0          979        0          1          1          0          1          \n",
      "\n",
      "5          0          3          0          7          0          879        1          1          0          1          \n",
      "\n",
      "6          3          11         0          0          1          2          940        0          1          0          \n",
      "\n",
      "7          0          6          0          0          0          0          0          1021       1          0          \n",
      "\n",
      "8          1          3          1          2          0          0          0          3          962        2          \n",
      "\n",
      "9          0          3          0          3          8          3          0          8          1          983        \n",
      "\n",
      "\n",
      "\n",
      "\n",
      "\n",
      "Overall Statistics : \n",
      "\n",
      "95% CI                                                            (0.98619,0.99041)\n",
      "ACC Macro                                                         0.99766\n",
      "ARI                                                               0.97357\n",
      "AUNP                                                              0.99346\n",
      "AUNU                                                              0.99342\n",
      "Bangdiwala B                                                      0.97637\n",
      "Bennett S                                                         0.987\n",
      "CBA                                                               0.98104\n",
      "CSI                                                               0.97725\n",
      "Chi-Squared                                                       87739.61183\n",
      "Chi-Squared DF                                                    81\n",
      "Conditional Entropy                                               0.10503\n",
      "Cramer V                                                          0.98736\n",
      "Cross Entropy                                                     3.31972\n",
      "F1 Macro                                                          0.98853\n",
      "F1 Micro                                                          0.9883\n",
      "FNR Macro                                                         0.01185\n",
      "FNR Micro                                                         0.0117\n",
      "FPR Macro                                                         0.00131\n",
      "FPR Micro                                                         0.0013\n",
      "Gwet AC1                                                          0.987\n",
      "Hamming Loss                                                      0.0117\n",
      "Joint Entropy                                                     3.42445\n",
      "KL Divergence                                                     0.00029\n",
      "Kappa                                                             0.98699\n",
      "Kappa 95% CI                                                      (0.98465,0.98934)\n",
      "Kappa No Prevalence                                               0.9766\n",
      "Kappa Standard Error                                              0.0012\n",
      "Kappa Unbiased                                                    0.98699\n",
      "Krippendorff Alpha                                                0.98699\n",
      "Lambda A                                                          0.9868\n",
      "Lambda B                                                          0.98672\n",
      "Mutual Information                                                3.21298\n",
      "NIR                                                               0.1135\n",
      "Overall ACC                                                       0.9883\n",
      "Overall CEN                                                       0.02413\n",
      "Overall J                                                         (9.77373,0.97737)\n",
      "Overall MCC                                                       0.98702\n",
      "Overall MCEN                                                      0.04226\n",
      "Overall RACC                                                      0.10043\n",
      "Overall RACCU                                                     0.10044\n",
      "P-Value                                                           None\n",
      "PPV Macro                                                         0.9891\n",
      "PPV Micro                                                         0.9883\n",
      "Pearson C                                                         0.94746\n",
      "Phi-Squared                                                       8.77396\n",
      "RCI                                                               0.96793\n",
      "RR                                                                1000.0\n",
      "Reference Entropy                                                 3.31942\n",
      "Response Entropy                                                  3.31801\n",
      "SOA1(Landis & Koch)                                               Almost Perfect\n",
      "SOA2(Fleiss)                                                      Excellent\n",
      "SOA3(Altman)                                                      Very Good\n",
      "SOA4(Cicchetti)                                                   Excellent\n",
      "SOA5(Cramer)                                                      Very Strong\n",
      "SOA6(Matthews)                                                    Very Strong\n",
      "Scott PI                                                          0.98699\n",
      "Standard Error                                                    0.00108\n",
      "TNR Macro                                                         0.99869\n",
      "TNR Micro                                                         0.9987\n",
      "TPR Macro                                                         0.98815\n",
      "TPR Micro                                                         0.9883\n",
      "Zero-one Loss                                                     117\n",
      "\n",
      "Class Statistics :\n",
      "\n",
      "Classes                                                           0             1             2             3             4             5             6             7             8             9             \n",
      "ACC(Accuracy)                                                     0.999         0.9948        0.9968        0.9984        0.9988        0.9981        0.998         0.9972        0.9985        0.997         \n",
      "AGF(Adjusted F-score)                                             0.99683       0.99486       0.98737       0.99692       0.99763       0.99283       0.99141       0.99469       0.99418       0.988         \n",
      "AGM(Adjusted geometric mean)                                      0.99806       0.99569       0.99247       0.99797       0.99846       0.99569       0.99488       0.99648       0.99651       0.99285       \n",
      "AM(Difference between automatic and manual classification)        -2            52            -24           8             6             -7            -16           14            -9            -22           \n",
      "AUC(Area under the ROC curve)                                     0.99672       0.99707       0.98621       0.99735       0.99797       0.99238       0.99049       0.99543       0.99367       0.98689       \n",
      "AUCI(AUC value interpretation)                                    Excellent     Excellent     Excellent     Excellent     Excellent     Excellent     Excellent     Excellent     Excellent     Excellent     \n",
      "AUPR(Area under the PR curve)                                     0.99489       0.9781        0.98445       0.99213       0.99392       0.98932       0.98954       0.98652       0.99229       0.98509       \n",
      "BCD(Bray-Curtis dissimilarity)                                    0.0001        0.0026        0.0012        0.0004        0.0003        0.00035       0.0008        0.0007        0.00045       0.0011        \n",
      "BM(Informedness or bookmaker informedness)                        0.99343       0.99413       0.97242       0.9947        0.99595       0.98477       0.98099       0.99085       0.98735       0.97379       \n",
      "CEN(Confusion entropy)                                            0.01198       0.04242       0.02777       0.01766       0.01307       0.02347       0.02184       0.02881       0.01859       0.03179       \n",
      "DOR(Diagnostic odds ratio)                                        365899.33333  None          80355.85714   188163.91667  326659.66667  102572.53846  236044.44444  62169.87075   241114.61111  84944.43269   \n",
      "DP(Discriminant power)                                            3.06724       None          2.70428       2.908         3.04008       2.76273       2.96229       2.64284       2.96738       2.71757       \n",
      "DPI(Discriminant power interpretation)                            Good          None          Fair          Fair          Good          Fair          Fair          Fair          Fair          Fair          \n",
      "ERR(Error rate)                                                   0.001         0.0052        0.0032        0.0016        0.0012        0.0019        0.002         0.0028        0.0015        0.003         \n",
      "F0.5(F0.5 score)                                                  0.9955        0.96464       0.99131       0.98977       0.9921        0.99165       0.9945        0.98249       0.99504       0.99153       \n",
      "F1(F1 score - harmonic mean of precision and sensitivity)         0.99489       0.97761       0.98431       0.99211       0.99391       0.98931       0.98947       0.98647       0.99226       0.98497       \n",
      "F2(F2 score)                                                      0.99428       0.99092       0.97741       0.99446       0.99573       0.98698       0.9845        0.99049       0.98951       0.9785        \n",
      "FDR(False discovery rate)                                         0.00409       0.04381       0.00397       0.01179       0.00911       0.00678       0.00212       0.02015       0.00311       0.00405       \n",
      "FN(False negative/miss/type 2 error)                              6             0             28            4             3             13            18            7             12            26            \n",
      "FNR(Miss rate or false negative rate)                             0.00612       0.0           0.02713       0.00396       0.00305       0.01457       0.01879       0.00681       0.01232       0.02577       \n",
      "FOR(False omission rate)                                          0.00067       0.0           0.00311       0.00045       0.00033       0.00143       0.00199       0.00078       0.00133       0.00288       \n",
      "FP(False positive/type 1 error/false alarm)                       4             52            4             12            9             6             2             21            3             4             \n",
      "FPR(Fall-out or false positive rate)                              0.00044       0.00587       0.00045       0.00133       0.001         0.00066       0.00022       0.00234       0.00033       0.00044       \n",
      "G(G-measure geometric mean of precision and sensitivity)          0.99489       0.97785       0.98438       0.99212       0.99391       0.98932       0.98951       0.9865        0.99227       0.98503       \n",
      "GI(Gini index)                                                    0.99343       0.99413       0.97242       0.9947        0.99595       0.98477       0.98099       0.99085       0.98735       0.97379       \n",
      "GM(G-mean geometric mean of specificity and sensitivity)          0.99671       0.99706       0.98612       0.99735       0.99797       0.99236       0.99045       0.99542       0.99366       0.98681       \n",
      "IBA(Index of balanced accuracy)                                   0.9878        0.99997       0.94648       0.9921        0.9939        0.97107       0.96278       0.98644       0.97552       0.94914       \n",
      "ICSI(Individual classification success index)                     0.98979       0.95619       0.9689        0.98425       0.98784       0.97865       0.97909       0.97304       0.98457       0.97018       \n",
      "IS(Information score)                                             3.34516       3.07461       3.27075       3.29047       3.33493       3.477         3.38076       3.25272       3.35544       3.30314       \n",
      "J(Jaccard index)                                                  0.98984       0.95619       0.96911       0.98434       0.98789       0.97884       0.97917       0.97331       0.98465       0.97038       \n",
      "LS(Lift score)                                                    10.16235      8.4246        9.65147       9.78428       10.09054      11.13476      10.41625      9.53158       10.23502      9.87064       \n",
      "MCC(Matthews correlation coefficient)                             0.99434       0.97498       0.98262       0.99123       0.99325       0.98827       0.98841       0.98494       0.99145       0.98338       \n",
      "MCCI(Matthews correlation coefficient interpretation)             Very Strong   Very Strong   Very Strong   Very Strong   Very Strong   Very Strong   Very Strong   Very Strong   Very Strong   Very Strong   \n",
      "MCEN(Modified confusion entropy)                                  0.02143       0.07281       0.04743       0.03134       0.02309       0.04146       0.0383        0.05057       0.03325       0.0557        \n",
      "MK(Markedness)                                                    0.99524       0.95619       0.99292       0.98777       0.99056       0.99179       0.99589       0.97907       0.99556       0.99306       \n",
      "N(Condition negative)                                             9020          8865          8968          8990          9018          9108          9042          8972          9026          8991          \n",
      "NLR(Negative likelihood ratio)                                    0.00613       0.0           0.02714       0.00397       0.00306       0.01458       0.01879       0.00683       0.01232       0.02578       \n",
      "NLRI(Negative likelihood ratio interpretation)                    Good          Good          Good          Good          Good          Good          Good          Good          Good          Good          \n",
      "NPV(Negative predictive value)                                    0.99933       1.0           0.99689       0.99955       0.99967       0.99857       0.99801       0.99922       0.99867       0.99712       \n",
      "OC(Overlap coefficient)                                           0.99591       1.0           0.99603       0.99604       0.99695       0.99322       0.99788       0.99319       0.99689       0.99595       \n",
      "OOC(Otsuka-Ochiai coefficient)                                    0.99489       0.97785       0.98438       0.99212       0.99391       0.98932       0.98951       0.9865        0.99227       0.98503       \n",
      "OP(Optimized precision)                                           0.99615       0.99186       0.98327       0.99708       0.99777       0.99109       0.98863       0.99496       0.99247       0.98417       \n",
      "P(Condition positive or support)                                  980           1135          1032          1010          982           892           958           1028          974           1009          \n",
      "PLR(Positive likelihood ratio)                                    2241.19388    170.48077     2181.17054    746.19967     998.9389      1495.87668    4436.05428    424.32889     2971.5989     2189.82978    \n",
      "PLRI(Positive likelihood ratio interpretation)                    Good          Good          Good          Good          Good          Good          Good          Good          Good          Good          \n",
      "POP(Population)                                                   10000         10000         10000         10000         10000         10000         10000         10000         10000         10000         \n",
      "PPV(Precision or positive predictive value)                       0.99591       0.95619       0.99603       0.98821       0.99089       0.99322       0.99788       0.97985       0.99689       0.99595       \n",
      "PRE(Prevalence)                                                   0.098         0.1135        0.1032        0.101         0.0982        0.0892        0.0958        0.1028        0.0974        0.1009        \n",
      "Q(Yule Q - coefficient of colligation)                            0.99999       None          0.99998       0.99999       0.99999       0.99998       0.99999       0.99997       0.99999       0.99998       \n",
      "QI(Yule Q interpretation)                                         Strong        None          Strong        Strong        Strong        Strong        Strong        Strong        Strong        Strong        \n",
      "RACC(Random accuracy)                                             0.00958       0.01347       0.0104        0.01028       0.0097        0.00789       0.00902       0.01071       0.0094        0.00996       \n",
      "RACCU(Random accuracy unbiased)                                   0.00958       0.01348       0.0104        0.01028       0.0097        0.00789       0.00902       0.01071       0.0094        0.00996       \n",
      "TN(True negative/correct rejection)                               9016          8813          8964          8978          9009          9102          9040          8951          9023          8987          \n",
      "TNR(Specificity or true negative rate)                            0.99956       0.99413       0.99955       0.99867       0.999         0.99934       0.99978       0.99766       0.99967       0.99956       \n",
      "TON(Test outcome negative)                                        9022          8813          8992          8982          9012          9115          9058          8958          9035          9013          \n",
      "TOP(Test outcome positive)                                        978           1187          1008          1018          988           885           942           1042          965           987           \n",
      "TP(True positive/hit)                                             974           1135          1004          1006          979           879           940           1021          962           983           \n",
      "TPR(Sensitivity, recall, hit rate, or true positive rate)         0.99388       1.0           0.97287       0.99604       0.99695       0.98543       0.98121       0.99319       0.98768       0.97423       \n",
      "Y(Youden index)                                                   0.99343       0.99413       0.97242       0.9947        0.99595       0.98477       0.98099       0.99085       0.98735       0.97379       \n",
      "dInd(Distance index)                                              0.00614       0.00587       0.02714       0.00418       0.00321       0.01459       0.01879       0.0072        0.01232       0.02577       \n",
      "sInd(Similarity index)                                            0.99566       0.99585       0.98081       0.99704       0.99773       0.98968       0.98671       0.99491       0.99129       0.98178       \n",
      "\n"
     ]
    },
    {
     "name": "stderr",
     "output_type": "stream",
     "text": [
      "/usr/local/lib/python3.7/dist-packages/pycm/pycm_obj.py:195: RuntimeWarning: The confusion matrix is a high dimension matrix and won't be demonstrated properly.\n",
      "If confusion matrix has too many zeros (sparse matrix) you can set `sparse` flag to True in printing functions otherwise by using save_csv method to save the confusion matrix in csv format you'll have better demonstration.\n",
      "  warn(CLASS_NUMBER_WARNING, RuntimeWarning)\n"
     ]
    }
   ],
   "source": [
    "cm = ConfusionMatrix(actual_vector=y, predict_vector=y_pred)\n",
    "print(cm)"
   ]
  },
  {
   "cell_type": "code",
   "execution_count": null,
   "metadata": {
    "id": "9gJb63RePBj5"
   },
   "outputs": [],
   "source": []
  }
 ],
 "metadata": {
  "accelerator": "GPU",
  "colab": {
   "collapsed_sections": [],
   "name": "Point2_Finetuning.ipynb",
   "provenance": [
    {
     "file_id": "1W_n2OE5CFStZ0_nExiW_CekZrHjYcxEO",
     "timestamp": 1617854305312
    }
   ]
  },
  "kernelspec": {
   "display_name": "Python 3",
   "language": "python",
   "name": "python3"
  },
  "language_info": {
   "codemirror_mode": {
    "name": "ipython",
    "version": 3
   },
   "file_extension": ".py",
   "mimetype": "text/x-python",
   "name": "python",
   "nbconvert_exporter": "python",
   "pygments_lexer": "ipython3",
   "version": "3.7.4"
  }
 },
 "nbformat": 4,
 "nbformat_minor": 1
}
