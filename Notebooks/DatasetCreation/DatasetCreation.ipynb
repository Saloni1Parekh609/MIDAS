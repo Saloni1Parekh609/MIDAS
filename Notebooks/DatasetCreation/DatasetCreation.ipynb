{
 "cells": [
  {
   "cell_type": "markdown",
   "metadata": {
    "id": "MzK0NqMgWHwv"
   },
   "source": [
    "#Dataset Generation\n",
    "\n",
    "This notebook contains the code to generate a datatset using the patterns in folder structure.\n",
    "\n",
    "If the notebook is being run on the local system, please download the necessary files from the drive link provided in the code cells.</br>\n",
    "<font color=\"blue\">*Please change the links accordingly*</font>\n",
    "\n",
    "\n"
   ]
  },
  {
   "cell_type": "code",
   "execution_count": null,
   "metadata": {
    "colab": {
     "base_uri": "https://localhost:8080/"
    },
    "executionInfo": {
     "elapsed": 22814,
     "status": "ok",
     "timestamp": 1617862442519,
     "user": {
      "displayName": "Saloni Parekh",
      "photoUrl": "https://lh3.googleusercontent.com/a-/AOh14GigRkAeLdguHD8uTdcYmYuJQbGjVOo7H6xoSpvg1w=s64",
      "userId": "13474740441446535544"
     },
     "user_tz": -330
    },
    "id": "eMxzW0zb8DM1",
    "outputId": "2acfb676-dfca-4167-8d99-da2f08aa75ba"
   },
   "outputs": [
    {
     "name": "stdout",
     "output_type": "stream",
     "text": [
      "Mounted at /content/drive\n"
     ]
    }
   ],
   "source": [
    "from google.colab import drive\n",
    "drive.mount('/content/drive')"
   ]
  },
  {
   "cell_type": "code",
   "execution_count": 1,
   "metadata": {
    "id": "pW9JUUgC-mBU"
   },
   "outputs": [],
   "source": [
    "import cv2 as cv\n",
    "import matplotlib.pyplot as plt\n",
    "import pandas as pd\n",
    "import numpy as np\n",
    "import os\n",
    "from collections import Counter \n",
    "import random"
   ]
  },
  {
   "cell_type": "markdown",
   "metadata": {
    "id": "W_Ay9LVKXxyD"
   },
   "source": [
    "#Data for Point 1\n",
    "\n",
    "\n",
    "The folder structure must be:</br>\n",
    "path -> Sample000</br>\n",
    "        ->img000-001.png</BR>\n",
    "        ->img000-002.png</BR>\n",
    "        .....</BR>\n",
    "     -> Sample001</br>\n",
    "        ->img001-001.png</BR>\n",
    "        ->img001-002.png</BR>\n",
    "        .....</BR>\n",
    "     .....</br>\n",
    "     .....</br>\n",
    "     -> Sample062</br>\n",
    "\n",
    "\n",
    "The folder name, for example Sample042 will be used to detect the label 42.\n",
    "\n",
    "Please modify \n"
   ]
  },
  {
   "cell_type": "code",
   "execution_count": null,
   "metadata": {
    "id": "aQ2wwopt2NMm"
   },
   "outputs": [],
   "source": [
    "# Point 1's data is accessed via the zip file stored in the drive\n",
    "# This zip file is transferred to the disk of the google colab, \n",
    "# because accessing it from the disk directly is faster than\n",
    "# accessing the images from the drive\n",
    "\n",
    "# Link to the zip file: https://drive.google.com/file/d/1g4dHphWLCX1PisdXacrfw8kdn7MGoxv5/view?usp=sharing\n",
    "!cp -r \"/content/drive/MyDrive/MIDAS/Point1/train.zip\" \"/content/train.zip\" \n",
    "!unzip train.zip"
   ]
  },
  {
   "cell_type": "code",
   "execution_count": 9,
   "metadata": {
    "id": "U9j0CpSb8UO_"
   },
   "outputs": [],
   "source": [
    "path = \"path_to/MIDAS/Notebooks/train\""
   ]
  },
  {
   "cell_type": "code",
   "execution_count": 10,
   "metadata": {},
   "outputs": [
    {
     "data": {
      "text/html": [
       "<div>\n",
       "<style scoped>\n",
       "    .dataframe tbody tr th:only-of-type {\n",
       "        vertical-align: middle;\n",
       "    }\n",
       "\n",
       "    .dataframe tbody tr th {\n",
       "        vertical-align: top;\n",
       "    }\n",
       "\n",
       "    .dataframe thead th {\n",
       "        text-align: right;\n",
       "    }\n",
       "</style>\n",
       "<table border=\"1\" class=\"dataframe\">\n",
       "  <thead>\n",
       "    <tr style=\"text-align: right;\">\n",
       "      <th></th>\n",
       "      <th>FilePath</th>\n",
       "      <th>Label</th>\n",
       "    </tr>\n",
       "  </thead>\n",
       "  <tbody>\n",
       "    <tr>\n",
       "      <th>0</th>\n",
       "      <td>path_to/MIDAS/Notebooks/train/img051-044.png</td>\n",
       "      <td>50</td>\n",
       "    </tr>\n",
       "    <tr>\n",
       "      <th>1</th>\n",
       "      <td>path_to/MIDAS/Notebooks/train/img051-050.png</td>\n",
       "      <td>50</td>\n",
       "    </tr>\n",
       "    <tr>\n",
       "      <th>2</th>\n",
       "      <td>path_to/MIDAS/Notebooks/train/img051-051.png</td>\n",
       "      <td>50</td>\n",
       "    </tr>\n",
       "    <tr>\n",
       "      <th>3</th>\n",
       "      <td>path_to/MIDAS/Notebooks/train/img051-045.png</td>\n",
       "      <td>50</td>\n",
       "    </tr>\n",
       "    <tr>\n",
       "      <th>4</th>\n",
       "      <td>path_to/MIDAS/Notebooks/train/img051-053.png</td>\n",
       "      <td>50</td>\n",
       "    </tr>\n",
       "  </tbody>\n",
       "</table>\n",
       "</div>"
      ],
      "text/plain": [
       "                                       FilePath Label\n",
       "0  path_to/MIDAS/Notebooks/train/img051-044.png    50\n",
       "1  path_to/MIDAS/Notebooks/train/img051-050.png    50\n",
       "2  path_to/MIDAS/Notebooks/train/img051-051.png    50\n",
       "3  path_to/MIDAS/Notebooks/train/img051-045.png    50\n",
       "4  path_to/MIDAS/Notebooks/train/img051-053.png    50"
      ]
     },
     "execution_count": 10,
     "metadata": {},
     "output_type": "execute_result"
    }
   ],
   "source": [
    "df = pd.DataFrame(columns=['FilePath', 'Label'])\n",
    "i = 0\n",
    "for (root,dirs,files) in os.walk(path, topdown=True):\n",
    "    if i == 0:\n",
    "      i = 1\n",
    "      continue\n",
    "\n",
    "    #print(root)\n",
    "    files_path = [root + '/' + i for i in files] #Appropriate path of root to be added before the image filepath\n",
    "    label = [int(root[-2:]) - 1] * len(files_path) #Sample042 -> 42\n",
    "\n",
    "    x = pd.DataFrame(list(zip(files_path, label)), columns=['FilePath', 'Label'])\n",
    "    df = df.append(x)\n",
    "\n",
    "df.head()"
   ]
  },
  {
   "cell_type": "code",
   "execution_count": null,
   "metadata": {
    "colab": {
     "base_uri": "https://localhost:8080/"
    },
    "executionInfo": {
     "elapsed": 986,
     "status": "ok",
     "timestamp": 1617561359826,
     "user": {
      "displayName": "Saloni Parekh",
      "photoUrl": "https://lh3.googleusercontent.com/a-/AOh14GigRkAeLdguHD8uTdcYmYuJQbGjVOo7H6xoSpvg1w=s64",
      "userId": "13474740441446535544"
     },
     "user_tz": -330
    },
    "id": "QFDV7hLkCoHh",
    "outputId": "331974d8-041b-41cd-bed1-2679642a6fd0"
   },
   "outputs": [
    {
     "data": {
      "text/plain": [
       "31    50\n",
       "60    48\n",
       "56    42\n",
       "22    40\n",
       "17    40\n",
       "      ..\n",
       "36    40\n",
       "35    40\n",
       "34    40\n",
       "33    40\n",
       "1     40\n",
       "Name: Label, Length: 62, dtype: int64"
      ]
     },
     "execution_count": 45,
     "metadata": {
      "tags": []
     },
     "output_type": "execute_result"
    }
   ],
   "source": [
    "df['Label'].value_counts()"
   ]
  },
  {
   "cell_type": "code",
   "execution_count": null,
   "metadata": {
    "colab": {
     "base_uri": "https://localhost:8080/"
    },
    "executionInfo": {
     "elapsed": 1051,
     "status": "ok",
     "timestamp": 1617561135016,
     "user": {
      "displayName": "Saloni Parekh",
      "photoUrl": "https://lh3.googleusercontent.com/a-/AOh14GigRkAeLdguHD8uTdcYmYuJQbGjVOo7H6xoSpvg1w=s64",
      "userId": "13474740441446535544"
     },
     "user_tz": -330
    },
    "id": "qxn8HASQ-s90",
    "outputId": "b636e0f2-d17b-425b-f940-5683a495c2ff"
   },
   "outputs": [
    {
     "data": {
      "text/plain": [
       "(2500, 2)"
      ]
     },
     "execution_count": 43,
     "metadata": {
      "tags": []
     },
     "output_type": "execute_result"
    }
   ],
   "source": [
    "df.shape"
   ]
  },
  {
   "cell_type": "code",
   "execution_count": null,
   "metadata": {
    "id": "OlLBO0PQK5FC"
   },
   "outputs": [],
   "source": [
    "df.to_csv(\"path_to/MIDAS/Notebooks/Point1/pointOne_cpath.csv\", index=None) "
   ]
  },
  {
   "cell_type": "code",
   "execution_count": null,
   "metadata": {
    "colab": {
     "base_uri": "https://localhost:8080/",
     "height": 204
    },
    "executionInfo": {
     "elapsed": 717,
     "status": "ok",
     "timestamp": 1617566960508,
     "user": {
      "displayName": "Saloni Parekh",
      "photoUrl": "https://lh3.googleusercontent.com/a-/AOh14GigRkAeLdguHD8uTdcYmYuJQbGjVOo7H6xoSpvg1w=s64",
      "userId": "13474740441446535544"
     },
     "user_tz": -330
    },
    "id": "0Qb6vTNRLHga",
    "outputId": "ed2b8daa-b881-4aae-9752-e65253c1e78b"
   },
   "outputs": [
    {
     "data": {
      "text/html": [
       "<div>\n",
       "<style scoped>\n",
       "    .dataframe tbody tr th:only-of-type {\n",
       "        vertical-align: middle;\n",
       "    }\n",
       "\n",
       "    .dataframe tbody tr th {\n",
       "        vertical-align: top;\n",
       "    }\n",
       "\n",
       "    .dataframe thead th {\n",
       "        text-align: right;\n",
       "    }\n",
       "</style>\n",
       "<table border=\"1\" class=\"dataframe\">\n",
       "  <thead>\n",
       "    <tr style=\"text-align: right;\">\n",
       "      <th></th>\n",
       "      <th>FilePath</th>\n",
       "      <th>Label</th>\n",
       "    </tr>\n",
       "  </thead>\n",
       "  <tbody>\n",
       "    <tr>\n",
       "      <th>0</th>\n",
       "      <td>/content/train/Sample061/img061-047.png</td>\n",
       "      <td>60</td>\n",
       "    </tr>\n",
       "    <tr>\n",
       "      <th>1</th>\n",
       "      <td>/content/train/Sample061/img061-008.png</td>\n",
       "      <td>60</td>\n",
       "    </tr>\n",
       "    <tr>\n",
       "      <th>2</th>\n",
       "      <td>/content/train/Sample061/img061-050.png</td>\n",
       "      <td>60</td>\n",
       "    </tr>\n",
       "    <tr>\n",
       "      <th>3</th>\n",
       "      <td>/content/train/Sample061/img061-014.png</td>\n",
       "      <td>60</td>\n",
       "    </tr>\n",
       "    <tr>\n",
       "      <th>4</th>\n",
       "      <td>/content/train/Sample061/img061-004.png</td>\n",
       "      <td>60</td>\n",
       "    </tr>\n",
       "  </tbody>\n",
       "</table>\n",
       "</div>"
      ],
      "text/plain": [
       "                                  FilePath  Label\n",
       "0  /content/train/Sample061/img061-047.png     60\n",
       "1  /content/train/Sample061/img061-008.png     60\n",
       "2  /content/train/Sample061/img061-050.png     60\n",
       "3  /content/train/Sample061/img061-014.png     60\n",
       "4  /content/train/Sample061/img061-004.png     60"
      ]
     },
     "execution_count": 118,
     "metadata": {
      "tags": []
     },
     "output_type": "execute_result"
    }
   ],
   "source": [
    "df = pd.read_csv(\"path_to/MIDAS/Notebooks/Point1/pointOne_cpath.csv\")\n",
    "df.head()"
   ]
  },
  {
   "cell_type": "code",
   "execution_count": null,
   "metadata": {
    "colab": {
     "base_uri": "https://localhost:8080/"
    },
    "executionInfo": {
     "elapsed": 1021,
     "status": "ok",
     "timestamp": 1617566962888,
     "user": {
      "displayName": "Saloni Parekh",
      "photoUrl": "https://lh3.googleusercontent.com/a-/AOh14GigRkAeLdguHD8uTdcYmYuJQbGjVOo7H6xoSpvg1w=s64",
      "userId": "13474740441446535544"
     },
     "user_tz": -330
    },
    "id": "kBugkLiISXti",
    "outputId": "0e65f2d4-1ca0-4b19-fc60-ab7fbda58686"
   },
   "outputs": [
    {
     "data": {
      "text/plain": [
       "(2500, 2)"
      ]
     },
     "execution_count": 119,
     "metadata": {
      "tags": []
     },
     "output_type": "execute_result"
    }
   ],
   "source": [
    "#df['Label'] = df['Label'] - 1\n",
    "df.shape"
   ]
  },
  {
   "cell_type": "code",
   "execution_count": null,
   "metadata": {
    "colab": {
     "base_uri": "https://localhost:8080/",
     "height": 204
    },
    "executionInfo": {
     "elapsed": 960,
     "status": "ok",
     "timestamp": 1617564764392,
     "user": {
      "displayName": "Saloni Parekh",
      "photoUrl": "https://lh3.googleusercontent.com/a-/AOh14GigRkAeLdguHD8uTdcYmYuJQbGjVOo7H6xoSpvg1w=s64",
      "userId": "13474740441446535544"
     },
     "user_tz": -330
    },
    "id": "p8Kq1KEtScHR",
    "outputId": "c96f012b-6fc7-4535-a63f-b566d1335f8b"
   },
   "outputs": [
    {
     "data": {
      "text/html": [
       "<div>\n",
       "<style scoped>\n",
       "    .dataframe tbody tr th:only-of-type {\n",
       "        vertical-align: middle;\n",
       "    }\n",
       "\n",
       "    .dataframe tbody tr th {\n",
       "        vertical-align: top;\n",
       "    }\n",
       "\n",
       "    .dataframe thead th {\n",
       "        text-align: right;\n",
       "    }\n",
       "</style>\n",
       "<table border=\"1\" class=\"dataframe\">\n",
       "  <thead>\n",
       "    <tr style=\"text-align: right;\">\n",
       "      <th></th>\n",
       "      <th>FilePath</th>\n",
       "      <th>Label</th>\n",
       "    </tr>\n",
       "  </thead>\n",
       "  <tbody>\n",
       "    <tr>\n",
       "      <th>35</th>\n",
       "      <td>/content/train/Sample012/img012-013.png</td>\n",
       "      <td>11</td>\n",
       "    </tr>\n",
       "    <tr>\n",
       "      <th>36</th>\n",
       "      <td>/content/train/Sample012/img012-025.png</td>\n",
       "      <td>11</td>\n",
       "    </tr>\n",
       "    <tr>\n",
       "      <th>37</th>\n",
       "      <td>/content/train/Sample012/img012-026.png</td>\n",
       "      <td>11</td>\n",
       "    </tr>\n",
       "    <tr>\n",
       "      <th>38</th>\n",
       "      <td>/content/train/Sample012/img012-001.png</td>\n",
       "      <td>11</td>\n",
       "    </tr>\n",
       "    <tr>\n",
       "      <th>39</th>\n",
       "      <td>/content/train/Sample012/img012-011.png</td>\n",
       "      <td>11</td>\n",
       "    </tr>\n",
       "  </tbody>\n",
       "</table>\n",
       "</div>"
      ],
      "text/plain": [
       "                                   FilePath Label\n",
       "35  /content/train/Sample012/img012-013.png    11\n",
       "36  /content/train/Sample012/img012-025.png    11\n",
       "37  /content/train/Sample012/img012-026.png    11\n",
       "38  /content/train/Sample012/img012-001.png    11\n",
       "39  /content/train/Sample012/img012-011.png    11"
      ]
     },
     "execution_count": 95,
     "metadata": {
      "tags": []
     },
     "output_type": "execute_result"
    }
   ],
   "source": [
    "df.tail()"
   ]
  },
  {
   "cell_type": "code",
   "execution_count": null,
   "metadata": {
    "id": "eAG-cyIOdqhc"
   },
   "outputs": [],
   "source": [
    "fp = list(df['FilePath'])\n",
    "print(len(fp))\n",
    "count = 0\n",
    "for i in fp:\n",
    "  if '(1)' in i:\n",
    "    print(i)\n",
    "    count = count + 1\n",
    "    print(count)\n"
   ]
  },
  {
   "cell_type": "code",
   "execution_count": null,
   "metadata": {
    "colab": {
     "base_uri": "https://localhost:8080/"
    },
    "executionInfo": {
     "elapsed": 1257,
     "status": "ok",
     "timestamp": 1617566976129,
     "user": {
      "displayName": "Saloni Parekh",
      "photoUrl": "https://lh3.googleusercontent.com/a-/AOh14GigRkAeLdguHD8uTdcYmYuJQbGjVOo7H6xoSpvg1w=s64",
      "userId": "13474740441446535544"
     },
     "user_tz": -330
    },
    "id": "PgXCxNy6etOn",
    "outputId": "37f7b318-8e29-436a-87f6-8062d3186826"
   },
   "outputs": [
    {
     "data": {
      "text/plain": [
       "(2480, 2)"
      ]
     },
     "execution_count": 120,
     "metadata": {
      "tags": []
     },
     "output_type": "execute_result"
    }
   ],
   "source": [
    "df = df[~df['FilePath'].str.contains('\\(1\\)')]\n",
    "df.shape"
   ]
  },
  {
   "cell_type": "code",
   "execution_count": null,
   "metadata": {
    "colab": {
     "base_uri": "https://localhost:8080/",
     "height": 286
    },
    "executionInfo": {
     "elapsed": 1976,
     "status": "ok",
     "timestamp": 1617562913604,
     "user": {
      "displayName": "Saloni Parekh",
      "photoUrl": "https://lh3.googleusercontent.com/a-/AOh14GigRkAeLdguHD8uTdcYmYuJQbGjVOo7H6xoSpvg1w=s64",
      "userId": "13474740441446535544"
     },
     "user_tz": -330
    },
    "id": "g-Iv8l18LQ1y",
    "outputId": "727ae55c-f152-40bf-dbe1-33b0900f5a66"
   },
   "outputs": [
    {
     "data": {
      "text/plain": [
       "<matplotlib.image.AxesImage at 0x7f6546cb1e50>"
      ]
     },
     "execution_count": 78,
     "metadata": {
      "tags": []
     },
     "output_type": "execute_result"
    },
    {
     "data": {
      "image/png": "[encoded data removed]",
      "text/plain": [
       "<Figure size 432x288 with 1 Axes>"
      ]
     },
     "metadata": {
      "needs_background": "light",
      "tags": []
     },
     "output_type": "display_data"
    }
   ],
   "source": [
    "import matplotlib.pyplot as plt\n",
    "\n",
    "image1 = cv.imread('path_to/MIDAS/Notebooks/train/Sample002/img002-001.png', cv.IMREAD_GRAYSCALE)\n",
    "plt.imshow(image1, cmap=\"gray\")"
   ]
  },
  {
   "cell_type": "code",
   "execution_count": null,
   "metadata": {
    "id": "_xJuBvrGcU3m"
   },
   "outputs": [],
   "source": []
  },
  {
   "cell_type": "markdown",
   "metadata": {
    "id": "1EHVanAQC-Wo"
   },
   "source": [
    "#Point 2\n",
    "\n",
    "The folders taken into consideration must be 001 to 009"
   ]
  },
  {
   "cell_type": "code",
   "execution_count": null,
   "metadata": {
    "id": "AveT5LlKDFrQ"
   },
   "outputs": [],
   "source": [
    "sum = 0\n",
    "for (root,dirs,files) in os.walk(path, topdown=True):\n",
    "  for i in lt:\n",
    "    if i in root:\n",
    "      print(root)\n",
    "    #print(len(files))\n",
    "      sum += len(files)\n",
    "\n",
    "print(sum)"
   ]
  },
  {
   "cell_type": "code",
   "execution_count": 12,
   "metadata": {
    "colab": {
     "base_uri": "https://localhost:8080/",
     "height": 357
    },
    "executionInfo": {
     "elapsed": 1792,
     "status": "ok",
     "timestamp": 1617727253217,
     "user": {
      "displayName": "Saloni Parekh",
      "photoUrl": "https://lh3.googleusercontent.com/a-/AOh14GigRkAeLdguHD8uTdcYmYuJQbGjVOo7H6xoSpvg1w=s64",
      "userId": "13474740441446535544"
     },
     "user_tz": -330
    },
    "id": "DDr2saubDW5Q",
    "outputId": "39ef922e-ae87-4f5c-e3e1-2aa5c0df6494"
   },
   "outputs": [
    {
     "name": "stdout",
     "output_type": "stream",
     "text": [
      "/Users/saloniparekh/Documents/Career/Data Science/MIDAS/Notebooks/train/Sample002\n",
      "/Users/saloniparekh/Documents/Career/Data Science/MIDAS/Notebooks/train/Sample005\n",
      "/Users/saloniparekh/Documents/Career/Data Science/MIDAS/Notebooks/train/Sample004\n",
      "/Users/saloniparekh/Documents/Career/Data Science/MIDAS/Notebooks/train/Sample003\n",
      "/Users/saloniparekh/Documents/Career/Data Science/MIDAS/Notebooks/train/Sample008\n",
      "/Users/saloniparekh/Documents/Career/Data Science/MIDAS/Notebooks/train/Sample006\n",
      "/Users/saloniparekh/Documents/Career/Data Science/MIDAS/Notebooks/train/Sample001\n",
      "/Users/saloniparekh/Documents/Career/Data Science/MIDAS/Notebooks/train/Sample007\n",
      "/Users/saloniparekh/Documents/Career/Data Science/MIDAS/Notebooks/train/Sample009\n"
     ]
    },
    {
     "data": {
      "text/html": [
       "<div>\n",
       "<style scoped>\n",
       "    .dataframe tbody tr th:only-of-type {\n",
       "        vertical-align: middle;\n",
       "    }\n",
       "\n",
       "    .dataframe tbody tr th {\n",
       "        vertical-align: top;\n",
       "    }\n",
       "\n",
       "    .dataframe thead th {\n",
       "        text-align: right;\n",
       "    }\n",
       "</style>\n",
       "<table border=\"1\" class=\"dataframe\">\n",
       "  <thead>\n",
       "    <tr style=\"text-align: right;\">\n",
       "      <th></th>\n",
       "      <th>FilePath</th>\n",
       "      <th>Label</th>\n",
       "    </tr>\n",
       "  </thead>\n",
       "  <tbody>\n",
       "    <tr>\n",
       "      <th>0</th>\n",
       "      <td>/Users/saloniparekh/Documents/Career/Data Scie...</td>\n",
       "      <td>2</td>\n",
       "    </tr>\n",
       "    <tr>\n",
       "      <th>1</th>\n",
       "      <td>/Users/saloniparekh/Documents/Career/Data Scie...</td>\n",
       "      <td>2</td>\n",
       "    </tr>\n",
       "    <tr>\n",
       "      <th>2</th>\n",
       "      <td>/Users/saloniparekh/Documents/Career/Data Scie...</td>\n",
       "      <td>2</td>\n",
       "    </tr>\n",
       "    <tr>\n",
       "      <th>3</th>\n",
       "      <td>/Users/saloniparekh/Documents/Career/Data Scie...</td>\n",
       "      <td>2</td>\n",
       "    </tr>\n",
       "    <tr>\n",
       "      <th>4</th>\n",
       "      <td>/Users/saloniparekh/Documents/Career/Data Scie...</td>\n",
       "      <td>2</td>\n",
       "    </tr>\n",
       "  </tbody>\n",
       "</table>\n",
       "</div>"
      ],
      "text/plain": [
       "                                            FilePath Label\n",
       "0  /Users/saloniparekh/Documents/Career/Data Scie...     2\n",
       "1  /Users/saloniparekh/Documents/Career/Data Scie...     2\n",
       "2  /Users/saloniparekh/Documents/Career/Data Scie...     2\n",
       "3  /Users/saloniparekh/Documents/Career/Data Scie...     2\n",
       "4  /Users/saloniparekh/Documents/Career/Data Scie...     2"
      ]
     },
     "execution_count": 12,
     "metadata": {},
     "output_type": "execute_result"
    }
   ],
   "source": [
    "df = pd.DataFrame(columns=['FilePath', 'Label'])\n",
    "lt = ['000', '001', '002', '003', '004', '005', '006', '007', '008', '009']\n",
    "\n",
    "check = 0\n",
    "for (root,dirs,files) in os.walk(path, topdown=True):\n",
    "    if check == 0:\n",
    "      check = 1\n",
    "      continue\n",
    "\n",
    "    for i in lt:\n",
    "      if i in root:\n",
    "        print(root)\n",
    "        files_path = [path + '/' + i for i in files]\n",
    "        label = [int(root[-2:])] * len(files_path)\n",
    "\n",
    "        x = pd.DataFrame(list(zip(files_path, label)), columns=['FilePath', 'Label'])\n",
    "        df = df.append(x)\n",
    "\n",
    "df.head()"
   ]
  },
  {
   "cell_type": "code",
   "execution_count": null,
   "metadata": {
    "colab": {
     "base_uri": "https://localhost:8080/"
    },
    "executionInfo": {
     "elapsed": 1913,
     "status": "ok",
     "timestamp": 1617727262599,
     "user": {
      "displayName": "Saloni Parekh",
      "photoUrl": "https://lh3.googleusercontent.com/a-/AOh14GigRkAeLdguHD8uTdcYmYuJQbGjVOo7H6xoSpvg1w=s64",
      "userId": "13474740441446535544"
     },
     "user_tz": -330
    },
    "id": "Z1_fnyk8Dqyc",
    "outputId": "092b629f-4311-46cf-e93d-22c44e743908"
   },
   "outputs": [
    {
     "data": {
      "text/plain": [
       "(360, 2)"
      ]
     },
     "execution_count": 11,
     "metadata": {
      "tags": []
     },
     "output_type": "execute_result"
    }
   ],
   "source": [
    "df.shape"
   ]
  },
  {
   "cell_type": "code",
   "execution_count": null,
   "metadata": {
    "id": "nsUx_71cDwWW"
   },
   "outputs": [],
   "source": [
    "df.to_csv(\"path_to/MIDAS/Notebooks/Point2/one_to_ten.csv\", index=None)"
   ]
  },
  {
   "cell_type": "code",
   "execution_count": null,
   "metadata": {
    "id": "DtpxGzc0EJvn"
   },
   "outputs": [],
   "source": []
  },
  {
   "cell_type": "markdown",
   "metadata": {
    "id": "3rXafZtzHxZQ"
   },
   "source": [
    "#Point 3\n",
    "\n",
    "#Data for Point 1\n",
    "\n",
    "\n",
    "The folder structure must be:</br>\n",
    "path -> 0</br>\n",
    "     -> 1</br>\n",
    "     .....</br>\n",
    "     .....</br>\n",
    "     -> 9</br>\n",
    "\n"
   ]
  },
  {
   "cell_type": "code",
   "execution_count": null,
   "metadata": {
    "id": "K-pAo_8ZHygb"
   },
   "outputs": [],
   "source": [
    "#Link for mnistTask.zip: https://drive.google.com/file/d/1bWjl661Kk3xa8MmdXKHAwsr48080LaQG/view?usp=sharing\n",
    "!cp -r \"/content/drive/MyDrive/MIDAS/Point3/mnistTask.zip\" \"/content/mnistTask.zip\"\n",
    "!unzip mnistTask.zip"
   ]
  },
  {
   "cell_type": "code",
   "execution_count": null,
   "metadata": {
    "colab": {
     "base_uri": "https://localhost:8080/"
    },
    "executionInfo": {
     "elapsed": 1158,
     "status": "ok",
     "timestamp": 1617862719115,
     "user": {
      "displayName": "Saloni Parekh",
      "photoUrl": "https://lh3.googleusercontent.com/a-/AOh14GigRkAeLdguHD8uTdcYmYuJQbGjVOo7H6xoSpvg1w=s64",
      "userId": "13474740441446535544"
     },
     "user_tz": -330
    },
    "id": "R6bO6M64H8bv",
    "outputId": "472bebbe-12ab-4483-c277-2d33c54dfd10"
   },
   "outputs": [
    {
     "name": "stdout",
     "output_type": "stream",
     "text": [
      "/content/mnistTask\n",
      "0\n",
      "/content/mnistTask/7\n",
      "5954\n",
      "/content/mnistTask/4\n",
      "5914\n",
      "/content/mnistTask/8\n",
      "6129\n",
      "/content/mnistTask/2\n",
      "6009\n",
      "/content/mnistTask/0\n",
      "5980\n",
      "/content/mnistTask/1\n",
      "5807\n",
      "/content/mnistTask/5\n",
      "6139\n",
      "/content/mnistTask/3\n",
      "6037\n",
      "/content/mnistTask/9\n",
      "5994\n",
      "/content/mnistTask/6\n",
      "6037\n",
      "60000\n"
     ]
    }
   ],
   "source": [
    "path = \"path_to/MIDAS/Notebooks/mnistTask\" #Path to unzipped folder with images\n",
    "sum = 0\n",
    "\n",
    "for (root,dirs,files) in os.walk(path, topdown=True):\n",
    "    print(root)\n",
    "    print(len(files))\n",
    "    #print(len(files))\n",
    "    sum += len(files)\n",
    "\n",
    "print(sum)"
   ]
  },
  {
   "cell_type": "code",
   "execution_count": null,
   "metadata": {
    "colab": {
     "base_uri": "https://localhost:8080/",
     "height": 37
    },
    "executionInfo": {
     "elapsed": 1074,
     "status": "ok",
     "timestamp": 1617862798450,
     "user": {
      "displayName": "Saloni Parekh",
      "photoUrl": "https://lh3.googleusercontent.com/a-/AOh14GigRkAeLdguHD8uTdcYmYuJQbGjVOo7H6xoSpvg1w=s64",
      "userId": "13474740441446535544"
     },
     "user_tz": -330
    },
    "id": "YQQ5rM99IuvZ",
    "outputId": "cea339ef-5a99-4b54-b0b7-7a2a2cab01e0"
   },
   "outputs": [
    {
     "data": {
      "application/vnd.google.colaboratory.intrinsic+json": {
       "type": "string"
      },
      "text/plain": [
       "'6'"
      ]
     },
     "execution_count": 8,
     "metadata": {
      "tags": []
     },
     "output_type": "execute_result"
    }
   ],
   "source": [
    "root[-1:]"
   ]
  },
  {
   "cell_type": "code",
   "execution_count": 13,
   "metadata": {
    "colab": {
     "base_uri": "https://localhost:8080/",
     "height": 204
    },
    "executionInfo": {
     "elapsed": 2343,
     "status": "ok",
     "timestamp": 1617863741749,
     "user": {
      "displayName": "Saloni Parekh",
      "photoUrl": "https://lh3.googleusercontent.com/a-/AOh14GigRkAeLdguHD8uTdcYmYuJQbGjVOo7H6xoSpvg1w=s64",
      "userId": "13474740441446535544"
     },
     "user_tz": -330
    },
    "id": "b1uGUf2UIclF",
    "outputId": "53e8893c-310e-41f4-b99e-1d39e8eddf60"
   },
   "outputs": [
    {
     "data": {
      "text/html": [
       "<div>\n",
       "<style scoped>\n",
       "    .dataframe tbody tr th:only-of-type {\n",
       "        vertical-align: middle;\n",
       "    }\n",
       "\n",
       "    .dataframe tbody tr th {\n",
       "        vertical-align: top;\n",
       "    }\n",
       "\n",
       "    .dataframe thead th {\n",
       "        text-align: right;\n",
       "    }\n",
       "</style>\n",
       "<table border=\"1\" class=\"dataframe\">\n",
       "  <thead>\n",
       "    <tr style=\"text-align: right;\">\n",
       "      <th></th>\n",
       "      <th>FilePath</th>\n",
       "      <th>Label</th>\n",
       "    </tr>\n",
       "  </thead>\n",
       "  <tbody>\n",
       "    <tr>\n",
       "      <th>0</th>\n",
       "      <td>/Users/saloniparekh/Documents/Career/Data Scie...</td>\n",
       "      <td>9</td>\n",
       "    </tr>\n",
       "    <tr>\n",
       "      <th>1</th>\n",
       "      <td>/Users/saloniparekh/Documents/Career/Data Scie...</td>\n",
       "      <td>9</td>\n",
       "    </tr>\n",
       "    <tr>\n",
       "      <th>2</th>\n",
       "      <td>/Users/saloniparekh/Documents/Career/Data Scie...</td>\n",
       "      <td>9</td>\n",
       "    </tr>\n",
       "    <tr>\n",
       "      <th>3</th>\n",
       "      <td>/Users/saloniparekh/Documents/Career/Data Scie...</td>\n",
       "      <td>9</td>\n",
       "    </tr>\n",
       "    <tr>\n",
       "      <th>4</th>\n",
       "      <td>/Users/saloniparekh/Documents/Career/Data Scie...</td>\n",
       "      <td>9</td>\n",
       "    </tr>\n",
       "  </tbody>\n",
       "</table>\n",
       "</div>"
      ],
      "text/plain": [
       "                                            FilePath Label\n",
       "0  /Users/saloniparekh/Documents/Career/Data Scie...     9\n",
       "1  /Users/saloniparekh/Documents/Career/Data Scie...     9\n",
       "2  /Users/saloniparekh/Documents/Career/Data Scie...     9\n",
       "3  /Users/saloniparekh/Documents/Career/Data Scie...     9\n",
       "4  /Users/saloniparekh/Documents/Career/Data Scie...     9"
      ]
     },
     "execution_count": 13,
     "metadata": {},
     "output_type": "execute_result"
    }
   ],
   "source": [
    "path = \"path_to/MIDAS/Notebooks/mnistTask\"\n",
    "df = pd.DataFrame(columns=['FilePath', 'Label'])\n",
    "i = 0\n",
    "for (root,dirs,files) in os.walk(path, topdown=True):\n",
    "    if i == 0:\n",
    "      i = 1\n",
    "      continue\n",
    "\n",
    "    #print(root)\n",
    "    files_path = [root + '/' + i for i in files] #Add appropriate file path before image filepath\n",
    "    label = [int(root[-1:])] * len(files_path) \n",
    "\n",
    "    x = pd.DataFrame(list(zip(files_path, label)), columns=['FilePath', 'Label'])\n",
    "    df = df.append(x)\n",
    "\n",
    "df.head()"
   ]
  },
  {
   "cell_type": "code",
   "execution_count": 15,
   "metadata": {},
   "outputs": [
    {
     "data": {
      "text/plain": [
       "'/Users/saloniparekh/Documents/Career/Data Science/MIDAS/Notebooks/mnistTask/9/image_051429.jpg'"
      ]
     },
     "execution_count": 15,
     "metadata": {},
     "output_type": "execute_result"
    }
   ],
   "source": [
    "df.iloc[0, 0]"
   ]
  },
  {
   "cell_type": "code",
   "execution_count": null,
   "metadata": {
    "colab": {
     "base_uri": "https://localhost:8080/"
    },
    "executionInfo": {
     "elapsed": 1166,
     "status": "ok",
     "timestamp": 1617863749559,
     "user": {
      "displayName": "Saloni Parekh",
      "photoUrl": "https://lh3.googleusercontent.com/a-/AOh14GigRkAeLdguHD8uTdcYmYuJQbGjVOo7H6xoSpvg1w=s64",
      "userId": "13474740441446535544"
     },
     "user_tz": -330
    },
    "id": "oF_heJoZI1C6",
    "outputId": "7ceaaf4d-5636-4f8d-908d-38a2050d043c"
   },
   "outputs": [
    {
     "data": {
      "text/plain": [
       "(60000, 2)"
      ]
     },
     "execution_count": 15,
     "metadata": {
      "tags": []
     },
     "output_type": "execute_result"
    }
   ],
   "source": [
    "df.shape"
   ]
  },
  {
   "cell_type": "code",
   "execution_count": null,
   "metadata": {
    "colab": {
     "base_uri": "https://localhost:8080/"
    },
    "executionInfo": {
     "elapsed": 1103,
     "status": "ok",
     "timestamp": 1617863749928,
     "user": {
      "displayName": "Saloni Parekh",
      "photoUrl": "https://lh3.googleusercontent.com/a-/AOh14GigRkAeLdguHD8uTdcYmYuJQbGjVOo7H6xoSpvg1w=s64",
      "userId": "13474740441446535544"
     },
     "user_tz": -330
    },
    "id": "ZXNphR2fI3Qa",
    "outputId": "ae35bb0e-5e45-4a4f-8945-10696dfe2e34"
   },
   "outputs": [
    {
     "data": {
      "text/plain": [
       "5    6139\n",
       "8    6129\n",
       "6    6037\n",
       "3    6037\n",
       "2    6009\n",
       "9    5994\n",
       "0    5980\n",
       "7    5954\n",
       "4    5914\n",
       "1    5807\n",
       "Name: Label, dtype: int64"
      ]
     },
     "execution_count": 16,
     "metadata": {
      "tags": []
     },
     "output_type": "execute_result"
    }
   ],
   "source": [
    "df['Label'].value_counts()"
   ]
  },
  {
   "cell_type": "code",
   "execution_count": null,
   "metadata": {
    "id": "t8kTbMvoI7Ep"
   },
   "outputs": [],
   "source": [
    "df.to_csv('path_to/MIDAS/Notebooks/Point3/dataset_p3.csv', index=None)"
   ]
  },
  {
   "cell_type": "code",
   "execution_count": null,
   "metadata": {
    "id": "rIGDv0FIJGjL"
   },
   "outputs": [],
   "source": []
  }
 ],
 "metadata": {
  "colab": {
   "authorship_tag": "ABX9TyMGcIs4UoVMc8wRWQBv1FAD",
   "collapsed_sections": [],
   "name": "DatasetCreation",
   "provenance": [],
   "toc_visible": true
  },
  "kernelspec": {
   "display_name": "Python 3",
   "language": "python",
   "name": "python3"
  },
  "language_info": {
   "codemirror_mode": {
    "name": "ipython",
    "version": 3
   },
   "file_extension": ".py",
   "mimetype": "text/x-python",
   "name": "python",
   "nbconvert_exporter": "python",
   "pygments_lexer": "ipython3",
   "version": "3.7.4"
  }
 },
 "nbformat": 4,
 "nbformat_minor": 1
}
