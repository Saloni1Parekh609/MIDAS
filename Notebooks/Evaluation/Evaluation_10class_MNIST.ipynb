{
  "nbformat": 4,
  "nbformat_minor": 0,
  "metadata": {
    "colab": {
      "name": "Evaluation_10class_MNIST.ipynb",
      "provenance": [],
      "collapsed_sections": [],
      "toc_visible": true
    },
    "kernelspec": {
      "name": "python3",
      "display_name": "Python 3"
    },
    "language_info": {
      "name": "python"
    },
    "accelerator": "GPU"
  },
  "cells": [
    {
      "cell_type": "markdown",
      "metadata": {
        "id": "YHBgOTI50GQ3"
      },
      "source": [
        "#Evaluation\n",
        "-------\n",
        "\n",
        "The following types of datasets can be evaluated:\n",
        "MNIST Test Set\n",
        "\n"
      ]
    },
    {
      "cell_type": "code",
      "metadata": {
        "colab": {
          "base_uri": "https://localhost:8080/"
        },
        "id": "VXEKiI2j0B0s",
        "outputId": "9c64dae2-e53c-4141-9b89-32ebadca57a8"
      },
      "source": [
        "from google.colab import drive\n",
        "drive.mount('/content/drive')"
      ],
      "execution_count": null,
      "outputs": [
        {
          "output_type": "stream",
          "text": [
            "Mounted at /content/drive\n"
          ],
          "name": "stdout"
        }
      ]
    },
    {
      "cell_type": "code",
      "metadata": {
        "id": "LMrqU7lw0OK2"
      },
      "source": [
        "import numpy as np\n",
        "import torch\n",
        "import csv\n",
        "from torch import nn\n",
        "import pandas as pd\n",
        "import cv2 as cv\n",
        "from torch.utils.data import DataLoader, Dataset\n",
        "import matplotlib.pyplot as plt\n",
        "import torch.optim as optim\n",
        "import torch.nn.functional as F\n",
        "from sklearn.model_selection import train_test_split\n",
        "from torch.nn import Linear, ReLU, CrossEntropyLoss, Sequential, Conv2d, MaxPool2d, Module, Softmax, BatchNorm2d, Dropout, ZeroPad2d\n",
        "from torchvision import transforms, datasets\n",
        "import shutil\n",
        "from sklearn.metrics import auc, confusion_matrix, classification_report\n",
        "import seaborn as sns\n",
        "from scipy.optimize import brentq\n",
        "from scipy.interpolate import interp1d \n",
        "import random\n",
        "from pycm import *"
      ],
      "execution_count": null,
      "outputs": []
    },
    {
      "cell_type": "markdown",
      "metadata": {
        "id": "W53gY6Tv1PkP"
      },
      "source": [
        "#Data Preparation for MNIST Test Set\n"
      ]
    },
    {
      "cell_type": "code",
      "metadata": {
        "id": "Ff2IIRAP13gn"
      },
      "source": [
        "#All images are resized to 200 * 200 and have been normalized\n",
        "img_transform = transforms.Compose([\n",
        "        #transforms.ToPILImage(),\n",
        "        transforms.Resize((200, 200)),\n",
        "        transforms.ToTensor(),\n",
        "        transforms.Normalize((0.5, ), (0.5,))\n",
        "    ])"
      ],
      "execution_count": null,
      "outputs": []
    },
    {
      "cell_type": "code",
      "metadata": {
        "colab": {
          "base_uri": "https://localhost:8080/"
        },
        "id": "XP_rRi7z14So",
        "outputId": "34a281bd-b710-4e95-91e3-1db5bd76911b"
      },
      "source": [
        "#Please change below links accordingly\n",
        "testset = datasets.MNIST('/content/drive/MyDrive/MIDAS/Point2/MNIST', download=True, train=False, transform=img_transform)\n",
        "\n",
        "val_loader = torch.utils.data.DataLoader(testset, batch_size=64, shuffle=True)\n",
        "\n",
        "val_iter = iter(val_loader)\n",
        "images1, labels = val_iter.next()\n",
        "print('images shape on batch size = {}'.format(images1.size()))\n",
        "print('labels shape on batch size = {}'.format(labels.size()))"
      ],
      "execution_count": null,
      "outputs": [
        {
          "output_type": "stream",
          "text": [
            "images shape on batch size = torch.Size([64, 1, 200, 200])\n",
            "labels shape on batch size = torch.Size([64])\n"
          ],
          "name": "stdout"
        }
      ]
    },
    {
      "cell_type": "markdown",
      "metadata": {
        "id": "Yig3WXFM10uI"
      },
      "source": [
        "#Evaluation\n"
      ]
    },
    {
      "cell_type": "code",
      "metadata": {
        "id": "T3UQ9Hag2Zip"
      },
      "source": [
        "class smallModel(nn.Module):\n",
        "  def __init__(self):\n",
        "    super(smallModel, self).__init__()\n",
        "    \n",
        "    self.zp1 = nn.ZeroPad2d(1)\n",
        "    self.conv1 = nn.Conv2d(1, 32, kernel_size=3, stride=1, padding=1)\n",
        "    self.mp1 = nn.MaxPool2d(kernel_size=2)\n",
        "    self.dp = nn.Dropout(p=0.3)\n",
        "\n",
        "    self.zp2 = nn.ZeroPad2d(1)\n",
        "    self.conv2 = nn.Conv2d(32, 64, kernel_size=3, stride=1, padding=1)\n",
        "    self.mp2 = nn.MaxPool2d(kernel_size=2)\n",
        "    #self.dp = nn.Dropout(p=0.3)\n",
        "\n",
        "    self.zp3 = nn.ZeroPad2d(1)\n",
        "    self.conv3 = nn.Conv2d(64, 128, kernel_size=3, stride=1, padding=1)\n",
        "    self.mp3 = nn.MaxPool2d(kernel_size=2)\n",
        "\n",
        "    self.conv4 = nn.Conv2d(128, 256, kernel_size=3, stride=1, padding=1)\n",
        "    self.mp4 = nn.MaxPool2d(kernel_size=2)\n",
        "\n",
        "    self.conv5 = nn.Conv2d(256, 512, kernel_size=3, stride=1, padding=1)\n",
        "    self.mp5 = nn.MaxPool2d(kernel_size=2)\n",
        "\n",
        "    self.encoder_layer = nn.TransformerEncoderLayer(d_model=512, nhead=8)\n",
        "    self.transformer_encoder = nn.TransformerEncoder(self.encoder_layer, num_layers=3)\n",
        "\n",
        "    self.relu = nn.ReLU()\n",
        "\n",
        "    self.fc1 = nn.Linear(512 * 6 * 6, 9216)\n",
        "    self.fc2 = nn.Linear(9216, 4096)\n",
        "    self.fc3 = nn.Linear(4096, 1024)\n",
        "    self.fc4 = nn.Linear(512 * 6 * 6, 10)\n",
        "\n",
        "    self.row_emb = nn.Parameter(torch.rand(64, 512 // 2))\n",
        "    self.col_emb = nn.Parameter(torch.rand(64, 512 // 2))\n",
        "\n",
        "  def forward(self, x):\n",
        "    x = self.dp(self.relu(self.conv1(x)))\n",
        "    x = self.mp1(x)\n",
        "\n",
        "    x = self.dp(self.relu(self.conv2(x)))\n",
        "    x = self.mp2(x)\n",
        "\n",
        "    x = self.dp(self.relu(self.conv3(x)))\n",
        "    x = self.mp3(x)\n",
        "\n",
        "    x = self.dp(self.relu(self.conv4(x)))\n",
        "    x = self.mp4(x)\n",
        "\n",
        "    x = self.dp(self.relu(self.conv5(x)))\n",
        "    x = self.mp5(x)\n",
        "\n",
        "    H = x.shape[-1]\n",
        "    W = x.shape[-2]\n",
        "    pos = torch.cat([self.col_emb[:W].unsqueeze(0).repeat(H, 1, 1), self.row_emb[:H].unsqueeze(1).repeat(1, W, 1),], dim=-1).flatten(0, 1).unsqueeze(1)\n",
        "\n",
        "    x = x.flatten(2).permute(2, 0, 1)\n",
        "\n",
        "    x = self.transformer_encoder(pos + x)\n",
        "\n",
        "    x = x.permute(1, 2, 0)\n",
        "    x = torch.reshape(x, ((x.shape)[0], 512 * 36))\n",
        "\n",
        "    #x = self.relu(self.fc1(x))\n",
        "    #x = self.relu(self.fc2(x))\n",
        "    #x = self.relu(self.fc3(x))\n",
        "    x = self.fc4(x)\n",
        "  \n",
        "    return x"
      ],
      "execution_count": null,
      "outputs": []
    },
    {
      "cell_type": "code",
      "metadata": {
        "colab": {
          "base_uri": "https://localhost:8080/"
        },
        "id": "3TMRGL8v00MQ",
        "outputId": "cbc99565-d162-4328-f358-40a702c662e8"
      },
      "source": [
        "device = torch.device(\"cuda\" if torch.cuda.is_available() else \"cpu\")\n",
        "model = smallModel().to(device)\n",
        "optimizer = optim.Adam(model.parameters(), lr=0.0001, weight_decay = 1e-4)\n",
        "\n",
        "checkpoint = torch.load(\"/content/drive/MyDrive/MIDAS/Point3/finetuned_model.pt\")\n",
        "model.load_state_dict(checkpoint['model_state_dict'])\n",
        "optimizer.load_state_dict(checkpoint['optimizer_state_dict'])\n",
        "epoch_last = checkpoint['epoch']\n",
        "loss = checkpoint['loss']\n",
        "\n",
        "print(loss)\n",
        "print(epoch_last)"
      ],
      "execution_count": null,
      "outputs": [
        {
          "output_type": "stream",
          "text": [
            "tensor(2.1597, device='cuda:0', requires_grad=True)\n",
            "20\n"
          ],
          "name": "stdout"
        }
      ]
    },
    {
      "cell_type": "code",
      "metadata": {
        "colab": {
          "base_uri": "https://localhost:8080/",
          "height": 204
        },
        "id": "y5s8X0qy8Fhr",
        "outputId": "444ed7b1-bb08-4246-e8bd-2c3c23b2397f"
      },
      "source": [
        "#Evaluation begins\n",
        "i = 0\n",
        "l1 = []\n",
        "l2 = []\n",
        "\n",
        "model.eval()\n",
        "#test_loader = DataLoader(valset, batch_size=1, shuffle=True)\n",
        "for batch, (img, target) in enumerate(val_loader):\n",
        "    img, target = img.to(device=device, dtype=torch.float), target.to(device=device, dtype=torch.long)\n",
        "\n",
        "    output = model(img)\n",
        "    \n",
        "    _,pred = torch.max(output, dim=1)\n",
        "    l1.append(pred.tolist())\n",
        "    l2.append(target.tolist())\n",
        "\n",
        "df = pd.DataFrame(columns=[\"Pred\", \"Target\"])\n",
        "l1 = [j for sub in l1 for j in sub]\n",
        "l2 = [j for sub in l2 for j in sub]\n",
        "df[\"Pred\"] = l1\n",
        "df[\"Target\"] = l2\n",
        "df.head()"
      ],
      "execution_count": null,
      "outputs": [
        {
          "output_type": "execute_result",
          "data": {
            "text/html": [
              "<div>\n",
              "<style scoped>\n",
              "    .dataframe tbody tr th:only-of-type {\n",
              "        vertical-align: middle;\n",
              "    }\n",
              "\n",
              "    .dataframe tbody tr th {\n",
              "        vertical-align: top;\n",
              "    }\n",
              "\n",
              "    .dataframe thead th {\n",
              "        text-align: right;\n",
              "    }\n",
              "</style>\n",
              "<table border=\"1\" class=\"dataframe\">\n",
              "  <thead>\n",
              "    <tr style=\"text-align: right;\">\n",
              "      <th></th>\n",
              "      <th>Pred</th>\n",
              "      <th>Target</th>\n",
              "    </tr>\n",
              "  </thead>\n",
              "  <tbody>\n",
              "    <tr>\n",
              "      <th>0</th>\n",
              "      <td>7</td>\n",
              "      <td>7</td>\n",
              "    </tr>\n",
              "    <tr>\n",
              "      <th>1</th>\n",
              "      <td>9</td>\n",
              "      <td>9</td>\n",
              "    </tr>\n",
              "    <tr>\n",
              "      <th>2</th>\n",
              "      <td>0</td>\n",
              "      <td>0</td>\n",
              "    </tr>\n",
              "    <tr>\n",
              "      <th>3</th>\n",
              "      <td>9</td>\n",
              "      <td>9</td>\n",
              "    </tr>\n",
              "    <tr>\n",
              "      <th>4</th>\n",
              "      <td>5</td>\n",
              "      <td>5</td>\n",
              "    </tr>\n",
              "  </tbody>\n",
              "</table>\n",
              "</div>"
            ],
            "text/plain": [
              "   Pred  Target\n",
              "0     7       7\n",
              "1     9       9\n",
              "2     0       0\n",
              "3     9       9\n",
              "4     5       5"
            ]
          },
          "metadata": {
            "tags": []
          },
          "execution_count": 19
        }
      ]
    },
    {
      "cell_type": "code",
      "metadata": {
        "id": "UQ5Ub66A8Gb2"
      },
      "source": [
        "y = np.array(df[\"Target\"])\n",
        "y_pred = np.array(df[\"Pred\"])"
      ],
      "execution_count": null,
      "outputs": []
    },
    {
      "cell_type": "code",
      "metadata": {
        "colab": {
          "base_uri": "https://localhost:8080/"
        },
        "id": "pXrl9_gR8I9V",
        "outputId": "991db076-9d9d-4297-8782-a5fdd2fa0bbc"
      },
      "source": [
        "print(\"Classification Report:\")\n",
        "print(classification_report(y, y_pred))"
      ],
      "execution_count": null,
      "outputs": [
        {
          "output_type": "stream",
          "text": [
            "Classification Report:\n",
            "              precision    recall  f1-score   support\n",
            "\n",
            "           0       0.98      1.00      0.99       980\n",
            "           1       0.99      1.00      1.00      1135\n",
            "           2       1.00      0.99      1.00      1032\n",
            "           3       0.99      1.00      0.99      1010\n",
            "           4       1.00      0.99      0.99       982\n",
            "           5       1.00      0.99      0.99       892\n",
            "           6       1.00      0.99      0.99       958\n",
            "           7       0.99      1.00      0.99      1028\n",
            "           8       0.99      0.99      0.99       974\n",
            "           9       0.99      0.99      0.99      1009\n",
            "\n",
            "    accuracy                           0.99     10000\n",
            "   macro avg       0.99      0.99      0.99     10000\n",
            "weighted avg       0.99      0.99      0.99     10000\n",
            "\n"
          ],
          "name": "stdout"
        }
      ]
    },
    {
      "cell_type": "code",
      "metadata": {
        "id": "CSQJSZ-h-DYt"
      },
      "source": [
        ""
      ],
      "execution_count": null,
      "outputs": []
    }
  ]
}